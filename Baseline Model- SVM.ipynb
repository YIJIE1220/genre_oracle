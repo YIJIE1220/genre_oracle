{
 "cells": [
  {
   "cell_type": "markdown",
   "metadata": {},
   "source": [
    "# Prepare the dataframe for SVM"
   ]
  },
  {
   "cell_type": "code",
   "execution_count": 22,
   "metadata": {},
   "outputs": [],
   "source": [
    "import pandas as pd\n",
    "import nltk\n",
    "from pandas import DataFrame,Series"
   ]
  },
  {
   "cell_type": "code",
   "execution_count": null,
   "metadata": {},
   "outputs": [],
   "source": [
    "df_lyrics=pd.read_csv(\"lyrics_cleaned_desc_by_count.csv\")\n",
    "df_lyrics=df_lyrics[['track_id','word','count']]\n",
    "df_lyrics.head()"
   ]
  },
  {
   "cell_type": "code",
   "execution_count": null,
   "metadata": {},
   "outputs": [],
   "source": [
    "df_tag=pd.read_csv(\"merged_dropdup.csv\")\n",
    "df_tag=df_tag[['track_id','genre_merged','song_name_cleaned','album_name','artist_id','artist_name','duration','artist_familiarity','year']]\n",
    "df_tag=df_tag[df_tag['duration']>=150]\n",
    "df_tag.head()"
   ]
  },
  {
   "cell_type": "code",
   "execution_count": null,
   "metadata": {},
   "outputs": [],
   "source": [
    "df_tag_test=df_tag"
   ]
  },
  {
   "cell_type": "code",
   "execution_count": null,
   "metadata": {},
   "outputs": [],
   "source": [
    "df_tag_test['genre_merged'].replace({'rock':0,'hiphop':1,'pop':2,'metal':3,'indie':4,'rap':5,'punk':6,'country':7,'soul':8,'folk':9,'electronic':10,'classic rock':11,'jazz':12,'blues':13},inplace=True)\n",
    "df_tag_test.head()"
   ]
  },
  {
   "cell_type": "code",
   "execution_count": null,
   "metadata": {},
   "outputs": [],
   "source": [
    "df_tag_test.describe()"
   ]
  },
  {
   "cell_type": "code",
   "execution_count": null,
   "metadata": {},
   "outputs": [],
   "source": [
    "df_tag_test.shape"
   ]
  },
  {
   "cell_type": "code",
   "execution_count": null,
   "metadata": {},
   "outputs": [],
   "source": [
    "df_tag_dd=df_tag_test[['track_id','genre_merged']]\n",
    "df_lyrics=df_lyrics.merge(df_tag_dd,left_on='track_id',right_on='track_id',how='left')\n",
    "df_lyrics=df_lyrics[~df_lyrics['genre_merged'].isna()]\n",
    "df_lyrics.head()"
   ]
  },
  {
   "cell_type": "code",
   "execution_count": null,
   "metadata": {},
   "outputs": [],
   "source": [
    "# print(\"old_shape:\",df_lyrics.shape)\n",
    "# df_svm_column=df_lyrics.drop_duplicates(subset='word')\n",
    "# print(\"new_shape:\",df_svm_column.shape)"
   ]
  },
  {
   "cell_type": "markdown",
   "metadata": {},
   "source": [
    "Since we only choose 1500 songs by three genres, but they have 4495 words, which means,\n",
    "the column number is larger than the row numbers,so we should decrease the number of the columns\n",
    "by gitting rid of the unpopular words."
   ]
  },
  {
   "cell_type": "code",
   "execution_count": null,
   "metadata": {},
   "outputs": [],
   "source": [
    "df_words=df_lyrics.groupby(['word'])['count'].sum().to_frame()\n",
    "# df_words=df_words[df_words['count']>=83]\n",
    "# df_words.shape=(497*4), change the 110 to 50 to get 989 columns, or change it to 30 to get 1446 columns.\n",
    "df_words.shape"
   ]
  },
  {
   "cell_type": "code",
   "execution_count": null,
   "metadata": {},
   "outputs": [],
   "source": [
    "df_words=df_words.sort_values(by=['count'],ascending=False)\n",
    "df_words=df_words.T\n",
    "df_words.head()"
   ]
  },
  {
   "cell_type": "code",
   "execution_count": null,
   "metadata": {},
   "outputs": [],
   "source": [
    "col_name = df_words.columns.tolist()\n",
    "col_name.insert(0,'track_id')\n",
    "col_name.insert(len(col_name),'tag')\n",
    "df_words=df_words.reindex(columns=col_name)\n",
    "df_words.index = range(len(df_words))\n",
    "df_words"
   ]
  },
  {
   "cell_type": "code",
   "execution_count": null,
   "metadata": {},
   "outputs": [],
   "source": [
    "# this cell will run for 5hours, or you can just jump to 'clean the data' to read the result from .csv\n",
    "for i in range(df_tag_test.shape[0]):\n",
    "    df_words.loc[i]=0\n",
    "    track_id_now=df_words.iloc[i,0]=df_tag_dd.iloc[i,0]\n",
    "    df_words.iloc[i,-1]=df_tag_dd.iloc[i,1]\n",
    "    print(i) \n",
    "    df_test1=df_lyrics[df_lyrics['track_id']==track_id_now]\n",
    "    for word in df_test1['word']:\n",
    "        if word in col_name[1:-1]:\n",
    "            df_words.loc[i,word]=df_test1['count'][df_test1['word']==word].iloc[0]"
   ]
  },
  {
   "cell_type": "code",
   "execution_count": null,
   "metadata": {},
   "outputs": [],
   "source": [
    "df_words1=df_words\n",
    "df_words1.shape"
   ]
  },
  {
   "cell_type": "code",
   "execution_count": null,
   "metadata": {},
   "outputs": [],
   "source": [
    "df_words1.to_csv('svm_table.csv')"
   ]
  },
  {
   "cell_type": "markdown",
   "metadata": {},
   "source": [
    "# clean the svm data"
   ]
  },
  {
   "cell_type": "code",
   "execution_count": 63,
   "metadata": {},
   "outputs": [
    {
     "data": {
      "text/html": [
       "<div>\n",
       "<style scoped>\n",
       "    .dataframe tbody tr th:only-of-type {\n",
       "        vertical-align: middle;\n",
       "    }\n",
       "\n",
       "    .dataframe tbody tr th {\n",
       "        vertical-align: top;\n",
       "    }\n",
       "\n",
       "    .dataframe thead th {\n",
       "        text-align: right;\n",
       "    }\n",
       "</style>\n",
       "<table border=\"1\" class=\"dataframe\">\n",
       "  <thead>\n",
       "    <tr style=\"text-align: right;\">\n",
       "      <th></th>\n",
       "      <th>like</th>\n",
       "      <th>know</th>\n",
       "      <th>get</th>\n",
       "      <th>love</th>\n",
       "      <th>got</th>\n",
       "      <th>go</th>\n",
       "      <th>time</th>\n",
       "      <th>one</th>\n",
       "      <th>come</th>\n",
       "      <th>see</th>\n",
       "      <th>...</th>\n",
       "      <th>olvidart</th>\n",
       "      <th>rua</th>\n",
       "      <th>får</th>\n",
       "      <th>ingent</th>\n",
       "      <th>olla</th>\n",
       "      <th>weet</th>\n",
       "      <th>mitä</th>\n",
       "      <th>lua</th>\n",
       "      <th>nooit</th>\n",
       "      <th>coraz</th>\n",
       "    </tr>\n",
       "  </thead>\n",
       "  <tbody>\n",
       "    <tr>\n",
       "      <th>0</th>\n",
       "      <td>7</td>\n",
       "      <td>4</td>\n",
       "      <td>1</td>\n",
       "      <td>2</td>\n",
       "      <td>1</td>\n",
       "      <td>2</td>\n",
       "      <td>1</td>\n",
       "      <td>11</td>\n",
       "      <td>0</td>\n",
       "      <td>0</td>\n",
       "      <td>...</td>\n",
       "      <td>0</td>\n",
       "      <td>0</td>\n",
       "      <td>0</td>\n",
       "      <td>0</td>\n",
       "      <td>0</td>\n",
       "      <td>0</td>\n",
       "      <td>0</td>\n",
       "      <td>0</td>\n",
       "      <td>0</td>\n",
       "      <td>0</td>\n",
       "    </tr>\n",
       "    <tr>\n",
       "      <th>1</th>\n",
       "      <td>2</td>\n",
       "      <td>8</td>\n",
       "      <td>4</td>\n",
       "      <td>0</td>\n",
       "      <td>1</td>\n",
       "      <td>0</td>\n",
       "      <td>5</td>\n",
       "      <td>1</td>\n",
       "      <td>0</td>\n",
       "      <td>0</td>\n",
       "      <td>...</td>\n",
       "      <td>0</td>\n",
       "      <td>0</td>\n",
       "      <td>0</td>\n",
       "      <td>0</td>\n",
       "      <td>0</td>\n",
       "      <td>0</td>\n",
       "      <td>0</td>\n",
       "      <td>0</td>\n",
       "      <td>0</td>\n",
       "      <td>0</td>\n",
       "    </tr>\n",
       "    <tr>\n",
       "      <th>2</th>\n",
       "      <td>4</td>\n",
       "      <td>4</td>\n",
       "      <td>5</td>\n",
       "      <td>6</td>\n",
       "      <td>0</td>\n",
       "      <td>2</td>\n",
       "      <td>4</td>\n",
       "      <td>3</td>\n",
       "      <td>1</td>\n",
       "      <td>1</td>\n",
       "      <td>...</td>\n",
       "      <td>0</td>\n",
       "      <td>0</td>\n",
       "      <td>0</td>\n",
       "      <td>0</td>\n",
       "      <td>0</td>\n",
       "      <td>0</td>\n",
       "      <td>0</td>\n",
       "      <td>0</td>\n",
       "      <td>0</td>\n",
       "      <td>0</td>\n",
       "    </tr>\n",
       "    <tr>\n",
       "      <th>3</th>\n",
       "      <td>4</td>\n",
       "      <td>3</td>\n",
       "      <td>2</td>\n",
       "      <td>0</td>\n",
       "      <td>4</td>\n",
       "      <td>0</td>\n",
       "      <td>2</td>\n",
       "      <td>5</td>\n",
       "      <td>3</td>\n",
       "      <td>3</td>\n",
       "      <td>...</td>\n",
       "      <td>0</td>\n",
       "      <td>0</td>\n",
       "      <td>0</td>\n",
       "      <td>0</td>\n",
       "      <td>0</td>\n",
       "      <td>0</td>\n",
       "      <td>0</td>\n",
       "      <td>0</td>\n",
       "      <td>0</td>\n",
       "      <td>0</td>\n",
       "    </tr>\n",
       "    <tr>\n",
       "      <th>4</th>\n",
       "      <td>0</td>\n",
       "      <td>1</td>\n",
       "      <td>0</td>\n",
       "      <td>1</td>\n",
       "      <td>1</td>\n",
       "      <td>2</td>\n",
       "      <td>0</td>\n",
       "      <td>0</td>\n",
       "      <td>14</td>\n",
       "      <td>0</td>\n",
       "      <td>...</td>\n",
       "      <td>0</td>\n",
       "      <td>0</td>\n",
       "      <td>0</td>\n",
       "      <td>0</td>\n",
       "      <td>0</td>\n",
       "      <td>0</td>\n",
       "      <td>0</td>\n",
       "      <td>0</td>\n",
       "      <td>0</td>\n",
       "      <td>0</td>\n",
       "    </tr>\n",
       "  </tbody>\n",
       "</table>\n",
       "<p>5 rows × 4873 columns</p>\n",
       "</div>"
      ],
      "text/plain": [
       "   like  know  get  love  got  go  time  one  come  see  ...    olvidart  rua  \\\n",
       "0     7     4    1     2    1   2     1   11     0    0  ...           0    0   \n",
       "1     2     8    4     0    1   0     5    1     0    0  ...           0    0   \n",
       "2     4     4    5     6    0   2     4    3     1    1  ...           0    0   \n",
       "3     4     3    2     0    4   0     2    5     3    3  ...           0    0   \n",
       "4     0     1    0     1    1   2     0    0    14    0  ...           0    0   \n",
       "\n",
       "   får  ingent  olla  weet  mitä  lua  nooit  coraz  \n",
       "0    0       0     0     0     0    0      0      0  \n",
       "1    0       0     0     0     0    0      0      0  \n",
       "2    0       0     0     0     0    0      0      0  \n",
       "3    0       0     0     0     0    0      0      0  \n",
       "4    0       0     0     0     0    0      0      0  \n",
       "\n",
       "[5 rows x 4873 columns]"
      ]
     },
     "execution_count": 63,
     "metadata": {},
     "output_type": "execute_result"
    }
   ],
   "source": [
    "df_svm_pp=pd.read_csv(\"svm_table.csv\")\n",
    "df_svm_pp.head()\n",
    "col_name_new = df_svm_pp.columns.tolist()\n",
    "col_name2=col_name_new[3:-1]\n",
    "X=df_svm_pp.reindex(columns=col_name2)\n",
    "X.head()"
   ]
  },
  {
   "cell_type": "code",
   "execution_count": 24,
   "metadata": {},
   "outputs": [
    {
     "data": {
      "text/plain": [
       "0    1\n",
       "1    1\n",
       "2    5\n",
       "3    1\n",
       "4    0\n",
       "Name: tag.1, dtype: int64"
      ]
     },
     "execution_count": 24,
     "metadata": {},
     "output_type": "execute_result"
    }
   ],
   "source": [
    "y=df_svm_pp['tag.1']\n",
    "y.head()"
   ]
  },
  {
   "cell_type": "code",
   "execution_count": 7,
   "metadata": {},
   "outputs": [
    {
     "name": "stdout",
     "output_type": "stream",
     "text": [
      "<class 'pandas.core.series.Series'>\n"
     ]
    }
   ],
   "source": [
    "print(type(y))"
   ]
  },
  {
   "cell_type": "markdown",
   "metadata": {},
   "source": [
    "# SVM"
   ]
  },
  {
   "cell_type": "code",
   "execution_count": 56,
   "metadata": {},
   "outputs": [],
   "source": [
    "import numpy as np\n",
    "import matplotlib.pyplot as plt\n",
    "from sklearn.svm import LinearSVC,SVC\n",
    "from sklearn.model_selection import train_test_split\n",
    "from sklearn.datasets import make_classification\n",
    "from sklearn import metrics\n",
    "from sklearn.multiclass import OneVsOneClassifier\n",
    "from sklearn.linear_model import LinearRegression\n",
    "import os \n",
    "import sys\n",
    "from sklearn.datasets import load_svmlight_file\n",
    "from sklearn.preprocessing import LabelBinarizer\n",
    "from sklearn.preprocessing import MultiLabelBinarizer\n",
    "from sklearn.linear_model import LogisticRegression\n",
    "from sklearn import metrics"
   ]
  },
  {
   "cell_type": "code",
   "execution_count": 10,
   "metadata": {},
   "outputs": [],
   "source": [
    "from sklearn.model_selection import train_test_split\n",
    "[X_train,X_test,y_train,y_test]=train_test_split(X,y,test_size=.4,random_state=0)"
   ]
  },
  {
   "cell_type": "code",
   "execution_count": 11,
   "metadata": {},
   "outputs": [
    {
     "name": "stdout",
     "output_type": "stream",
     "text": [
      "0.38581612586037367\n"
     ]
    }
   ],
   "source": [
    "# OneVsRestClassifier + LinearSVC\n",
    "from sklearn.multiclass import OneVsRestClassifier\n",
    "y_pred=OneVsRestClassifier(LinearSVC(random_state = 0)).fit(X_train,y_train).predict(X_test)\n",
    "print(metrics.accuracy_score(y_test, y_pred))"
   ]
  },
  {
   "cell_type": "code",
   "execution_count": 12,
   "metadata": {},
   "outputs": [
    {
     "name": "stdout",
     "output_type": "stream",
     "text": [
      "0.5159783677482792\n"
     ]
    }
   ],
   "source": [
    "# OneVsRestClassifier + LogisticRegression\n",
    "clf = OneVsRestClassifier(LogisticRegression(),n_jobs=-1)\n",
    "clf.fit(X_train,y_train)\n",
    "y_pred = clf.predict(X_test)\n",
    "print(metrics.accuracy_score(y_test, y_pred))"
   ]
  },
  {
   "cell_type": "code",
   "execution_count": 15,
   "metadata": {},
   "outputs": [
    {
     "data": {
      "text/plain": [
       "(-1, 15)"
      ]
     },
     "execution_count": 15,
     "metadata": {},
     "output_type": "execute_result"
    },
    {
     "data": {
      "image/png": "[encoded data removed]",
      "text/plain": [
       "<matplotlib.figure.Figure at 0x1a13f58518>"
      ]
     },
     "metadata": {},
     "output_type": "display_data"
    }
   ],
   "source": [
    "plt.scatter(y_test,y_pred,alpha=0.02)\n",
    "plt.xlabel('test')\n",
    "plt.ylabel('pred')\n",
    "plt.xlim(-1, 15)"
   ]
  },
  {
   "cell_type": "markdown",
   "metadata": {},
   "source": [
    "'rock':0,'hiphop':1,'pop':2,'metal':3,'indie':4,'rap':5,'punk':6,'country':7,'soul':8, 'folk':9,'electronic':10,'classic rock':11,'jazz':12,'blues':13 \n",
    "\n",
    "ranked by number of words in each genre"
   ]
  },
  {
   "cell_type": "code",
   "execution_count": 140,
   "metadata": {},
   "outputs": [
    {
     "name": "stdout",
     "output_type": "stream",
     "text": [
      "0.7154621435594887\n"
     ]
    }
   ],
   "source": [
    "# OneVsOneClassifier + LogisticRegression\n",
    "clf = OneVsOneClassifier(LogisticRegression(),n_jobs=-1)\n",
    "clf.fit(X_train,y_train)\n",
    "y_pred = clf.predict(X_test)\n",
    "print(metrics.accuracy_score(y_test, y_pred))"
   ]
  },
  {
   "cell_type": "code",
   "execution_count": 16,
   "metadata": {},
   "outputs": [
    {
     "name": "stdout",
     "output_type": "stream",
     "text": [
      "0.7198869223205506\n"
     ]
    }
   ],
   "source": [
    "# OneVsOneClassifier + LinearSVC\n",
    "y_pred=OneVsOneClassifier(LinearSVC(random_state = 0)).fit(X_train,y_train).predict(X_test)\n",
    "print(metrics.accuracy_score(y_test, y_pred))"
   ]
  },
  {
   "cell_type": "code",
   "execution_count": 18,
   "metadata": {},
   "outputs": [
    {
     "data": {
      "text/plain": [
       "(-1, 14)"
      ]
     },
     "execution_count": 18,
     "metadata": {},
     "output_type": "execute_result"
    },
    {
     "data": {
      "image/png": "[encoded data removed]",
      "text/plain": [
       "<matplotlib.figure.Figure at 0x1a14b03d30>"
      ]
     },
     "metadata": {},
     "output_type": "display_data"
    }
   ],
   "source": [
    "plt.scatter(y_test,y_pred,alpha=0.02)\n",
    "plt.xlabel('test')\n",
    "plt.ylabel('pred')\n",
    "plt.xlim(-1, 14)"
   ]
  },
  {
   "cell_type": "markdown",
   "metadata": {},
   "source": [
    "'rock':0,'hiphop':1,'pop':2,'metal':3,'indie':4,'rap':5,'punk':6,'country':7,'soul':8, 'folk':9,'electronic':10,'classic rock':11,'jazz':12,'blues':13 \n",
    "\n",
    "ranked by number of words in each genre"
   ]
  },
  {
   "cell_type": "markdown",
   "metadata": {},
   "source": [
    "# Linear Regression\n"
   ]
  },
  {
   "cell_type": "code",
   "execution_count": 25,
   "metadata": {},
   "outputs": [
    {
     "name": "stdout",
     "output_type": "stream",
     "text": [
      "0.09599311701081613\n"
     ]
    }
   ],
   "source": [
    "clf = OneVsOneClassifier(LinearRegression(),n_jobs=-1)\n",
    "clf.fit(X_train,y_train)\n",
    "y_pred = clf.predict(X_test)\n",
    "print(metrics.accuracy_score(y_test, y_pred))"
   ]
  },
  {
   "cell_type": "markdown",
   "metadata": {},
   "source": [
    "The score of Linear Regression is 9.60%"
   ]
  },
  {
   "cell_type": "markdown",
   "metadata": {},
   "source": [
    "# KNeighborsClassifier"
   ]
  },
  {
   "cell_type": "code",
   "execution_count": 16,
   "metadata": {},
   "outputs": [],
   "source": [
    "from sklearn.neighbors import KNeighborsClassifier\n",
    "from sklearn.model_selection import cross_val_score\n",
    "from sklearn.model_selection import train_test_split\n",
    "from sklearn import metrics\n",
    "[X_train,X_test,y_train,y_test]=train_test_split(X,y,test_size=.4,random_state=4)"
   ]
  },
  {
   "cell_type": "code",
   "execution_count": 26,
   "metadata": {},
   "outputs": [],
   "source": [
    "k_range = list(range(1, 26))\n",
    "scores = []\n",
    "for k in k_range:\n",
    "    prin(k)\n",
    "    knn = KNeighborsClassifier(n_neighbors=k)\n",
    "    knn.fit(X_train, y_train)\n",
    "    y_pred = knn.predict(X_test)\n",
    "    scores.append(metrics.accuracy_score(y_test, y_pred))"
   ]
  },
  {
   "cell_type": "code",
   "execution_count": 31,
   "metadata": {},
   "outputs": [
    {
     "data": {
      "text/plain": [
       "Text(0,0.5,'Testing Accuracy')"
      ]
     },
     "execution_count": 31,
     "metadata": {},
     "output_type": "execute_result"
    },
    {
     "data": {
      "image/png": "[encoded data removed]",
      "text/plain": [
       "<matplotlib.figure.Figure at 0x1a2002df28>"
      ]
     },
     "metadata": {},
     "output_type": "display_data"
    }
   ],
   "source": [
    "plt.plot(k_range, scores)\n",
    "plt.xlabel('Value of K for KNN')\n",
    "plt.ylabel('Testing Accuracy')"
   ]
  },
  {
   "cell_type": "code",
   "execution_count": 32,
   "metadata": {},
   "outputs": [
    {
     "data": {
      "text/plain": [
       "[0.35963618485742377,\n",
       " 0.3724188790560472,\n",
       " 0.36922320550639137,\n",
       " 0.3918387413962635,\n",
       " 0.4006882989183874,\n",
       " 0.40880039331366763,\n",
       " 0.408677482792527,\n",
       " 0.41138151425762043,\n",
       " 0.41629793510324486,\n",
       " 0.41752704031465093,\n",
       " 0.42121435594886925,\n",
       " 0.4221976401179941,\n",
       " 0.4234267453294002,\n",
       " 0.4251474926253687,\n",
       " 0.42158308751229107,\n",
       " 0.4271140609636185,\n",
       " 0.4273598820058997,\n",
       " 0.4277286135693215,\n",
       " 0.42908062930186824,\n",
       " 0.4278515240904621,\n",
       " 0.42932645034414946,\n",
       " 0.4277286135693215,\n",
       " 0.4277286135693215,\n",
       " 0.4273598820058997,\n",
       " 0.4287118977384464]"
      ]
     },
     "execution_count": 32,
     "metadata": {},
     "output_type": "execute_result"
    }
   ],
   "source": [
    "scores"
   ]
  },
  {
   "cell_type": "markdown",
   "metadata": {},
   "source": [
    "The best score of knn is 42.93%"
   ]
  }
 ],
 "metadata": {
  "kernelspec": {
   "display_name": "Python 3",
   "language": "python",
   "name": "python3"
  },
  "language_info": {
   "codemirror_mode": {
    "name": "ipython",
    "version": 3
   },
   "file_extension": ".py",
   "mimetype": "text/x-python",
   "name": "python",
   "nbconvert_exporter": "python",
   "pygments_lexer": "ipython3",
   "version": "3.6.4"
  }
 },
 "nbformat": 4,
 "nbformat_minor": 2
}
