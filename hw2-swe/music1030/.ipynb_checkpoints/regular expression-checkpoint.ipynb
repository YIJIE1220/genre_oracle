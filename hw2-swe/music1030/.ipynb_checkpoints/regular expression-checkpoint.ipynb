{
 "cells": [
  {
   "cell_type": "code",
   "execution_count": null,
   "metadata": {},
   "outputs": [],
   "source": [
    "import pandas as pd\n",
    "import re\n",
    "dummy1 = pd.Series(data=['Major Lazer & DJ Snake Featuring MO'])\n",
    "#pruned1 = clean_artist_col(dummy1)\n",
    "#assert pruned1[0] == 'major lazer'\n",
    "dummy2 = pd.Series(data=['Selena Gomez Featuring A$AP Rocky',('Macklemore & Ryan Lewis Featuring Eric Nally,' +'Melle Mel, Kool Moe Dee & Grandmaster Caz'),'Young Thug And Travis Scott Featuring Quavo'])\n",
    "#pruned2 = clean_artist_col(dummy2)\n",
    "#assert pruned2[0] == 'selena gomez'\n",
    "#assert pruned2[1] == 'macklemore'\n",
    "#assert pruned2[2] == 'young thug'\n",
    "dummy3=pd.Series(data=['Jeremih Featuring J. Cole'])\n",
    "dummy4=pd.Series(data=['The Weeknd'])\n",
    "dummy5=pd.Series(data=['Silento'])\n",
    "dummy6=pd.Series(data=['OMI'])\n",
    "dummy7=pd.Series(data=['Silento'])\n",
    "dummy8=pd.Series(data=['David Guetta Featuring Nicki Minaj, Bebe Rexha & Afrojack'])\n",
    "dummy9=pd.Series(data=['WALK THE MOON'])\n",
    "dummy10=pd.Series(data=['5 Seconds Of Summer'])"
   ]
  },
  {
   "cell_type": "code",
   "execution_count": null,
   "metadata": {},
   "outputs": [],
   "source": [
    "artist_name=str(dummy1)\n",
    "re.split('[Ff]eaturing|&|[Aa]nd|,|x|/|,',artist_name)[0]"
   ]
  },
  {
   "cell_type": "code",
   "execution_count": null,
   "metadata": {},
   "outputs": [],
   "source": [
    "artist_name=dummy2\n",
    "artist_name=artist_name.str.lower()\n",
    "artist_name\n"
   ]
  },
  {
   "cell_type": "code",
   "execution_count": null,
   "metadata": {},
   "outputs": [],
   "source": [
    "#re.split(r'[&]',artist_name,1)"
   ]
  },
  {
   "cell_type": "code",
   "execution_count": null,
   "metadata": {},
   "outputs": [],
   "source": [
    "artist_name=artist_name.str.extract('([\\w+\\s]*)&?',expand=False)\n",
    "artist_name\n",
    "#artist_name=artist_name.str.extract('(\\w+\\s?\\w+)\\sfeaturing?',expand=False)"
   ]
  },
  {
   "cell_type": "code",
   "execution_count": null,
   "metadata": {},
   "outputs": [],
   "source": [
    "artist_name=artist_name.str.extract('([\\w+\\s]*)featuring?',expand=False)\n",
    "artist_name"
   ]
  },
  {
   "cell_type": "code",
   "execution_count": null,
   "metadata": {},
   "outputs": [],
   "source": [
    "artist_name=artist_name.str.replace('featuring','')\n",
    "artist_name"
   ]
  },
  {
   "cell_type": "code",
   "execution_count": null,
   "metadata": {},
   "outputs": [],
   "source": [
    "artist_name=artist_name.str.lstrip()\n",
    "artist_name"
   ]
  },
  {
   "cell_type": "code",
   "execution_count": null,
   "metadata": {},
   "outputs": [],
   "source": [
    "df = pandas.read_csv('hot100.csv')\n",
    "\n"
   ]
  },
  {
   "cell_type": "code",
   "execution_count": null,
   "metadata": {},
   "outputs": [],
   "source": [
    "from numpy import *\n",
    "common=zeros([2,3])\n",
    "common"
   ]
  },
  {
   "cell_type": "code",
   "execution_count": null,
   "metadata": {},
   "outputs": [],
   "source": [
    "left = pd.DataFrame(['sipping on fire'], columns=['song'])\n",
    "right = pd.DataFrame(['sippin’ on fire'], columns=['song'])\n",
    "on=['song']\n",
    "#actual = fuzzy_merge(df1, df2, on=['song'])\n",
    "#expected = pd.DataFrame([('sipping on fire', 'sippin’ on fire')],columns=['song_x', 'song_y'])"
   ]
  },
  {
   "cell_type": "code",
   "execution_count": null,
   "metadata": {},
   "outputs": [],
   "source": [
    "for i in range(0,shape(left)[0]):\n",
    "    score=[]\n",
    "    ind=-1\n",
    "    for j in range(0,shape(right)[0]):\n",
    "        score_now=jaccard_similarity(str(left[on].iloc[i,:]),str(right[on].iloc[j,:]))\n",
    "        print(score_now)\n",
    "        score.append(score_now)\n",
    "    ind=score.index(max(score))\n",
    "    print(ind)\n",
    "    right[on].iloc[j,:]=right[on].iloc[ind,:]\n",
    "result = pd.concat([left, right], axis=1)\n",
    "result.columns = ['song_x', 'song_y']\n",
    "print(result)"
   ]
  },
  {
   "cell_type": "code",
   "execution_count": null,
   "metadata": {},
   "outputs": [],
   "source": [
    "#test_fuzzy_merge_string_inde:\n",
    "left = pd.DataFrame({'song':['sipping on fire'],'artist':['abs']}, index=['a'])\n",
    "right= pd.DataFrame({'song':['sippinn on fire'],'artist':['abs']},index=['b'])\n",
    "on=['song','artists']\n",
    "left\n",
    "#expected = pd.DataFrame([('sipping on fire', 'sippin’ on fire')],columns=['song_x', 'song_y'])\n"
   ]
  },
  {
   "cell_type": "code",
   "execution_count": null,
   "metadata": {},
   "outputs": [],
   "source": [
    "for i in left.index:\n",
    "    print(left.loc[i,on[0]])"
   ]
  },
  {
   "cell_type": "code",
   "execution_count": null,
   "metadata": {},
   "outputs": [],
   "source": [
    "left.loc['a',on]"
   ]
  },
  {
   "cell_type": "code",
   "execution_count": null,
   "metadata": {},
   "outputs": [],
   "source": [
    "sc=pd.DataFrame(data=['absd','0.86'],index=['a'],columns=['song2','sc'])"
   ]
  },
  {
   "cell_type": "code",
   "execution_count": null,
   "metadata": {},
   "outputs": [],
   "source": [
    "sc=pd.DataFrame({'score':['0.86'],'song2':['absd']},index=['a'])\n",
    "sc=pd.DataFrame({'score':['0.85'],'song2':['abssd']},index=['b'])\n",
    "on=['score','song2']\n",
    "sc[on]\n"
   ]
  },
  {
   "cell_type": "code",
   "execution_count": null,
   "metadata": {},
   "outputs": [],
   "source": [
    "for i in left.index:\n",
    "    score=pd.DataFrame()\n",
    "    result=left.copy()\n",
    "    print(score)\n",
    "    for j in right.index:\n",
    "        print(j)\n",
    "        for k in range(0,len(on)):\n",
    "            score_now=jaccard_similarity(str(left.loc[i,on[k]]),str(right.loc[j,on[k]]))\n",
    "            print(score_now)\n",
    "            score.loc[j,k]=score_now\n",
    "    score.loc[:,'2']=score.loc[:,'1']+score.loc[:,'0']\n",
    "    ind=score['2'].idxmax\n",
    "    print(\"score_result:\",score)\n",
    "    #for k in range(0,len(on)):\n",
    "        #result.loc[i,on[k]]=right.loc[ind,on[k]]\n",
    "result = pd.concat([left, result], axis=1)\n",
    "result.columns = ['song_x', 'song_y']\n",
    "print(result)"
   ]
  },
  {
   "cell_type": "code",
   "execution_count": 1,
   "metadata": {},
   "outputs": [],
   "source": [
    "#new-gai youyue\n",
    "import pandas as pd\n",
    "import re\n",
    "from numpy import *\n",
    "import numpy as np"
   ]
  },
  {
   "cell_type": "code",
   "execution_count": 2,
   "metadata": {},
   "outputs": [],
   "source": [
    "def jaccard_similarity(a: str,\n",
    "                       b: str) -> float:\n",
    "    \"\"\"Takes in two strings and computes their letter-wise\n",
    "    Jaccard similarity for bags.\n",
    "\n",
    "    Case should be ignored.\n",
    "    \"\"\"\n",
    "    # TODO: Task 3\n",
    "    # YOUR CODE HERE\n",
    "\n",
    "    a=a.lower()\n",
    "    b=b.lower()\n",
    "    len_a = len(a)\n",
    "    len_b = len(b)\n",
    "    common = zeros([len_a, len_b])\n",
    "    for i in range(0, len_a):\n",
    "        common[i][0] = i\n",
    "    for j in range(0, len_b):\n",
    "        common[0][j] = j\n",
    "    if a[0] == b[0]:\n",
    "        common[0][0] = 0\n",
    "    else:\n",
    "        common[0][0] = 1\n",
    "    for i in range(1, len_a):\n",
    "        for j in range(1, len_b):\n",
    "            if a[i] == b[j]:\n",
    "                common[i][j] = common[i - 1][j - 1]\n",
    "            else:\n",
    "                common[i][j] = min(common[i - 1][j], common[i][j - 1], common[i - 1][j - 1]) + 1\n",
    "    edit_dis = common[len_a - 1][len_b - 1]\n",
    "    jaccard = max(len_a, len_b) - edit_dis\n",
    "    jaccard_index = jaccard / (len_a + len_b - jaccard)\n",
    "    return jaccard_index\n"
   ]
  },
  {
   "cell_type": "code",
   "execution_count": 33,
   "metadata": {},
   "outputs": [],
   "source": [
    "lastfm=pd.read_csv(\"lastfm.csv\")\n",
    "spotify=pd.read_csv(\"spotify.csv\")"
   ]
  },
  {
   "cell_type": "code",
   "execution_count": 34,
   "metadata": {},
   "outputs": [
    {
     "data": {
      "text/html": [
       "<div>\n",
       "<style scoped>\n",
       "    .dataframe tbody tr th:only-of-type {\n",
       "        vertical-align: middle;\n",
       "    }\n",
       "\n",
       "    .dataframe tbody tr th {\n",
       "        vertical-align: top;\n",
       "    }\n",
       "\n",
       "    .dataframe thead th {\n",
       "        text-align: right;\n",
       "    }\n",
       "</style>\n",
       "<table border=\"1\" class=\"dataframe\">\n",
       "  <thead>\n",
       "    <tr style=\"text-align: right;\">\n",
       "      <th></th>\n",
       "      <th>main_artist_name</th>\n",
       "      <th>song_name</th>\n",
       "    </tr>\n",
       "  </thead>\n",
       "  <tbody>\n",
       "    <tr>\n",
       "      <th>1310</th>\n",
       "      <td>stereophonics</td>\n",
       "      <td>a thousand trees</td>\n",
       "    </tr>\n",
       "    <tr>\n",
       "      <th>1311</th>\n",
       "      <td>mr. criminal</td>\n",
       "      <td>crime family rollcall (feat. the crime family)</td>\n",
       "    </tr>\n",
       "    <tr>\n",
       "      <th>1312</th>\n",
       "      <td>bright eyes</td>\n",
       "      <td>trees get wheeled away</td>\n",
       "    </tr>\n",
       "    <tr>\n",
       "      <th>1313</th>\n",
       "      <td>richard walters</td>\n",
       "      <td>infinity street</td>\n",
       "    </tr>\n",
       "    <tr>\n",
       "      <th>1314</th>\n",
       "      <td>zoë keating</td>\n",
       "      <td>the last bird</td>\n",
       "    </tr>\n",
       "  </tbody>\n",
       "</table>\n",
       "</div>"
      ],
      "text/plain": [
       "     main_artist_name                                       song_name\n",
       "1310    stereophonics                                a thousand trees\n",
       "1311     mr. criminal  crime family rollcall (feat. the crime family)\n",
       "1312      bright eyes                          trees get wheeled away\n",
       "1313  richard walters                                 infinity street\n",
       "1314      zoë keating                                   the last bird"
      ]
     },
     "execution_count": 34,
     "metadata": {},
     "output_type": "execute_result"
    }
   ],
   "source": [
    "right=lastfm[['main_artist_name','song_name']]\n",
    "spotify_df=spotify[['main_artist_name','song_name']]\n",
    "left = spotify_df[1310:1315]\n",
    "on = ['song_name', 'main_artist_name']\n",
    "left"
   ]
  },
  {
   "cell_type": "code",
   "execution_count": 35,
   "metadata": {},
   "outputs": [
    {
     "name": "stdout",
     "output_type": "stream",
     "text": [
      "a thousand trees\n"
     ]
    }
   ],
   "source": [
    "print(str(left.loc[1310,on[0]]))"
   ]
  },
  {
   "cell_type": "code",
   "execution_count": 36,
   "metadata": {},
   "outputs": [
    {
     "name": "stderr",
     "output_type": "stream",
     "text": [
      "/Users/YIJIE/anaconda3/lib/python3.6/site-packages/IPython/core/interactiveshell.py:2910: SettingWithCopyWarning: \n",
      "A value is trying to be set on a copy of a slice from a DataFrame\n",
      "\n",
      "See the caveats in the documentation: http://pandas.pydata.org/pandas-docs/stable/indexing.html#indexing-view-versus-copy\n",
      "  exec(code_obj, self.user_global_ns, self.user_ns)\n"
     ]
    },
    {
     "name": "stdout",
     "output_type": "stream",
     "text": [
      "result:                  song_name_x main_artist_name_x                 song_name_y  \\\n",
      "162         a thousand trees      stereophonics            a thousand trees   \n",
      "754   trees get wheeled away        bright eyes      trees get wheeled away   \n",
      "1746        a thousand trees      stereophonics     a thousand trees (live)   \n",
      "2010  trees get wheeled away        bright eyes  the trees get wheeled away   \n",
      "\n",
      "     main_artist_name_y  \n",
      "162       stereophonics  \n",
      "754         bright eyes  \n",
      "1746      stereophonics  \n",
      "2010        bright eyes  \n"
     ]
    },
    {
     "name": "stderr",
     "output_type": "stream",
     "text": [
      "/Users/YIJIE/anaconda3/lib/python3.6/site-packages/ipykernel_launcher.py:38: DeprecationWarning: \n",
      ".ix is deprecated. Please use\n",
      ".loc for label based indexing or\n",
      ".iloc for positional indexing\n",
      "\n",
      "See the documentation here:\n",
      "http://pandas.pydata.org/pandas-docs/stable/indexing.html#ix-indexer-is-deprecated\n"
     ]
    }
   ],
   "source": [
    "temp=right\n",
    "right=left\n",
    "left=temp\n",
    "\n",
    "result_copy = left[on]\n",
    "for i in left.index:\n",
    "    lst=[]\n",
    "    ind=[]\n",
    "    for j in right.index:\n",
    "        score=0\n",
    "        for k in range(len(on)):\n",
    "            score += jaccard_similarity(str(left.loc[i,on[k]]), str(right.loc[j,on[k]]))\n",
    "        lst.append(score)\n",
    "        ind.append(j)\n",
    "    indx = lst.index(max(lst))\n",
    "    indx_real=ind[indx]\n",
    "    most_similar_index = max(lst)\n",
    "    #print(\"indx_real:\",indx_real,\"most_similar_index:\",most_similar_index)\n",
    "    if most_similar_index <= 0.8*len(on):\n",
    "        for k in range(len(on)):\n",
    "            result_copy[on[k]][i] = np.nan\n",
    "    else:\n",
    "        for k in range(len(on)):\n",
    "            result_copy.loc[i,on[k]] = right.loc[indx_real,on[k]]\n",
    "result = pd.concat([left[on], result_copy], axis=1, ignore_index=True)\n",
    "result.index = range(len(result))\n",
    "if len(on)==1:\n",
    "    result.columns=['song_y','song_x']\n",
    "    cols=list(result)\n",
    "    cols.insert(0,cols.pop(cols.index('song_x')))\n",
    "    result=result.ix[:,cols]\n",
    "    result=result.dropna(subset=['song_x'])\n",
    "elif len(on)==2:\n",
    "    result.columns=['song_name_y','main_artist_name_y','song_name_x','main_artist_name_x']\n",
    "    cols=list(result)\n",
    "    cols.insert(0,cols.pop(cols.index('song_name_x')))\n",
    "    cols.insert(1,cols.pop(cols.index('main_artist_name_x')))\n",
    "    result=result.ix[:,cols]\n",
    "    result=result.dropna(subset=['main_artist_name_x','song_name_x'])\n",
    "    print(\"result:\",result)\n",
    "    \n",
    "\n",
    "\n"
   ]
  },
  {
   "cell_type": "code",
   "execution_count": 31,
   "metadata": {},
   "outputs": [
    {
     "data": {
      "text/html": [
       "<div>\n",
       "<style scoped>\n",
       "    .dataframe tbody tr th:only-of-type {\n",
       "        vertical-align: middle;\n",
       "    }\n",
       "\n",
       "    .dataframe tbody tr th {\n",
       "        vertical-align: top;\n",
       "    }\n",
       "\n",
       "    .dataframe thead th {\n",
       "        text-align: right;\n",
       "    }\n",
       "</style>\n",
       "<table border=\"1\" class=\"dataframe\">\n",
       "  <thead>\n",
       "    <tr style=\"text-align: right;\">\n",
       "      <th></th>\n",
       "      <th>song_name_x</th>\n",
       "      <th>main_artist_name_x</th>\n",
       "      <th>song_name_y</th>\n",
       "      <th>main_artist_name_y</th>\n",
       "    </tr>\n",
       "  </thead>\n",
       "  <tbody>\n",
       "    <tr>\n",
       "      <th>162</th>\n",
       "      <td>a thousand trees</td>\n",
       "      <td>stereophonics</td>\n",
       "      <td>a thousand trees</td>\n",
       "      <td>stereophonics</td>\n",
       "    </tr>\n",
       "    <tr>\n",
       "      <th>754</th>\n",
       "      <td>trees get wheeled away</td>\n",
       "      <td>bright eyes</td>\n",
       "      <td>trees get wheeled away</td>\n",
       "      <td>bright eyes</td>\n",
       "    </tr>\n",
       "    <tr>\n",
       "      <th>1746</th>\n",
       "      <td>a thousand trees</td>\n",
       "      <td>stereophonics</td>\n",
       "      <td>a thousand trees (live)</td>\n",
       "      <td>stereophonics</td>\n",
       "    </tr>\n",
       "    <tr>\n",
       "      <th>2010</th>\n",
       "      <td>trees get wheeled away</td>\n",
       "      <td>bright eyes</td>\n",
       "      <td>the trees get wheeled away</td>\n",
       "      <td>bright eyes</td>\n",
       "    </tr>\n",
       "  </tbody>\n",
       "</table>\n",
       "</div>"
      ],
      "text/plain": [
       "                 song_name_x main_artist_name_x                 song_name_y  \\\n",
       "162         a thousand trees      stereophonics            a thousand trees   \n",
       "754   trees get wheeled away        bright eyes      trees get wheeled away   \n",
       "1746        a thousand trees      stereophonics     a thousand trees (live)   \n",
       "2010  trees get wheeled away        bright eyes  the trees get wheeled away   \n",
       "\n",
       "     main_artist_name_y  \n",
       "162       stereophonics  \n",
       "754         bright eyes  \n",
       "1746      stereophonics  \n",
       "2010        bright eyes  "
      ]
     },
     "execution_count": 31,
     "metadata": {},
     "output_type": "execute_result"
    }
   ],
   "source": [
    "result"
   ]
  },
  {
   "cell_type": "code",
   "execution_count": 37,
   "metadata": {},
   "outputs": [
    {
     "data": {
      "text/plain": [
       "162     False\n",
       "754     False\n",
       "1746    False\n",
       "2010     True\n",
       "dtype: bool"
      ]
     },
     "execution_count": 37,
     "metadata": {},
     "output_type": "execute_result"
    }
   ],
   "source": [
    "actual=result\n",
    "mask = ((actual['song_name_x'] == 'trees get wheeled away') &\n",
    "             (actual['song_name_y'] == 'the trees get wheeled away'))\n",
    "mask"
   ]
  },
  {
   "cell_type": "code",
   "execution_count": 38,
   "metadata": {},
   "outputs": [
    {
     "data": {
      "text/plain": [
       "1"
      ]
     },
     "execution_count": 38,
     "metadata": {},
     "output_type": "execute_result"
    }
   ],
   "source": [
    "len(actual[mask])"
   ]
  },
  {
   "cell_type": "code",
   "execution_count": null,
   "metadata": {},
   "outputs": [],
   "source": []
  }
 ],
 "metadata": {
  "kernelspec": {
   "display_name": "Python 3",
   "language": "python",
   "name": "python3"
  },
  "language_info": {
   "codemirror_mode": {
    "name": "ipython",
    "version": 3
   },
   "file_extension": ".py",
   "mimetype": "text/x-python",
   "name": "python",
   "nbconvert_exporter": "python",
   "pygments_lexer": "ipython3",
   "version": "3.6.4"
  }
 },
 "nbformat": 4,
 "nbformat_minor": 2
}
