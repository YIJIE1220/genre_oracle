{
 "cells": [
  {
   "cell_type": "markdown",
   "metadata": {
    "nbgrader": {
     "grade": false,
     "grade_id": "cell-463c5c889460b7d4",
     "locked": true,
     "schema_version": 1.0,
     "solution": false
    }
   },
   "source": [
    "# Introduction to Notebooks and Pandas\n",
    "\n",
    "\n",
    "## Today's Goals:\n",
    "\n",
    "* Familiarize yourself with Jupyter Notebook and _pandas_\n",
    "* Practice thinking like a data scientist\n",
    "\n",
    "## Motivation\n",
    "\n",
    "Nearly all data science teams use or have used Jupyter Notebook. In addition, _pandas_ is the go-to Python library for exploratory data analysis and data preparation. As it is nearly impossible to avoid these tools as a data scientist using Python, it will pay off to master them early on.\n",
    "\n",
    "__If you are already familiar with these tools, think of this lab as practice.__ It is hard to maintain a high level of proficiency with Jupyter and _pandas_ without a decent time commitment.\n",
    "\n",
    "While the above practical skills are useful, it is important to note that the biggest problems data science teams face are often non-technical in nature. Uninformed stakeholders, poorly chosen use-cases of data science, and bad managers damage data science teams much more than a junior data scientist's lack of ML expertise. Since our course is \"the CS course\" of this program, we will not discuss this much. However, we do hope that you think about such issues frequently (especially in the projects).\n",
    " \n",
    "## Outcomes\n",
    "\n",
    "By the end of this lab, you will have the basic skillset needed to do exploratory data analysis with Python. You will be able to load, visualize, and transform data with _pandas_. In addition you will be able to share your own code, comments, and visualizations with others through Jupyter Notebook.\n",
    "\n",
    "## Grading\n",
    "\n",
    "You should get checked-off by a TA towards the end of the lab. If you do not get checked off, send luke_zhu@brown.edu an email with a GitHub link to `part1.ipynb`. Make sure to share your files with your partner."
   ]
  },
  {
   "cell_type": "markdown",
   "metadata": {
    "nbgrader": {
     "grade": false,
     "grade_id": "cell-45410a0be0f29bf4",
     "locked": true,
     "schema_version": 1.0,
     "solution": false
    }
   },
   "source": [
    "### Getting started with Jupyter Notebook\n",
    "\n",
    "PyCharm has a simplified notebook UI built in. _We recommend you use this for now_.\n",
    "\n",
    "The green \"run\" button runs a cell. A cell delineated by an outlined rectangle.\n",
    "\n",
    "_Note:_ The links PyCharm's notebook interface do not work. You should double click the cell and copy-paste\n",
    "the content into the browser."
   ]
  },
  {
   "cell_type": "code",
   "execution_count": 1,
   "metadata": {
    "nbgrader": {
     "grade": false,
     "grade_id": "cell-da036e6f2b1a9761",
     "locked": true,
     "schema_version": 1.0,
     "solution": false
    }
   },
   "outputs": [
    {
     "name": "stdout",
     "output_type": "stream",
     "text": [
      "Hello World!\n"
     ]
    }
   ],
   "source": [
    "print(\"Hello World!\")"
   ]
  },
  {
   "cell_type": "markdown",
   "metadata": {
    "nbgrader": {
     "grade": false,
     "grade_id": "cell-6878865658774ef3",
     "locked": true,
     "schema_version": 1.0,
     "solution": false
    }
   },
   "source": [
    "## Part 1: Exploring Data with DataFrames\n",
    "\n",
    "Run the cell below by first clicking on the cell below, and the clicking the run button (>|) on the toolbar above. You should click cancel and then link in the yellow pop-up. After following the steps to start notebook server, clicking the run button should work\n",
    "\n",
    "\n",
    "See [this Jetbrains article](https://www.jetbrains.com/help/pycharm/using-ipython-notebook-with-product.html#run-cell) for more instructions on how to run the notebook.\n",
    "\n",
    "When done, you should see \"Hello World!\" just below the code."
   ]
  },
  {
   "cell_type": "markdown",
   "metadata": {
    "nbgrader": {
     "grade": false,
     "grade_id": "cell-8ba97fa6cfaa7427",
     "locked": true,
     "schema_version": 1.0,
     "solution": false
    },
    "raw_mimetype": "text/markdown"
   },
   "source": [
    "### 1.0 Contextualizing data\n",
    "\n",
    "The first dataset we will be looking at relates to youth unemployment. We originally downloaded this data from  [Kaggle.com](https://www.kaggle.com/sovannt/world-bank-youth-unemployment) and scroll down to the dataset description for more details. \n",
    "\n",
    "__Task 0:__ Discuss the following questions with your partner:\n",
    "\n",
    "- What is the World Bank's definition of youth?\n",
    "- What years are we looking at?\n",
    "- How was the data collected?\n",
    "\n",
    "### 1.1 Reading data\n",
    "\n",
    "Data is often stored in comma-separated values (CSV) files. We have provided the unemployment data into the file `API_ILO_country_YU.csv` for you.\n",
    "\n",
    "To read a CSV file called `cats.csv` in a folder called 'data' with into a dataframe variable called `df` using pandas we would run the following command\n",
    "```\n",
    "df = pandas.read_csv('data/cats.csv')\n",
    "```\n",
    "\n",
    "__Task 1:__ Load the unemployment data in the provided CSV file to a variable called `df` below. If no error shows up, your DataFrame should have loaded."
   ]
  },
  {
   "cell_type": "code",
   "execution_count": 2,
   "metadata": {
    "ExecuteTime": {
     "end_time": "2018-09-03T22:37:25.327021Z",
     "start_time": "2018-09-03T22:37:24.616869Z"
    },
    "nbgrader": {
     "grade": true,
     "grade_id": "cell-4d6ca01abde093d1",
     "locked": false,
     "points": 0.0,
     "schema_version": 1.0,
     "solution": true
    }
   },
   "outputs": [],
   "source": [
    "import pandas\n",
    "\n",
    "df = pandas.read_csv('API_ILO_country_YU.csv')"
   ]
  },
  {
   "cell_type": "markdown",
   "metadata": {
    "nbgrader": {
     "grade": false,
     "grade_id": "cell-d2d9d36323e8edeb",
     "locked": true,
     "schema_version": 1.0,
     "solution": false
    }
   },
   "source": [
    "### 1.2 Viewing data\n",
    "\n",
    "Run each of these `DataFrame` methods in the cell below.\n",
    "\n",
    "    df\n",
    "    df.columns\n",
    "    df.head()\n",
    "    df.head(10)\n",
    "    df.tail(4)\n",
    "    df.nlargest(5, '2014')\n",
    "    df.nsmallest(8, '2011')\n",
    "    \n",
    "What get printed if you run 2 expressions in the same block?"
   ]
  },
  {
   "cell_type": "code",
   "execution_count": 3,
   "metadata": {
    "ExecuteTime": {
     "end_time": "2018-09-03T22:37:27.730798Z",
     "start_time": "2018-09-03T22:37:27.685120Z"
    },
    "nbgrader": {
     "grade": true,
     "grade_id": "cell-97fab88d45eccfc4",
     "locked": false,
     "points": 0.0,
     "schema_version": 1.0,
     "solution": true
    },
    "scrolled": false
   },
   "outputs": [
    {
     "data": {
      "text/html": [
       "<div>\n",
       "<style scoped>\n",
       "    .dataframe tbody tr th:only-of-type {\n",
       "        vertical-align: middle;\n",
       "    }\n",
       "\n",
       "    .dataframe tbody tr th {\n",
       "        vertical-align: top;\n",
       "    }\n",
       "\n",
       "    .dataframe thead th {\n",
       "        text-align: right;\n",
       "    }\n",
       "</style>\n",
       "<table border=\"1\" class=\"dataframe\">\n",
       "  <thead>\n",
       "    <tr style=\"text-align: right;\">\n",
       "      <th></th>\n",
       "      <th>Country Name</th>\n",
       "      <th>Country Code</th>\n",
       "      <th>2010</th>\n",
       "      <th>2011</th>\n",
       "      <th>2012</th>\n",
       "      <th>2013</th>\n",
       "      <th>2014</th>\n",
       "    </tr>\n",
       "  </thead>\n",
       "  <tbody>\n",
       "    <tr>\n",
       "      <th>102</th>\n",
       "      <td>Cambodia</td>\n",
       "      <td>KHM</td>\n",
       "      <td>0.9</td>\n",
       "      <td>0.7</td>\n",
       "      <td>0.5</td>\n",
       "      <td>0.7</td>\n",
       "      <td>0.9</td>\n",
       "    </tr>\n",
       "    <tr>\n",
       "      <th>168</th>\n",
       "      <td>Rwanda</td>\n",
       "      <td>RWA</td>\n",
       "      <td>0.7</td>\n",
       "      <td>0.7</td>\n",
       "      <td>0.7</td>\n",
       "      <td>0.7</td>\n",
       "      <td>0.7</td>\n",
       "    </tr>\n",
       "    <tr>\n",
       "      <th>69</th>\n",
       "      <td>Guinea</td>\n",
       "      <td>GIN</td>\n",
       "      <td>1.9</td>\n",
       "      <td>1.4</td>\n",
       "      <td>1.4</td>\n",
       "      <td>1.5</td>\n",
       "      <td>1.7</td>\n",
       "    </tr>\n",
       "    <tr>\n",
       "      <th>165</th>\n",
       "      <td>Qatar</td>\n",
       "      <td>QAT</td>\n",
       "      <td>1.5</td>\n",
       "      <td>1.7</td>\n",
       "      <td>1.6</td>\n",
       "      <td>1.2</td>\n",
       "      <td>1.3</td>\n",
       "    </tr>\n",
       "    <tr>\n",
       "      <th>12</th>\n",
       "      <td>Benin</td>\n",
       "      <td>BEN</td>\n",
       "      <td>2.0</td>\n",
       "      <td>2.0</td>\n",
       "      <td>2.0</td>\n",
       "      <td>1.8</td>\n",
       "      <td>1.7</td>\n",
       "    </tr>\n",
       "    <tr>\n",
       "      <th>192</th>\n",
       "      <td>Thailand</td>\n",
       "      <td>THA</td>\n",
       "      <td>4.0</td>\n",
       "      <td>2.9</td>\n",
       "      <td>3.1</td>\n",
       "      <td>3.2</td>\n",
       "      <td>3.9</td>\n",
       "    </tr>\n",
       "    <tr>\n",
       "      <th>106</th>\n",
       "      <td>Lao PDR</td>\n",
       "      <td>LAO</td>\n",
       "      <td>3.2</td>\n",
       "      <td>3.2</td>\n",
       "      <td>3.3</td>\n",
       "      <td>3.3</td>\n",
       "      <td>3.4</td>\n",
       "    </tr>\n",
       "    <tr>\n",
       "      <th>148</th>\n",
       "      <td>Nepal</td>\n",
       "      <td>NPL</td>\n",
       "      <td>4.0</td>\n",
       "      <td>4.0</td>\n",
       "      <td>4.0</td>\n",
       "      <td>4.0</td>\n",
       "      <td>4.0</td>\n",
       "    </tr>\n",
       "  </tbody>\n",
       "</table>\n",
       "</div>"
      ],
      "text/plain": [
       "    Country Name Country Code  2010  2011  2012  2013  2014\n",
       "102     Cambodia          KHM   0.9   0.7   0.5   0.7   0.9\n",
       "168       Rwanda          RWA   0.7   0.7   0.7   0.7   0.7\n",
       "69        Guinea          GIN   1.9   1.4   1.4   1.5   1.7\n",
       "165        Qatar          QAT   1.5   1.7   1.6   1.2   1.3\n",
       "12         Benin          BEN   2.0   2.0   2.0   1.8   1.7\n",
       "192     Thailand          THA   4.0   2.9   3.1   3.2   3.9\n",
       "106      Lao PDR          LAO   3.2   3.2   3.3   3.3   3.4\n",
       "148        Nepal          NPL   4.0   4.0   4.0   4.0   4.0"
      ]
     },
     "execution_count": 3,
     "metadata": {},
     "output_type": "execute_result"
    }
   ],
   "source": [
    "# Run the methods here\n",
    "df.nsmallest(8, '2011')"
   ]
  },
  {
   "cell_type": "markdown",
   "metadata": {
    "nbgrader": {
     "grade": false,
     "grade_id": "cell-371e2fffe4339ded",
     "locked": true,
     "schema_version": 1.0,
     "solution": false
    }
   },
   "source": [
    "Complete the following task.\n",
    "\n",
    "__Task 2:__ Show the 12 countries with the highest unemployment rates in 2013."
   ]
  },
  {
   "cell_type": "code",
   "execution_count": 5,
   "metadata": {
    "ExecuteTime": {
     "end_time": "2018-09-03T22:37:33.024669Z",
     "start_time": "2018-09-03T22:37:33.002983Z"
    },
    "nbgrader": {
     "grade": true,
     "grade_id": "cell-6eb9ad6f31429bee",
     "locked": false,
     "points": 0.0,
     "schema_version": 1.0,
     "solution": true
    },
    "scrolled": true
   },
   "outputs": [
    {
     "data": {
      "text/html": [
       "<div>\n",
       "<style scoped>\n",
       "    .dataframe tbody tr th:only-of-type {\n",
       "        vertical-align: middle;\n",
       "    }\n",
       "\n",
       "    .dataframe tbody tr th {\n",
       "        vertical-align: top;\n",
       "    }\n",
       "\n",
       "    .dataframe thead th {\n",
       "        text-align: right;\n",
       "    }\n",
       "</style>\n",
       "<table border=\"1\" class=\"dataframe\">\n",
       "  <thead>\n",
       "    <tr style=\"text-align: right;\">\n",
       "      <th></th>\n",
       "      <th>Country Name</th>\n",
       "      <th>Country Code</th>\n",
       "      <th>2010</th>\n",
       "      <th>2011</th>\n",
       "      <th>2012</th>\n",
       "      <th>2013</th>\n",
       "      <th>2014</th>\n",
       "    </tr>\n",
       "  </thead>\n",
       "  <tbody>\n",
       "    <tr>\n",
       "      <th>73</th>\n",
       "      <td>Greece</td>\n",
       "      <td>GRC</td>\n",
       "      <td>32.400002</td>\n",
       "      <td>44.099998</td>\n",
       "      <td>54.700001</td>\n",
       "      <td>58.000000</td>\n",
       "      <td>53.900002</td>\n",
       "    </tr>\n",
       "    <tr>\n",
       "      <th>18</th>\n",
       "      <td>Bosnia and Herzegovina</td>\n",
       "      <td>BIH</td>\n",
       "      <td>57.200001</td>\n",
       "      <td>57.099998</td>\n",
       "      <td>61.700001</td>\n",
       "      <td>57.400002</td>\n",
       "      <td>57.500000</td>\n",
       "    </tr>\n",
       "    <tr>\n",
       "      <th>57</th>\n",
       "      <td>Spain</td>\n",
       "      <td>ESP</td>\n",
       "      <td>42.500000</td>\n",
       "      <td>47.099998</td>\n",
       "      <td>54.299999</td>\n",
       "      <td>57.099998</td>\n",
       "      <td>57.900002</td>\n",
       "    </tr>\n",
       "    <tr>\n",
       "      <th>129</th>\n",
       "      <td>Macedonia, FYR</td>\n",
       "      <td>MKD</td>\n",
       "      <td>53.700001</td>\n",
       "      <td>55.400002</td>\n",
       "      <td>53.799999</td>\n",
       "      <td>51.799999</td>\n",
       "      <td>50.799999</td>\n",
       "    </tr>\n",
       "    <tr>\n",
       "      <th>215</th>\n",
       "      <td>South Africa</td>\n",
       "      <td>ZAF</td>\n",
       "      <td>50.799999</td>\n",
       "      <td>50.099998</td>\n",
       "      <td>52.200001</td>\n",
       "      <td>51.400002</td>\n",
       "      <td>52.599998</td>\n",
       "    </tr>\n",
       "    <tr>\n",
       "      <th>80</th>\n",
       "      <td>Croatia</td>\n",
       "      <td>HRV</td>\n",
       "      <td>33.500000</td>\n",
       "      <td>36.599998</td>\n",
       "      <td>44.099998</td>\n",
       "      <td>50.299999</td>\n",
       "      <td>45.900002</td>\n",
       "    </tr>\n",
       "    <tr>\n",
       "      <th>178</th>\n",
       "      <td>Serbia</td>\n",
       "      <td>SRB</td>\n",
       "      <td>45.500000</td>\n",
       "      <td>50.400002</td>\n",
       "      <td>50.599998</td>\n",
       "      <td>49.700001</td>\n",
       "      <td>49.500000</td>\n",
       "    </tr>\n",
       "    <tr>\n",
       "      <th>109</th>\n",
       "      <td>Libya</td>\n",
       "      <td>LBY</td>\n",
       "      <td>43.799999</td>\n",
       "      <td>42.599998</td>\n",
       "      <td>46.200001</td>\n",
       "      <td>47.000000</td>\n",
       "      <td>48.900002</td>\n",
       "    </tr>\n",
       "    <tr>\n",
       "      <th>137</th>\n",
       "      <td>Mauritania</td>\n",
       "      <td>MRT</td>\n",
       "      <td>46.700001</td>\n",
       "      <td>46.700001</td>\n",
       "      <td>46.500000</td>\n",
       "      <td>46.599998</td>\n",
       "      <td>46.599998</td>\n",
       "    </tr>\n",
       "    <tr>\n",
       "      <th>186</th>\n",
       "      <td>Swaziland</td>\n",
       "      <td>SWZ</td>\n",
       "      <td>42.000000</td>\n",
       "      <td>42.200001</td>\n",
       "      <td>42.000000</td>\n",
       "      <td>42.000000</td>\n",
       "      <td>42.599998</td>\n",
       "    </tr>\n",
       "    <tr>\n",
       "      <th>54</th>\n",
       "      <td>Egypt, Arab Rep.</td>\n",
       "      <td>EGY</td>\n",
       "      <td>26.299999</td>\n",
       "      <td>33.900002</td>\n",
       "      <td>37.900002</td>\n",
       "      <td>41.700001</td>\n",
       "      <td>42.000000</td>\n",
       "    </tr>\n",
       "    <tr>\n",
       "      <th>136</th>\n",
       "      <td>Mozambique</td>\n",
       "      <td>MOZ</td>\n",
       "      <td>40.700001</td>\n",
       "      <td>40.700001</td>\n",
       "      <td>40.700001</td>\n",
       "      <td>40.700001</td>\n",
       "      <td>40.700001</td>\n",
       "    </tr>\n",
       "  </tbody>\n",
       "</table>\n",
       "</div>"
      ],
      "text/plain": [
       "               Country Name Country Code       2010       2011       2012  \\\n",
       "73                   Greece          GRC  32.400002  44.099998  54.700001   \n",
       "18   Bosnia and Herzegovina          BIH  57.200001  57.099998  61.700001   \n",
       "57                    Spain          ESP  42.500000  47.099998  54.299999   \n",
       "129          Macedonia, FYR          MKD  53.700001  55.400002  53.799999   \n",
       "215            South Africa          ZAF  50.799999  50.099998  52.200001   \n",
       "80                  Croatia          HRV  33.500000  36.599998  44.099998   \n",
       "178                  Serbia          SRB  45.500000  50.400002  50.599998   \n",
       "109                   Libya          LBY  43.799999  42.599998  46.200001   \n",
       "137              Mauritania          MRT  46.700001  46.700001  46.500000   \n",
       "186               Swaziland          SWZ  42.000000  42.200001  42.000000   \n",
       "54         Egypt, Arab Rep.          EGY  26.299999  33.900002  37.900002   \n",
       "136              Mozambique          MOZ  40.700001  40.700001  40.700001   \n",
       "\n",
       "          2013       2014  \n",
       "73   58.000000  53.900002  \n",
       "18   57.400002  57.500000  \n",
       "57   57.099998  57.900002  \n",
       "129  51.799999  50.799999  \n",
       "215  51.400002  52.599998  \n",
       "80   50.299999  45.900002  \n",
       "178  49.700001  49.500000  \n",
       "109  47.000000  48.900002  \n",
       "137  46.599998  46.599998  \n",
       "186  42.000000  42.599998  \n",
       "54   41.700001  42.000000  \n",
       "136  40.700001  40.700001  "
      ]
     },
     "execution_count": 5,
     "metadata": {},
     "output_type": "execute_result"
    }
   ],
   "source": [
    "df.nlargest(12, '2013')"
   ]
  },
  {
   "cell_type": "markdown",
   "metadata": {
    "nbgrader": {
     "grade": false,
     "grade_id": "cell-5ca284a6794c553d",
     "locked": true,
     "schema_version": 1.0,
     "solution": false
    }
   },
   "source": [
    "### 1.3 Transforming data\n",
    "\n",
    "With DataFrames, we can also select\n",
    "rows and columns. What do the following expressions\n",
    "evaluate to?\n",
    "\n",
    "#### Column selection:\n",
    "    \n",
    "    df['2010']\n",
    "    df[['Country Name', '2011', '2012']]\n",
    "    df.iloc[:, 3]\n",
    "    df.iloc[:, 2:5]\n",
    "    \n",
    "#### Row selection:\n",
    "    \n",
    "    df.iloc[191]\n",
    "    df.iloc[2:10]\n",
    "    df[df['2010'] > 40]\n",
    "    \n",
    "#### Combinations:\n",
    "\n",
    "    df.iloc[12:14, 0:4]\n",
    "    df[['Country Name', '2011', '2012']][df['2012'] < 10]\n",
    "    df[df['2012'] < 10].iloc[1:3, 2:5]"
   ]
  },
  {
   "cell_type": "code",
   "execution_count": 23,
   "metadata": {
    "ExecuteTime": {
     "end_time": "2018-09-03T22:38:04.317855Z",
     "start_time": "2018-09-03T22:38:04.309738Z"
    },
    "nbgrader": {
     "grade": true,
     "grade_id": "cell-601c068bccd21ddd",
     "locked": false,
     "points": 0.0,
     "schema_version": 1.0,
     "solution": true
    },
    "scrolled": true
   },
   "outputs": [
    {
     "data": {
      "text/html": [
       "<div>\n",
       "<style scoped>\n",
       "    .dataframe tbody tr th:only-of-type {\n",
       "        vertical-align: middle;\n",
       "    }\n",
       "\n",
       "    .dataframe tbody tr th {\n",
       "        vertical-align: top;\n",
       "    }\n",
       "\n",
       "    .dataframe thead th {\n",
       "        text-align: right;\n",
       "    }\n",
       "</style>\n",
       "<table border=\"1\" class=\"dataframe\">\n",
       "  <thead>\n",
       "    <tr style=\"text-align: right;\">\n",
       "      <th></th>\n",
       "      <th>Country Name</th>\n",
       "      <th>Country Code</th>\n",
       "      <th>2010</th>\n",
       "      <th>2011</th>\n",
       "      <th>2012</th>\n",
       "      <th>2013</th>\n",
       "      <th>2014</th>\n",
       "    </tr>\n",
       "  </thead>\n",
       "  <tbody>\n",
       "    <tr>\n",
       "      <th>18</th>\n",
       "      <td>Bosnia and Herzegovina</td>\n",
       "      <td>BIH</td>\n",
       "      <td>57.200001</td>\n",
       "      <td>57.099998</td>\n",
       "      <td>61.700001</td>\n",
       "      <td>57.400002</td>\n",
       "      <td>57.500000</td>\n",
       "    </tr>\n",
       "    <tr>\n",
       "      <th>57</th>\n",
       "      <td>Spain</td>\n",
       "      <td>ESP</td>\n",
       "      <td>42.500000</td>\n",
       "      <td>47.099998</td>\n",
       "      <td>54.299999</td>\n",
       "      <td>57.099998</td>\n",
       "      <td>57.900002</td>\n",
       "    </tr>\n",
       "    <tr>\n",
       "      <th>109</th>\n",
       "      <td>Libya</td>\n",
       "      <td>LBY</td>\n",
       "      <td>43.799999</td>\n",
       "      <td>42.599998</td>\n",
       "      <td>46.200001</td>\n",
       "      <td>47.000000</td>\n",
       "      <td>48.900002</td>\n",
       "    </tr>\n",
       "    <tr>\n",
       "      <th>129</th>\n",
       "      <td>Macedonia, FYR</td>\n",
       "      <td>MKD</td>\n",
       "      <td>53.700001</td>\n",
       "      <td>55.400002</td>\n",
       "      <td>53.799999</td>\n",
       "      <td>51.799999</td>\n",
       "      <td>50.799999</td>\n",
       "    </tr>\n",
       "    <tr>\n",
       "      <th>134</th>\n",
       "      <td>Montenegro</td>\n",
       "      <td>MNE</td>\n",
       "      <td>46.000000</td>\n",
       "      <td>37.200001</td>\n",
       "      <td>41.299999</td>\n",
       "      <td>40.500000</td>\n",
       "      <td>39.500000</td>\n",
       "    </tr>\n",
       "    <tr>\n",
       "      <th>136</th>\n",
       "      <td>Mozambique</td>\n",
       "      <td>MOZ</td>\n",
       "      <td>40.700001</td>\n",
       "      <td>40.700001</td>\n",
       "      <td>40.700001</td>\n",
       "      <td>40.700001</td>\n",
       "      <td>40.700001</td>\n",
       "    </tr>\n",
       "    <tr>\n",
       "      <th>137</th>\n",
       "      <td>Mauritania</td>\n",
       "      <td>MRT</td>\n",
       "      <td>46.700001</td>\n",
       "      <td>46.700001</td>\n",
       "      <td>46.500000</td>\n",
       "      <td>46.599998</td>\n",
       "      <td>46.599998</td>\n",
       "    </tr>\n",
       "    <tr>\n",
       "      <th>142</th>\n",
       "      <td>Namibia</td>\n",
       "      <td>NAM</td>\n",
       "      <td>44.099998</td>\n",
       "      <td>40.099998</td>\n",
       "      <td>34.200001</td>\n",
       "      <td>40.599998</td>\n",
       "      <td>38.700001</td>\n",
       "    </tr>\n",
       "    <tr>\n",
       "      <th>178</th>\n",
       "      <td>Serbia</td>\n",
       "      <td>SRB</td>\n",
       "      <td>45.500000</td>\n",
       "      <td>50.400002</td>\n",
       "      <td>50.599998</td>\n",
       "      <td>49.700001</td>\n",
       "      <td>49.500000</td>\n",
       "    </tr>\n",
       "    <tr>\n",
       "      <th>186</th>\n",
       "      <td>Swaziland</td>\n",
       "      <td>SWZ</td>\n",
       "      <td>42.000000</td>\n",
       "      <td>42.200001</td>\n",
       "      <td>42.000000</td>\n",
       "      <td>42.000000</td>\n",
       "      <td>42.599998</td>\n",
       "    </tr>\n",
       "    <tr>\n",
       "      <th>215</th>\n",
       "      <td>South Africa</td>\n",
       "      <td>ZAF</td>\n",
       "      <td>50.799999</td>\n",
       "      <td>50.099998</td>\n",
       "      <td>52.200001</td>\n",
       "      <td>51.400002</td>\n",
       "      <td>52.599998</td>\n",
       "    </tr>\n",
       "  </tbody>\n",
       "</table>\n",
       "</div>"
      ],
      "text/plain": [
       "<div>\n",
       "<style scoped>\n",
       "    .dataframe tbody tr th:only-of-type {\n",
       "        vertical-align: middle;\n",
       "    }\n",
       "\n",
       "    .dataframe tbody tr th {\n",
       "        vertical-align: top;\n",
       "    }\n",
       "\n",
       "    .dataframe thead th {\n",
       "        text-align: right;\n",
       "    }\n",
       "</style>\n",
       "<table border=\"1\" class=\"dataframe\">\n",
       "  <thead>\n",
       "    <tr style=\"text-align: right;\">\n",
       "      <th></th>\n",
       "      <th>Country Name</th>\n",
       "      <th>Country Code</th>\n",
       "      <th>2010</th>\n",
       "      <th>2011</th>\n",
       "      <th>2012</th>\n",
       "      <th>2013</th>\n",
       "      <th>2014</th>\n",
       "    </tr>\n",
       "  </thead>\n",
       "  <tbody>\n",
       "    <tr>\n",
       "      <th>18</th>\n",
       "      <td>Bosnia and Herzegovina</td>\n",
       "      <td>BIH</td>\n",
       "      <td>57.200001</td>\n",
       "      <td>57.099998</td>\n",
       "      <td>61.700001</td>\n",
       "      <td>57.400002</td>\n",
       "      <td>57.500000</td>\n",
       "    </tr>\n",
       "    <tr>\n",
       "      <th>57</th>\n",
       "      <td>Spain</td>\n",
       "      <td>ESP</td>\n",
       "      <td>42.500000</td>\n",
       "      <td>47.099998</td>\n",
       "      <td>54.299999</td>\n",
       "      <td>57.099998</td>\n",
       "      <td>57.900002</td>\n",
       "    </tr>\n",
       "    <tr>\n",
       "      <th>109</th>\n",
       "      <td>Libya</td>\n",
       "      <td>LBY</td>\n",
       "      <td>43.799999</td>\n",
       "      <td>42.599998</td>\n",
       "      <td>46.200001</td>\n",
       "      <td>47.000000</td>\n",
       "      <td>48.900002</td>\n",
       "    </tr>\n",
       "    <tr>\n",
       "      <th>129</th>\n",
       "      <td>Macedonia, FYR</td>\n",
       "      <td>MKD</td>\n",
       "      <td>53.700001</td>\n",
       "      <td>55.400002</td>\n",
       "      <td>53.799999</td>\n",
       "      <td>51.799999</td>\n",
       "      <td>50.799999</td>\n",
       "    </tr>\n",
       "    <tr>\n",
       "      <th>134</th>\n",
       "      <td>Montenegro</td>\n",
       "      <td>MNE</td>\n",
       "      <td>46.000000</td>\n",
       "      <td>37.200001</td>\n",
       "      <td>41.299999</td>\n",
       "      <td>40.500000</td>\n",
       "      <td>39.500000</td>\n",
       "    </tr>\n",
       "    <tr>\n",
       "      <th>136</th>\n",
       "      <td>Mozambique</td>\n",
       "      <td>MOZ</td>\n",
       "      <td>40.700001</td>\n",
       "      <td>40.700001</td>\n",
       "      <td>40.700001</td>\n",
       "      <td>40.700001</td>\n",
       "      <td>40.700001</td>\n",
       "    </tr>\n",
       "    <tr>\n",
       "      <th>137</th>\n",
       "      <td>Mauritania</td>\n",
       "      <td>MRT</td>\n",
       "      <td>46.700001</td>\n",
       "      <td>46.700001</td>\n",
       "      <td>46.500000</td>\n",
       "      <td>46.599998</td>\n",
       "      <td>46.599998</td>\n",
       "    </tr>\n",
       "    <tr>\n",
       "      <th>142</th>\n",
       "      <td>Namibia</td>\n",
       "      <td>NAM</td>\n",
       "      <td>44.099998</td>\n",
       "      <td>40.099998</td>\n",
       "      <td>34.200001</td>\n",
       "      <td>40.599998</td>\n",
       "      <td>38.700001</td>\n",
       "    </tr>\n",
       "    <tr>\n",
       "      <th>178</th>\n",
       "      <td>Serbia</td>\n",
       "      <td>SRB</td>\n",
       "      <td>45.500000</td>\n",
       "      <td>50.400002</td>\n",
       "      <td>50.599998</td>\n",
       "      <td>49.700001</td>\n",
       "      <td>49.500000</td>\n",
       "    </tr>\n",
       "    <tr>\n",
       "      <th>186</th>\n",
       "      <td>Swaziland</td>\n",
       "      <td>SWZ</td>\n",
       "      <td>42.000000</td>\n",
       "      <td>42.200001</td>\n",
       "      <td>42.000000</td>\n",
       "      <td>42.000000</td>\n",
       "      <td>42.599998</td>\n",
       "    </tr>\n",
       "    <tr>\n",
       "      <th>215</th>\n",
       "      <td>South Africa</td>\n",
       "      <td>ZAF</td>\n",
       "      <td>50.799999</td>\n",
       "      <td>50.099998</td>\n",
       "      <td>52.200001</td>\n",
       "      <td>51.400002</td>\n",
       "      <td>52.599998</td>\n",
       "    </tr>\n",
       "  </tbody>\n",
       "</table>\n",
       "</div>"
      ]
     },
     "execution_count": 23,
     "metadata": {},
     "output_type": "execute_result"
    }
   ],
   "source": [
    "# Run the expressions here\n",
    "df[df['2010'] > 40]"
   ]
  },
  {
   "cell_type": "markdown",
   "metadata": {
    "nbgrader": {
     "grade": false,
     "grade_id": "cell-9b42e843dc7c7b9b",
     "locked": true,
     "schema_version": 1.0,
     "solution": false
    }
   },
   "source": [
    "__Task 3:__ Show the `Country Name` and `Country Code` of all countries where\n",
    "\n",
    "* the 2010 unemployment rate is higher than the 2014 unemployment rate, and\n",
    "* the 2014 unemployment rate is above 20%"
   ]
  },
  {
   "cell_type": "code",
   "execution_count": 9,
   "metadata": {
    "ExecuteTime": {
     "end_time": "2018-09-03T22:39:14.490501Z",
     "start_time": "2018-09-03T22:39:14.469243Z"
    },
    "nbgrader": {
     "grade": true,
     "grade_id": "cell-b4a15d9099e5b78b",
     "locked": false,
     "points": 0.0,
     "schema_version": 1.0,
     "solution": true
    }
   },
   "outputs": [
    {
     "data": {
      "text/html": [
       "<div>\n",
       "<style scoped>\n",
       "    .dataframe tbody tr th:only-of-type {\n",
       "        vertical-align: middle;\n",
       "    }\n",
       "\n",
       "    .dataframe tbody tr th {\n",
       "        vertical-align: top;\n",
       "    }\n",
       "\n",
       "    .dataframe thead th {\n",
       "        text-align: right;\n",
       "    }\n",
       "</style>\n",
       "<table border=\"1\" class=\"dataframe\">\n",
       "  <thead>\n",
       "    <tr style=\"text-align: right;\">\n",
       "      <th></th>\n",
       "      <th>Country Name</th>\n",
       "      <th>Country Code</th>\n",
       "    </tr>\n",
       "  </thead>\n",
       "  <tbody>\n",
       "    <tr>\n",
       "      <th>6</th>\n",
       "      <td>Armenia</td>\n",
       "      <td>ARM</td>\n",
       "    </tr>\n",
       "    <tr>\n",
       "      <th>17</th>\n",
       "      <td>Bahamas, The</td>\n",
       "      <td>BHS</td>\n",
       "    </tr>\n",
       "    <tr>\n",
       "      <th>29</th>\n",
       "      <td>Central Europe and the Baltics</td>\n",
       "      <td>CEB</td>\n",
       "    </tr>\n",
       "    <tr>\n",
       "      <th>40</th>\n",
       "      <td>Caribbean small states</td>\n",
       "      <td>CSS</td>\n",
       "    </tr>\n",
       "    <tr>\n",
       "      <th>67</th>\n",
       "      <td>Georgia</td>\n",
       "      <td>GEO</td>\n",
       "    </tr>\n",
       "    <tr>\n",
       "      <th>82</th>\n",
       "      <td>Hungary</td>\n",
       "      <td>HUN</td>\n",
       "    </tr>\n",
       "    <tr>\n",
       "      <th>87</th>\n",
       "      <td>Indonesia</td>\n",
       "      <td>IDN</td>\n",
       "    </tr>\n",
       "    <tr>\n",
       "      <th>90</th>\n",
       "      <td>Ireland</td>\n",
       "      <td>IRL</td>\n",
       "    </tr>\n",
       "    <tr>\n",
       "      <th>97</th>\n",
       "      <td>Jordan</td>\n",
       "      <td>JOR</td>\n",
       "    </tr>\n",
       "    <tr>\n",
       "      <th>107</th>\n",
       "      <td>Lebanon</td>\n",
       "      <td>LBN</td>\n",
       "    </tr>\n",
       "    <tr>\n",
       "      <th>116</th>\n",
       "      <td>Lesotho</td>\n",
       "      <td>LSO</td>\n",
       "    </tr>\n",
       "    <tr>\n",
       "      <th>118</th>\n",
       "      <td>Lithuania</td>\n",
       "      <td>LTU</td>\n",
       "    </tr>\n",
       "    <tr>\n",
       "      <th>129</th>\n",
       "      <td>Macedonia, FYR</td>\n",
       "      <td>MKD</td>\n",
       "    </tr>\n",
       "    <tr>\n",
       "      <th>134</th>\n",
       "      <td>Montenegro</td>\n",
       "      <td>MNE</td>\n",
       "    </tr>\n",
       "    <tr>\n",
       "      <th>137</th>\n",
       "      <td>Mauritania</td>\n",
       "      <td>MRT</td>\n",
       "    </tr>\n",
       "    <tr>\n",
       "      <th>138</th>\n",
       "      <td>Mauritius</td>\n",
       "      <td>MUS</td>\n",
       "    </tr>\n",
       "    <tr>\n",
       "      <th>142</th>\n",
       "      <td>Namibia</td>\n",
       "      <td>NAM</td>\n",
       "    </tr>\n",
       "    <tr>\n",
       "      <th>152</th>\n",
       "      <td>Other small states</td>\n",
       "      <td>OSS</td>\n",
       "    </tr>\n",
       "    <tr>\n",
       "      <th>160</th>\n",
       "      <td>Puerto Rico</td>\n",
       "      <td>PRI</td>\n",
       "    </tr>\n",
       "    <tr>\n",
       "      <th>170</th>\n",
       "      <td>Saudi Arabia</td>\n",
       "      <td>SAU</td>\n",
       "    </tr>\n",
       "    <tr>\n",
       "      <th>181</th>\n",
       "      <td>Small states</td>\n",
       "      <td>SST</td>\n",
       "    </tr>\n",
       "    <tr>\n",
       "      <th>183</th>\n",
       "      <td>Slovak Republic</td>\n",
       "      <td>SVK</td>\n",
       "    </tr>\n",
       "    <tr>\n",
       "      <th>185</th>\n",
       "      <td>Sweden</td>\n",
       "      <td>SWE</td>\n",
       "    </tr>\n",
       "    <tr>\n",
       "      <th>194</th>\n",
       "      <td>Turkmenistan</td>\n",
       "      <td>TKM</td>\n",
       "    </tr>\n",
       "    <tr>\n",
       "      <th>209</th>\n",
       "      <td>Uzbekistan</td>\n",
       "      <td>UZB</td>\n",
       "    </tr>\n",
       "    <tr>\n",
       "      <th>214</th>\n",
       "      <td>Yemen, Rep.</td>\n",
       "      <td>YEM</td>\n",
       "    </tr>\n",
       "    <tr>\n",
       "      <th>217</th>\n",
       "      <td>Zambia</td>\n",
       "      <td>ZMB</td>\n",
       "    </tr>\n",
       "  </tbody>\n",
       "</table>\n",
       "</div>"
      ],
      "text/plain": [
       "                       Country Name Country Code\n",
       "6                           Armenia          ARM\n",
       "17                     Bahamas, The          BHS\n",
       "29   Central Europe and the Baltics          CEB\n",
       "40           Caribbean small states          CSS\n",
       "67                          Georgia          GEO\n",
       "82                          Hungary          HUN\n",
       "87                        Indonesia          IDN\n",
       "90                          Ireland          IRL\n",
       "97                           Jordan          JOR\n",
       "107                         Lebanon          LBN\n",
       "116                         Lesotho          LSO\n",
       "118                       Lithuania          LTU\n",
       "129                  Macedonia, FYR          MKD\n",
       "134                      Montenegro          MNE\n",
       "137                      Mauritania          MRT\n",
       "138                       Mauritius          MUS\n",
       "142                         Namibia          NAM\n",
       "152              Other small states          OSS\n",
       "160                     Puerto Rico          PRI\n",
       "170                    Saudi Arabia          SAU\n",
       "181                    Small states          SST\n",
       "183                 Slovak Republic          SVK\n",
       "185                          Sweden          SWE\n",
       "194                    Turkmenistan          TKM\n",
       "209                      Uzbekistan          UZB\n",
       "214                     Yemen, Rep.          YEM\n",
       "217                          Zambia          ZMB"
      ]
     },
     "execution_count": 9,
     "metadata": {},
     "output_type": "execute_result"
    }
   ],
   "source": [
    "df[['Country Name', 'Country Code']][(df['2010'] > df['2014']) & (df['2014'] > 20)]"
   ]
  },
  {
   "cell_type": "markdown",
   "metadata": {
    "nbgrader": {
     "grade": false,
     "grade_id": "cell-37805ad1a707bcf1",
     "locked": true,
     "schema_version": 1.0,
     "solution": false
    }
   },
   "source": [
    "Now it is time to see more powerful features of DataFrames.\n",
    "You can add, subtract, multiply, and divide columns as shown below\n",
    "\n",
    "`df['2010'] + df['2012']`\n",
    "\n",
    "You can easily add a new column to the dataframe called using the following syntax:\n",
    "\n",
    "`df['new_col'] = df['2010'] + df['2012'] # add a column to df called new_col`\n",
    "\n",
    "__Task 4:__ Display the names of the 10 countries with the largest percent decrease in unemployment between 2011 and 2012."
   ]
  },
  {
   "cell_type": "code",
   "execution_count": 4,
   "metadata": {
    "ExecuteTime": {
     "end_time": "2018-09-03T22:48:39.734590Z",
     "start_time": "2018-09-03T22:48:39.712740Z"
    },
    "nbgrader": {
     "grade": true,
     "grade_id": "cell-f077052c551ba443",
     "locked": false,
     "points": 0.0,
     "schema_version": 1.0,
     "solution": true
    },
    "scrolled": true
   },
   "outputs": [
    {
     "data": {
      "text/plain": [
       "102            Cambodia\n",
       "74            Guatemala\n",
       "25               Bhutan\n",
       "201             Tunisia\n",
       "68                Ghana\n",
       "118           Lithuania\n",
       "154              Panama\n",
       "142             Namibia\n",
       "78             Honduras\n",
       "121    Macao SAR, China\n",
       "Name: Country Name, dtype: object"
      ]
     },
     "execution_count": 4,
     "metadata": {},
     "output_type": "execute_result"
    }
   ],
   "source": [
    "df['Largest_Decrease'] = ((df['2012'] - df['2011'])/df['2011'])*100\n",
    "df.nsmallest(10, 'Largest_Decrease')['Country Name']"
   ]
  },
  {
   "cell_type": "markdown",
   "metadata": {
    "nbgrader": {
     "grade": false,
     "grade_id": "cell-5bc2840af935ee54",
     "locked": true,
     "schema_version": 1.0,
     "solution": false
    }
   },
   "source": [
    "### 1.4 Visualizing data\n",
    "\n",
    "_pandas_ graphs are frequently used to visualize and better understand the data. Run the code block below.  Notebook commands that start with % are called \"magic\" commands. _Make sure to run the \"magic\" %matplotlib command below in future labs so your visualizations show up in your notebook._ More magic commands are listed [here](http://ipython.readthedocs.io/en/stable/interactive/magics.html)."
   ]
  },
  {
   "cell_type": "code",
   "execution_count": 39,
   "metadata": {
    "ExecuteTime": {
     "end_time": "2018-09-03T22:40:57.179352Z",
     "start_time": "2018-09-03T22:40:52.219448Z"
    },
    "nbgrader": {
     "grade": false,
     "grade_id": "cell-4e7ba363af0cebd7",
     "locked": true,
     "schema_version": 1.0,
     "solution": false
    }
   },
   "outputs": [
    {
     "data": {
      "text/plain": [
       "<matplotlib.axes._subplots.AxesSubplot at 0x11bf56e48>"
      ]
     },
     "execution_count": 39,
     "metadata": {},
     "output_type": "execute_result"
    },
    {
     "data": {
      "image/png": "[encoded data removed]",
      "text/plain": [
       "<Figure size 432x288 with 1 Axes>"
      ]
     },
     "metadata": {},
     "output_type": "display_data"
    }
   ],
   "source": [
    "% matplotlib inline\n",
    "\n",
    "df.plot(kind='bar')"
   ]
  },
  {
   "cell_type": "markdown",
   "metadata": {
    "nbgrader": {
     "grade": false,
     "grade_id": "cell-335784ab93847746",
     "locked": true,
     "schema_version": 1.0,
     "solution": false
    }
   },
   "source": [
    "__Task 5:__ There are too many rows being graphed. In a new bar chart below, show only the first 10 countries and label the x-axis by country name.\n",
    "\n",
    "Read [`pandas.DataFrame.plot`](https://pandas.pydata.org/pandas-docs/stable/generated/pandas.DataFrame.plot.html)\n",
    "for information on how to do the above task."
   ]
  },
  {
   "cell_type": "code",
   "execution_count": 59,
   "metadata": {
    "ExecuteTime": {
     "end_time": "2018-09-03T22:54:23.570628Z",
     "start_time": "2018-09-03T22:54:23.106090Z"
    },
    "nbgrader": {
     "grade": true,
     "grade_id": "cell-4bc553bc304deeeb",
     "locked": false,
     "points": 0.0,
     "schema_version": 1.0,
     "solution": true
    }
   },
   "outputs": [
    {
     "data": {
      "text/plain": [
       "<matplotlib.axes._subplots.AxesSubplot at 0x122f12828>"
      ]
     },
     "execution_count": 59,
     "metadata": {},
     "output_type": "execute_result"
    },
    {
     "data": {
      "image/png": "[encoded data removed]",
      "text/plain": [
       "<Figure size 432x288 with 1 Axes>"
      ]
     },
     "metadata": {},
     "output_type": "display_data"
    }
   ],
   "source": [
    "df.head(10).plot(x='Country Name', kind='bar')"
   ]
  },
  {
   "cell_type": "markdown",
   "metadata": {
    "nbgrader": {
     "grade": false,
     "grade_id": "cell-19ea8d05591373a6",
     "locked": true,
     "schema_version": 1.0,
     "solution": false
    }
   },
   "source": [
    "__Task 6:__ Use the `.plot` method again to see how unemployment in 2010 relates to unemployment in 2014 for each country. Choose a suitable plot type."
   ]
  },
  {
   "cell_type": "code",
   "execution_count": 64,
   "metadata": {
    "ExecuteTime": {
     "end_time": "2018-09-03T22:54:52.088409Z",
     "start_time": "2018-09-03T22:54:51.855515Z"
    },
    "nbgrader": {
     "grade": true,
     "grade_id": "cell-b737b5d4a59b23e2",
     "locked": false,
     "points": 0.0,
     "schema_version": 1.0,
     "solution": true
    }
   },
   "outputs": [
    {
     "data": {
      "text/plain": [
       "<matplotlib.axes._subplots.AxesSubplot at 0x12369d8d0>"
      ]
     },
     "execution_count": 64,
     "metadata": {},
     "output_type": "execute_result"
    },
    {
     "data": {
      "image/png": "[encoded data removed]",
      "text/plain": [
       "<Figure size 432x288 with 1 Axes>"
      ]
     },
     "metadata": {},
     "output_type": "display_data"
    }
   ],
   "source": [
    "df[['Country Name', '2010', '2014']].head(10).plot(x='Country Name', kind='bar')"
   ]
  },
  {
   "cell_type": "markdown",
   "metadata": {
    "nbgrader": {
     "grade": false,
     "grade_id": "cell-e4126b30b2a3099d",
     "locked": true,
     "schema_version": 1.0,
     "solution": false
    }
   },
   "source": [
    "### 1.5 Exploring data independently\n",
    "\n",
    "__Task 7-10:__ Use any combination of _pandas_ methods to answer the questions below. You can use a [cheat sheet](https://github.com/pandas-dev/pandas/blob/master/doc/cheatsheet/Pandas_Cheat_Sheet.pdf) or the [pandas documentation](http://pandas.pydata.org/pandas-docs/stable/) aid you.\n",
    "\n",
    "All of the questions below are flawed in some way. For example, \"average unemployment rate\" has multiple meanings, some of which are more useful than others. Discuss with your partner issues you have with each of the questions.\n",
    "\n",
    "However, since the goal of this lab is to practice _pandas_, also write 1-2 lines of code for each block in attempt to answer the question."
   ]
  },
  {
   "cell_type": "markdown",
   "metadata": {
    "nbgrader": {
     "grade": false,
     "grade_id": "cell-b38df8872126442c",
     "locked": true,
     "schema_version": 1.0,
     "solution": false
    }
   },
   "source": [
    "_What is the average unemployment rate for each year?_"
   ]
  },
  {
   "cell_type": "code",
   "execution_count": 9,
   "metadata": {
    "ExecuteTime": {
     "end_time": "2018-09-03T23:02:34.007146Z",
     "start_time": "2018-09-03T23:02:33.995811Z"
    },
    "nbgrader": {
     "grade": true,
     "grade_id": "cell-697a780fdb78d20c",
     "locked": false,
     "points": 0.0,
     "schema_version": 1.0,
     "solution": true
    }
   },
   "outputs": [
    {
     "data": {
      "text/plain": [
       "2010    17.892957\n",
       "2011    17.902713\n",
       "2012    18.148142\n",
       "2013    18.100429\n",
       "2014    17.943539\n",
       "dtype: float64"
      ]
     },
     "execution_count": 9,
     "metadata": {},
     "output_type": "execute_result"
    }
   ],
   "source": [
    "df[['2010', '2011','2012', '2013', '2014']].mean()\n",
    "# The average unemployment rate for each year is calculated by taking the mean of all countries per year. This shows\n",
    "# us how the world is doing in terms of global unemployment rate"
   ]
  },
  {
   "cell_type": "markdown",
   "metadata": {
    "nbgrader": {
     "grade": false,
     "grade_id": "cell-6a88558ae43d5264",
     "locked": true,
     "schema_version": 1.0,
     "solution": false
    }
   },
   "source": [
    "_Which countries underwent the greatest increase in unemployment during this time?_"
   ]
  },
  {
   "cell_type": "code",
   "execution_count": 10,
   "metadata": {
    "ExecuteTime": {
     "end_time": "2018-09-03T23:02:26.824627Z",
     "start_time": "2018-09-03T23:02:26.806311Z"
    },
    "nbgrader": {
     "grade": true,
     "grade_id": "cell-1bf45dd04223c09f",
     "locked": false,
     "points": 0.0,
     "schema_version": 1.0,
     "solution": true
    }
   },
   "outputs": [
    {
     "data": {
      "text/plain": [
       "42                   Cyprus\n",
       "104                  Kuwait\n",
       "73                   Greece\n",
       "162                Portugal\n",
       "54         Egypt, Arab Rep.\n",
       "95                    Italy\n",
       "187    Syrian Arab Republic\n",
       "184                Slovenia\n",
       "80                  Croatia\n",
       "57                    Spain\n",
       "Name: Country Name, dtype: object"
      ]
     },
     "execution_count": 10,
     "metadata": {},
     "output_type": "execute_result"
    }
   ],
   "source": [
    "df['Largest_Increase'] = ((df['2014'] - df['2010'])/df['2010'])*100\n",
    "df.nlargest(10, 'Largest_Increase')['Country Name']\n",
    "# While calculating the percent change from 2010 to 2014, we can see the countries with the highest percent change,\n",
    "# large positive number, or decrease in unemployment, large negative number"
   ]
  },
  {
   "cell_type": "markdown",
   "metadata": {
    "nbgrader": {
     "grade": false,
     "grade_id": "cell-47bf846a696adf8b",
     "locked": true,
     "schema_version": 1.0,
     "solution": false
    }
   },
   "source": [
    "_In which countries would you not recommend a 20-year-old try to find a job?_"
   ]
  },
  {
   "cell_type": "code",
   "execution_count": null,
   "metadata": {
    "ExecuteTime": {
     "end_time": "2018-09-03T23:00:48.164436Z",
     "start_time": "2018-09-03T23:00:48.147972Z"
    },
    "nbgrader": {
     "grade": true,
     "grade_id": "cell-44ca533d1237b0aa",
     "locked": false,
     "points": 0.0,
     "schema_version": 1.0,
     "solution": true
    }
   },
   "outputs": [],
   "source": [
    "# A 20-year-old should not find a job in Cyprus, Kuwait, and Greece. These countries showed a high increase in \n",
    "# unemployment rate from 2010 to 2014. Because of this, there will be less jobs to find. To generealize the findings,\n",
    "# it looks like there are quite a few pockets in Europe and Asia which experienced higher rates than other countries."
   ]
  },
  {
   "cell_type": "markdown",
   "metadata": {
    "nbgrader": {
     "grade": false,
     "grade_id": "cell-bb5b36780309825b",
     "locked": true,
     "schema_version": 1.0,
     "solution": false
    }
   },
   "source": [
    "_Do you think Arab Springs caused youth unemployment or youth unemployment led to Arab Springs?_"
   ]
  },
  {
   "cell_type": "code",
   "execution_count": null,
   "metadata": {
    "ExecuteTime": {
     "end_time": "2018-09-03T23:06:36.321189Z",
     "start_time": "2018-09-03T23:06:36.040360Z"
    },
    "nbgrader": {
     "grade": true,
     "grade_id": "cell-5fa18ccbffa5b11e",
     "locked": false,
     "points": 0.0,
     "schema_version": 1.0,
     "solution": true
    }
   },
   "outputs": [],
   "source": [
    "# It's hard to say whether a certain even was the cause of higher rates of unemployment, we should look at correlations\n",
    "# between the two variables and conduct different tests. If making a hypothesis, Arab Springs occured at the ending of\n",
    "# 2010. Above we can see that there were many countries across the middle east that expeirenced higher rates than \n",
    "# usual. If making an educated guess. Arab Springs may have causes youth unemployment to rise."
   ]
  },
  {
   "cell_type": "markdown",
   "metadata": {
    "nbgrader": {
     "grade": false,
     "grade_id": "cell-8eda21791e0c8ff0",
     "locked": true,
     "schema_version": 1.0,
     "solution": false
    }
   },
   "source": [
    "__TA Check:__ When you are ready, call over a TA to come over. They will review your work and ask a couple of questions.\n",
    "\n",
    "### 1.6 Foreshadowing\n",
    "\n",
    "While waiting, here are some questions to discuss with your partner. Try to answer the questions with concrete units (# of rows, # of minutes, etc.):\n",
    "\n",
    "1. When does it make sense to use machine learning? When is SQL sufficient? When do visualizations make sense?\n",
    "2. When does it make sense to process data with a big data tool (like Apache Spark)? When is _pandas_ fine? When is Excel good enough?\n",
    "3. When does it make sense to optimize your code using C/Cython? When is _pandas_ ok? When is plain Python ample?\n",
    "\n",
    "As the semester progresses, we'll be talking about more and more powerful techniques. We're excited to teach them but since these techniques are complex, we may only gloss over their proper use cases."
   ]
  },
  {
   "cell_type": "markdown",
   "metadata": {
    "nbgrader": {
     "grade": false,
     "grade_id": "cell-296be5f11e26dbf5",
     "locked": true,
     "schema_version": 1.0,
     "solution": false
    }
   },
   "source": [
    "## Handing In\n",
    "\n",
    "Use PyCharm to commit and push this file to your remote repository. Follow the instructions [here](https://www.jetbrains.com/help/pycharm-edu/commit-and-push-changes.html). Share this file with your partner through email (or another medium). Your partner should push to their remote as well.\n",
    "\n"
   ]
  },
  {
   "cell_type": "markdown",
   "metadata": {
    "nbgrader": {
     "grade": false,
     "grade_id": "cell-17f920e9025fb8b4",
     "locked": true,
     "schema_version": 1.0,
     "solution": false
    }
   },
   "source": [
    "## Part 2 (Optional) \n",
    "Part 2, is an analysis of a shopping dataset with 3 million rows from Instacart, a grocery delivering start up. This dataset is slightly larger than what Excel can handle. Instructions are in the notebook `part2.ipynb`. You should do this if you finish early."
   ]
  },
  {
   "cell_type": "markdown",
   "metadata": {
    "nbgrader": {
     "grade": false,
     "grade_id": "cell-c8bf6faa570007ef",
     "locked": true,
     "schema_version": 1.0,
     "solution": false
    }
   },
   "source": [
    "## Summary\n",
    "\n",
    "This lab was an introduction to _pandas_ and Jupyter Notebook. While brief, we hope that this gives you the foundational experience to master those tools without explicit guidance.\n",
    "\n",
    "\n",
    "At the end (Tasks 7-10), we try to point out that while the libraries and concepts introduced in this course can be powerful, they will not be useful if you do not critically think about the problem you are trying to solve. Given the scope of this course, future labs will generally be more problem-solving heavy and more focused on CS concepts. However, we hope that you continue to think critically from the perspective of a data scientist both throughout and after this course.\n",
    "\n",
    "Below is a list of some important _pandas_ functions, many of which we used today.\n",
    "\n",
    "### Pandas\n",
    "\n",
    "#### Modules\n",
    "\n",
    "    import pandas as pd\n",
    "\n",
    "#### I/O\n",
    "\n",
    "    pd.read_csv()\n",
    "    df.to_csv()\n",
    "\n",
    "#### Indexing\n",
    "\n",
    "    df[column_name]\n",
    "    df[[column1, column2, ...]]\n",
    "    df.iloc[a:b,c:d]\n",
    "    df.loc[a:b,c:d]\n",
    "    df[boolean condition]\n",
    "\n",
    "#### Exploration\n",
    "\n",
    "    df.describe()\n",
    "    df.plot()"
   ]
  }
 ],
 "metadata": {
  "celltoolbar": "Create Assignment",
  "kernelspec": {
   "display_name": "Python 3",
   "language": "python",
   "name": "python3"
  },
  "language_info": {
   "codemirror_mode": {
    "name": "ipython",
    "version": 3
   },
   "file_extension": ".py",
   "mimetype": "text/x-python",
   "name": "python",
   "nbconvert_exporter": "python",
   "pygments_lexer": "ipython3",
   "version": "3.6.4"
  },
  "toc": {
   "nav_menu": {},
   "number_sections": true,
   "sideBar": false,
   "skip_h1_title": false,
   "toc_cell": false,
   "toc_position": {
    "height": "22px",
    "left": "2px",
    "right": "20px",
    "top": "106px",
    "width": "149px"
   },
   "toc_section_display": "none",
   "toc_window_display": true
  },
  "varInspector": {
   "cols": {
    "lenName": 16.0,
    "lenType": 16.0,
    "lenVar": 40.0
   },
   "kernels_config": {
    "python": {
     "delete_cmd_postfix": "",
     "delete_cmd_prefix": "del ",
     "library": "var_list.py",
     "varRefreshCmd": "print(var_dic_list())"
    },
    "r": {
     "delete_cmd_postfix": ") ",
     "delete_cmd_prefix": "rm(",
     "library": "var_list.r",
     "varRefreshCmd": "cat(var_dic_list()) "
    }
   },
   "types_to_exclude": [
    "module",
    "function",
    "builtin_function_or_method",
    "instance",
    "_Feature"
   ],
   "window_display": false
  }
 },
 "nbformat": 4,
 "nbformat_minor": 2
}
