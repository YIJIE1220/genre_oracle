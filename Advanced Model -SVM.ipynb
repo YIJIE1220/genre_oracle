{
 "cells": [
  {
   "cell_type": "markdown",
   "metadata": {},
   "source": [
    "# Improved Model"
   ]
  },
  {
   "cell_type": "markdown",
   "metadata": {},
   "source": [
    "Three ways to improve the model:\n",
    "\n",
    "1. Decrease the columns.\n",
    "\n",
    "2. Add several new features and give relatively high weight: words number, words length, repeat time and protantity percentage.\n",
    "\n",
    "->a.Base on words format\n",
    "\n",
    "->b.Base on words meaning\n",
    "\n",
    "3. Change the key parameters of SVC.\n",
    "\n",
    "->a.Change the kernel\n",
    "\n",
    "->b.Change the penalty C.\n",
    "\n",
    "\n"
   ]
  },
  {
   "cell_type": "code",
   "execution_count": 7,
   "metadata": {},
   "outputs": [],
   "source": [
    "import pandas as pd\n",
    "import nltk\n",
    "from pandas import DataFrame,Series\n",
    "import numpy as np\n",
    "import matplotlib.pyplot as plt\n",
    "from sklearn.svm import LinearSVC,SVC\n",
    "from sklearn.model_selection import train_test_split\n",
    "from sklearn.datasets import make_classification\n",
    "from sklearn import metrics\n",
    "from sklearn.multiclass import OneVsOneClassifier\n",
    "import os \n",
    "import sys\n",
    "from sklearn.datasets import load_svmlight_file\n",
    "from sklearn.preprocessing import LabelBinarizer\n",
    "from sklearn.preprocessing import MultiLabelBinarizer\n",
    "from sklearn.linear_model import LogisticRegression\n",
    "from sklearn import metrics"
   ]
  },
  {
   "cell_type": "markdown",
   "metadata": {},
   "source": [
    "# 1. Decrease the columns\n"
   ]
  },
  {
   "cell_type": "markdown",
   "metadata": {},
   "source": [
    "we first take the big step (500) from 4800 to 100."
   ]
  },
  {
   "cell_type": "code",
   "execution_count": 31,
   "metadata": {},
   "outputs": [],
   "source": [
    "score=[]\n",
    "for i in range(4800,100,-500):\n",
    "    df_svm_pp=pd.read_csv(\"svm_table.csv\")\n",
    "    col_name_new = df_svm_pp.columns.tolist()\n",
    "    col_name2=col_name_new[3:-1]\n",
    "    X=df_svm_pp.reindex(columns=col_name2)\n",
    "    X=X.iloc[:,0:i]\n",
    "    y=df_svm_pp['tag.1']\n",
    "    [X_train,X_test,y_train,y_test]=train_test_split(X,y,test_size=.4,random_state=0)\n",
    "    y_pred=OneVsOneClassifier(LinearSVC(random_state = 0)).fit(X_train,y_train).predict(X_test)\n",
    "    score.append([i,metrics.accuracy_score(y_test, y_pred)])"
   ]
  },
  {
   "cell_type": "code",
   "execution_count": 33,
   "metadata": {},
   "outputs": [
    {
     "data": {
      "text/plain": [
       "[[4800, 0.7198869223205506],\n",
       " [4300, 0.7211160275319567],\n",
       " [3800, 0.7227138643067846],\n",
       " [3300, 0.7234513274336283],\n",
       " [2800, 0.7244346116027532],\n",
       " [2300, 0.7246804326450345],\n",
       " [1800, 0.7260324483775811],\n",
       " [1300, 0.2616764995083579],\n",
       " [800, 0.262905604719764],\n",
       " [300, 0.29510816125860373]]"
      ]
     },
     "execution_count": 33,
     "metadata": {},
     "output_type": "execute_result"
    }
   ],
   "source": [
    "score"
   ]
  },
  {
   "cell_type": "code",
   "execution_count": 41,
   "metadata": {},
   "outputs": [
    {
     "data": {
      "text/plain": [
       "Text(0.5,1,'Finding the Beast Accuracy Score by Decreasing the Columns')"
      ]
     },
     "execution_count": 41,
     "metadata": {},
     "output_type": "execute_result"
    },
    {
     "data": {
      "image/png": "[encoded data removed]",
      "text/plain": [
       "<matplotlib.figure.Figure at 0x1a1f21d7b8>"
      ]
     },
     "metadata": {},
     "output_type": "display_data"
    }
   ],
   "source": [
    "x=[]\n",
    "y=[]\n",
    "for i in range(len(score)):\n",
    "    x.append(score[i][0])\n",
    "    y.append(score[i][1])\n",
    "plt.plot(x,y)\n",
    "plt.xlabel(\"number of features\")\n",
    "plt.ylabel(\"accuracy score\")\n",
    "plt.title(\"Finding the Beast Accuracy Score by Decreasing the Columns\")"
   ]
  },
  {
   "cell_type": "markdown",
   "metadata": {},
   "source": [
    "Then we take the small step of 100, from 2300 to 1300."
   ]
  },
  {
   "cell_type": "code",
   "execution_count": 42,
   "metadata": {},
   "outputs": [],
   "source": [
    "score=[]\n",
    "for i in range(2300,1300,-100):\n",
    "    df_svm_pp=pd.read_csv(\"svm_table.csv\")\n",
    "    col_name_new = df_svm_pp.columns.tolist()\n",
    "    col_name2=col_name_new[3:-1]\n",
    "    X=df_svm_pp.reindex(columns=col_name2)\n",
    "    X=X.iloc[:,0:i]\n",
    "    y=df_svm_pp['tag.1']\n",
    "    [X_train,X_test,y_train,y_test]=train_test_split(X,y,test_size=.4,random_state=0)\n",
    "    y_pred=OneVsOneClassifier(LinearSVC(random_state = 0)).fit(X_train,y_train).predict(X_test)\n",
    "    score.append([i,metrics.accuracy_score(y_test, y_pred)])"
   ]
  },
  {
   "cell_type": "code",
   "execution_count": 44,
   "metadata": {},
   "outputs": [
    {
     "data": {
      "text/plain": [
       "[[2300, 0.7246804326450345],\n",
       " [2200, 0.7250491642084562],\n",
       " [2100, 0.7271386430678466],\n",
       " [2000, 0.7267699115044248],\n",
       " [1900, 0.7246804326450345],\n",
       " [1800, 0.7260324483775811],\n",
       " [1700, 0.262905604719764],\n",
       " [1600, 0.26327433628318586],\n",
       " [1500, 0.26474926253687314],\n",
       " [1400, 0.25995575221238937]]"
      ]
     },
     "execution_count": 44,
     "metadata": {},
     "output_type": "execute_result"
    }
   ],
   "source": [
    "score"
   ]
  },
  {
   "cell_type": "code",
   "execution_count": 45,
   "metadata": {},
   "outputs": [
    {
     "data": {
      "text/plain": [
       "Text(0.5,1,'Finding the Beast Accuracy Score between 1400 to 2300 features')"
      ]
     },
     "execution_count": 45,
     "metadata": {},
     "output_type": "execute_result"
    },
    {
     "data": {
      "image/png": "[encoded data removed]",
      "text/plain": [
       "<matplotlib.figure.Figure at 0x1a1dec0c18>"
      ]
     },
     "metadata": {},
     "output_type": "display_data"
    }
   ],
   "source": [
    "x=[]\n",
    "y=[]\n",
    "for i in range(len(score)):\n",
    "    x.append(score[i][0])\n",
    "    y.append(score[i][1])\n",
    "plt.plot(x,y)\n",
    "plt.xlabel(\"number of features\")\n",
    "plt.ylabel(\"accuracy score\")\n",
    "plt.title(\"Finding the Beast Accuracy Score between 1400 to 2300 features\")"
   ]
  },
  {
   "cell_type": "markdown",
   "metadata": {},
   "source": [
    "So we take n=2100 as the best features."
   ]
  },
  {
   "cell_type": "markdown",
   "metadata": {},
   "source": [
    "# 2. new features"
   ]
  },
  {
   "cell_type": "markdown",
   "metadata": {},
   "source": [
    "# a. bese on words fromat"
   ]
  },
  {
   "cell_type": "code",
   "execution_count": 62,
   "metadata": {},
   "outputs": [
    {
     "data": {
      "text/plain": [
       "0    1\n",
       "1    1\n",
       "2    5\n",
       "3    1\n",
       "4    0\n",
       "Name: tag.1, dtype: int64"
      ]
     },
     "execution_count": 62,
     "metadata": {},
     "output_type": "execute_result"
    }
   ],
   "source": [
    "df_svm_pp=pd.read_csv(\"svm_table.csv\")\n",
    "df_svm_pp.head()\n",
    "col_name_new = df_svm_pp.columns.tolist()\n",
    "col_name2=col_name_new[2:2101]\n",
    "X=df_svm_pp.reindex(columns=col_name2)\n",
    "y=df_svm_pp['tag.1']\n",
    "y.head()"
   ]
  },
  {
   "cell_type": "code",
   "execution_count": 63,
   "metadata": {},
   "outputs": [
    {
     "data": {
      "text/html": [
       "<div>\n",
       "<style scoped>\n",
       "    .dataframe tbody tr th:only-of-type {\n",
       "        vertical-align: middle;\n",
       "    }\n",
       "\n",
       "    .dataframe tbody tr th {\n",
       "        vertical-align: top;\n",
       "    }\n",
       "\n",
       "    .dataframe thead th {\n",
       "        text-align: right;\n",
       "    }\n",
       "</style>\n",
       "<table border=\"1\" class=\"dataframe\">\n",
       "  <thead>\n",
       "    <tr style=\"text-align: right;\">\n",
       "      <th></th>\n",
       "      <th>sum_of_words</th>\n",
       "      <th>repeat_times</th>\n",
       "      <th>lenword</th>\n",
       "      <th>like</th>\n",
       "      <th>know</th>\n",
       "      <th>get</th>\n",
       "      <th>love</th>\n",
       "      <th>got</th>\n",
       "      <th>go</th>\n",
       "      <th>time</th>\n",
       "      <th>...</th>\n",
       "      <th>commit</th>\n",
       "      <th>parad</th>\n",
       "      <th>defeat</th>\n",
       "      <th>ganz</th>\n",
       "      <th>correct</th>\n",
       "      <th>industri</th>\n",
       "      <th>visit</th>\n",
       "      <th>dove</th>\n",
       "      <th>driver</th>\n",
       "      <th>model</th>\n",
       "    </tr>\n",
       "  </thead>\n",
       "  <tbody>\n",
       "    <tr>\n",
       "      <th>0</th>\n",
       "      <td>269</td>\n",
       "      <td>2.279661</td>\n",
       "      <td>4.194915</td>\n",
       "      <td>7</td>\n",
       "      <td>4</td>\n",
       "      <td>1</td>\n",
       "      <td>2</td>\n",
       "      <td>1</td>\n",
       "      <td>2</td>\n",
       "      <td>1</td>\n",
       "      <td>...</td>\n",
       "      <td>0</td>\n",
       "      <td>0</td>\n",
       "      <td>0</td>\n",
       "      <td>0</td>\n",
       "      <td>0</td>\n",
       "      <td>0</td>\n",
       "      <td>0</td>\n",
       "      <td>0</td>\n",
       "      <td>0</td>\n",
       "      <td>0</td>\n",
       "    </tr>\n",
       "    <tr>\n",
       "      <th>1</th>\n",
       "      <td>180</td>\n",
       "      <td>2.686567</td>\n",
       "      <td>4.402985</td>\n",
       "      <td>2</td>\n",
       "      <td>8</td>\n",
       "      <td>4</td>\n",
       "      <td>0</td>\n",
       "      <td>1</td>\n",
       "      <td>0</td>\n",
       "      <td>5</td>\n",
       "      <td>...</td>\n",
       "      <td>0</td>\n",
       "      <td>0</td>\n",
       "      <td>0</td>\n",
       "      <td>0</td>\n",
       "      <td>0</td>\n",
       "      <td>0</td>\n",
       "      <td>0</td>\n",
       "      <td>0</td>\n",
       "      <td>0</td>\n",
       "      <td>0</td>\n",
       "    </tr>\n",
       "    <tr>\n",
       "      <th>2</th>\n",
       "      <td>391</td>\n",
       "      <td>1.622407</td>\n",
       "      <td>4.464730</td>\n",
       "      <td>4</td>\n",
       "      <td>4</td>\n",
       "      <td>5</td>\n",
       "      <td>6</td>\n",
       "      <td>0</td>\n",
       "      <td>2</td>\n",
       "      <td>4</td>\n",
       "      <td>...</td>\n",
       "      <td>1</td>\n",
       "      <td>0</td>\n",
       "      <td>0</td>\n",
       "      <td>0</td>\n",
       "      <td>1</td>\n",
       "      <td>0</td>\n",
       "      <td>0</td>\n",
       "      <td>0</td>\n",
       "      <td>0</td>\n",
       "      <td>1</td>\n",
       "    </tr>\n",
       "    <tr>\n",
       "      <th>3</th>\n",
       "      <td>278</td>\n",
       "      <td>1.470899</td>\n",
       "      <td>4.243386</td>\n",
       "      <td>4</td>\n",
       "      <td>3</td>\n",
       "      <td>2</td>\n",
       "      <td>0</td>\n",
       "      <td>4</td>\n",
       "      <td>0</td>\n",
       "      <td>2</td>\n",
       "      <td>...</td>\n",
       "      <td>0</td>\n",
       "      <td>0</td>\n",
       "      <td>0</td>\n",
       "      <td>0</td>\n",
       "      <td>0</td>\n",
       "      <td>0</td>\n",
       "      <td>0</td>\n",
       "      <td>0</td>\n",
       "      <td>1</td>\n",
       "      <td>0</td>\n",
       "    </tr>\n",
       "    <tr>\n",
       "      <th>4</th>\n",
       "      <td>175</td>\n",
       "      <td>1.576577</td>\n",
       "      <td>4.531532</td>\n",
       "      <td>0</td>\n",
       "      <td>1</td>\n",
       "      <td>0</td>\n",
       "      <td>1</td>\n",
       "      <td>1</td>\n",
       "      <td>2</td>\n",
       "      <td>0</td>\n",
       "      <td>...</td>\n",
       "      <td>0</td>\n",
       "      <td>0</td>\n",
       "      <td>0</td>\n",
       "      <td>0</td>\n",
       "      <td>0</td>\n",
       "      <td>0</td>\n",
       "      <td>0</td>\n",
       "      <td>0</td>\n",
       "      <td>0</td>\n",
       "      <td>0</td>\n",
       "    </tr>\n",
       "  </tbody>\n",
       "</table>\n",
       "<p>5 rows × 2101 columns</p>\n",
       "</div>"
      ],
      "text/plain": [
       "   sum_of_words  repeat_times   lenword  like  know  get  love  got  go  time  \\\n",
       "0           269      2.279661  4.194915     7     4    1     2    1   2     1   \n",
       "1           180      2.686567  4.402985     2     8    4     0    1   0     5   \n",
       "2           391      1.622407  4.464730     4     4    5     6    0   2     4   \n",
       "3           278      1.470899  4.243386     4     3    2     0    4   0     2   \n",
       "4           175      1.576577  4.531532     0     1    0     1    1   2     0   \n",
       "\n",
       "   ...    commit  parad  defeat  ganz  correct  industri  visit  dove  driver  \\\n",
       "0  ...         0      0       0     0        0         0      0     0       0   \n",
       "1  ...         0      0       0     0        0         0      0     0       0   \n",
       "2  ...         1      0       0     0        1         0      0     0       0   \n",
       "3  ...         0      0       0     0        0         0      0     0       1   \n",
       "4  ...         0      0       0     0        0         0      0     0       0   \n",
       "\n",
       "   model  \n",
       "0      0  \n",
       "1      0  \n",
       "2      1  \n",
       "3      0  \n",
       "4      0  \n",
       "\n",
       "[5 rows x 2101 columns]"
      ]
     },
     "execution_count": 63,
     "metadata": {},
     "output_type": "execute_result"
    }
   ],
   "source": [
    "df_newfea=pd.read_csv(\"new_features.csv\")\n",
    "df_newfea=df_newfea.drop(['count_of_words'], axis=1)\n",
    "df_svm_ad=X.merge(df_newfea,on='track_id',how='left')\n",
    "col_name_new = df_svm_ad.columns.tolist()\n",
    "col_name2=col_name_new[-3:]+col_name_new[1:2099]\n",
    "X=df_svm_ad.reindex(columns=col_name2)\n",
    "X.head()"
   ]
  },
  {
   "cell_type": "code",
   "execution_count": 64,
   "metadata": {},
   "outputs": [
    {
     "data": {
      "text/plain": [
       "0.8661504424778761"
      ]
     },
     "execution_count": 64,
     "metadata": {},
     "output_type": "execute_result"
    }
   ],
   "source": [
    "[X_train,X_test,y_train,y_test]=train_test_split(X,y,test_size=.4,random_state=0)\n",
    "y_pred=OneVsOneClassifier(LinearSVC(random_state = 0)).fit(X_train,y_train).predict(X_test)\n",
    "score=metrics.accuracy_score(y_test, y_pred)\n",
    "score"
   ]
  },
  {
   "cell_type": "markdown",
   "metadata": {},
   "source": [
    "# b. base on words meaning"
   ]
  },
  {
   "cell_type": "markdown",
   "metadata": {},
   "source": [
    "peoduce a new table for the following step."
   ]
  },
  {
   "cell_type": "code",
   "execution_count": 88,
   "metadata": {},
   "outputs": [
    {
     "data": {
      "text/plain": [
       "0    1\n",
       "1    1\n",
       "2    5\n",
       "3    1\n",
       "4    0\n",
       "Name: tag.1, dtype: int64"
      ]
     },
     "execution_count": 88,
     "metadata": {},
     "output_type": "execute_result"
    }
   ],
   "source": [
    "df_svm_pp=pd.read_csv(\"svm_table.csv\")\n",
    "df_svm_pp.head()\n",
    "col_name_new = df_svm_pp.columns.tolist()\n",
    "col_name2=col_name_new[2:2101]\n",
    "X=df_svm_pp.reindex(columns=col_name2)\n",
    "y=df_svm_pp['tag.1']\n",
    "y.head()"
   ]
  },
  {
   "cell_type": "code",
   "execution_count": 89,
   "metadata": {},
   "outputs": [
    {
     "name": "stderr",
     "output_type": "stream",
     "text": [
      "/Users/YIJIE/anaconda3/lib/python3.6/site-packages/IPython/core/interactiveshell.py:2728: DtypeWarning: Columns (4,5,6,7,8,12,13,14,15,16,18,19) have mixed types. Specify dtype option on import or set low_memory=False.\n",
      "  interactivity=interactivity, compiler=compiler, result=result)\n"
     ]
    },
    {
     "data": {
      "text/html": [
       "<div>\n",
       "<style scoped>\n",
       "    .dataframe tbody tr th:only-of-type {\n",
       "        vertical-align: middle;\n",
       "    }\n",
       "\n",
       "    .dataframe tbody tr th {\n",
       "        vertical-align: top;\n",
       "    }\n",
       "\n",
       "    .dataframe thead th {\n",
       "        text-align: right;\n",
       "    }\n",
       "</style>\n",
       "<table border=\"1\" class=\"dataframe\">\n",
       "  <thead>\n",
       "    <tr style=\"text-align: right;\">\n",
       "      <th></th>\n",
       "      <th>track_id</th>\n",
       "      <th>sum_of_words</th>\n",
       "      <th>repeat_times</th>\n",
       "      <th>lenword</th>\n",
       "      <th>prof_percen</th>\n",
       "      <th>like</th>\n",
       "      <th>know</th>\n",
       "      <th>get</th>\n",
       "      <th>love</th>\n",
       "      <th>got</th>\n",
       "      <th>...</th>\n",
       "      <th>commit</th>\n",
       "      <th>parad</th>\n",
       "      <th>defeat</th>\n",
       "      <th>ganz</th>\n",
       "      <th>correct</th>\n",
       "      <th>industri</th>\n",
       "      <th>visit</th>\n",
       "      <th>dove</th>\n",
       "      <th>driver</th>\n",
       "      <th>model</th>\n",
       "    </tr>\n",
       "  </thead>\n",
       "  <tbody>\n",
       "    <tr>\n",
       "      <th>0</th>\n",
       "      <td>TRXPGWF128F428F1F7</td>\n",
       "      <td>269</td>\n",
       "      <td>2.279661</td>\n",
       "      <td>4.194915</td>\n",
       "      <td>0.096654</td>\n",
       "      <td>7</td>\n",
       "      <td>4</td>\n",
       "      <td>1</td>\n",
       "      <td>2</td>\n",
       "      <td>1</td>\n",
       "      <td>...</td>\n",
       "      <td>0</td>\n",
       "      <td>0</td>\n",
       "      <td>0</td>\n",
       "      <td>0</td>\n",
       "      <td>0</td>\n",
       "      <td>0</td>\n",
       "      <td>0</td>\n",
       "      <td>0</td>\n",
       "      <td>0</td>\n",
       "      <td>0</td>\n",
       "    </tr>\n",
       "    <tr>\n",
       "      <th>1</th>\n",
       "      <td>TRGGQAW128F427F470</td>\n",
       "      <td>180</td>\n",
       "      <td>2.686567</td>\n",
       "      <td>4.402985</td>\n",
       "      <td>0.000000</td>\n",
       "      <td>2</td>\n",
       "      <td>8</td>\n",
       "      <td>4</td>\n",
       "      <td>0</td>\n",
       "      <td>1</td>\n",
       "      <td>...</td>\n",
       "      <td>0</td>\n",
       "      <td>0</td>\n",
       "      <td>0</td>\n",
       "      <td>0</td>\n",
       "      <td>0</td>\n",
       "      <td>0</td>\n",
       "      <td>0</td>\n",
       "      <td>0</td>\n",
       "      <td>0</td>\n",
       "      <td>0</td>\n",
       "    </tr>\n",
       "    <tr>\n",
       "      <th>2</th>\n",
       "      <td>TRYASIL128F147089D</td>\n",
       "      <td>391</td>\n",
       "      <td>1.622407</td>\n",
       "      <td>4.464730</td>\n",
       "      <td>0.000000</td>\n",
       "      <td>4</td>\n",
       "      <td>4</td>\n",
       "      <td>5</td>\n",
       "      <td>6</td>\n",
       "      <td>0</td>\n",
       "      <td>...</td>\n",
       "      <td>1</td>\n",
       "      <td>0</td>\n",
       "      <td>0</td>\n",
       "      <td>0</td>\n",
       "      <td>1</td>\n",
       "      <td>0</td>\n",
       "      <td>0</td>\n",
       "      <td>0</td>\n",
       "      <td>0</td>\n",
       "      <td>1</td>\n",
       "    </tr>\n",
       "    <tr>\n",
       "      <th>3</th>\n",
       "      <td>TRAKYTI128C7196464</td>\n",
       "      <td>278</td>\n",
       "      <td>1.470899</td>\n",
       "      <td>4.243386</td>\n",
       "      <td>0.007194</td>\n",
       "      <td>4</td>\n",
       "      <td>3</td>\n",
       "      <td>2</td>\n",
       "      <td>0</td>\n",
       "      <td>4</td>\n",
       "      <td>...</td>\n",
       "      <td>0</td>\n",
       "      <td>0</td>\n",
       "      <td>0</td>\n",
       "      <td>0</td>\n",
       "      <td>0</td>\n",
       "      <td>0</td>\n",
       "      <td>0</td>\n",
       "      <td>0</td>\n",
       "      <td>1</td>\n",
       "      <td>0</td>\n",
       "    </tr>\n",
       "    <tr>\n",
       "      <th>4</th>\n",
       "      <td>TRZNWRQ128F9307622</td>\n",
       "      <td>175</td>\n",
       "      <td>1.576577</td>\n",
       "      <td>4.531532</td>\n",
       "      <td>0.000000</td>\n",
       "      <td>0</td>\n",
       "      <td>1</td>\n",
       "      <td>0</td>\n",
       "      <td>1</td>\n",
       "      <td>1</td>\n",
       "      <td>...</td>\n",
       "      <td>0</td>\n",
       "      <td>0</td>\n",
       "      <td>0</td>\n",
       "      <td>0</td>\n",
       "      <td>0</td>\n",
       "      <td>0</td>\n",
       "      <td>0</td>\n",
       "      <td>0</td>\n",
       "      <td>0</td>\n",
       "      <td>0</td>\n",
       "    </tr>\n",
       "  </tbody>\n",
       "</table>\n",
       "<p>5 rows × 2103 columns</p>\n",
       "</div>"
      ],
      "text/plain": [
       "             track_id  sum_of_words  repeat_times   lenword  prof_percen  \\\n",
       "0  TRXPGWF128F428F1F7           269      2.279661  4.194915     0.096654   \n",
       "1  TRGGQAW128F427F470           180      2.686567  4.402985     0.000000   \n",
       "2  TRYASIL128F147089D           391      1.622407  4.464730     0.000000   \n",
       "3  TRAKYTI128C7196464           278      1.470899  4.243386     0.007194   \n",
       "4  TRZNWRQ128F9307622           175      1.576577  4.531532     0.000000   \n",
       "\n",
       "   like  know  get  love  got  ...    commit  parad  defeat  ganz  correct  \\\n",
       "0     7     4    1     2    1  ...         0      0       0     0        0   \n",
       "1     2     8    4     0    1  ...         0      0       0     0        0   \n",
       "2     4     4    5     6    0  ...         1      0       0     0        1   \n",
       "3     4     3    2     0    4  ...         0      0       0     0        0   \n",
       "4     0     1    0     1    1  ...         0      0       0     0        0   \n",
       "\n",
       "   industri  visit  dove  driver  model  \n",
       "0         0      0     0       0      0  \n",
       "1         0      0     0       0      0  \n",
       "2         0      0     0       0      1  \n",
       "3         0      0     0       1      0  \n",
       "4         0      0     0       0      0  \n",
       "\n",
       "[5 rows x 2103 columns]"
      ]
     },
     "execution_count": 89,
     "metadata": {},
     "output_type": "execute_result"
    }
   ],
   "source": [
    "df_newfea=pd.read_csv(\"new_features.csv\")\n",
    "df_pro=pd.read_csv(\"songs_merged_profanity.csv\")\n",
    "df_newfea=df_newfea.drop(['count_of_words'], axis=1)\n",
    "df_pro_clean=df_pro[['track_id','prof_percen']]\n",
    "df_svm_ad=X.merge(df_newfea,on='track_id',how='left')\n",
    "df_svm_ad=df_svm_ad.merge(df_pro_clean,on='track_id',how='left')\n",
    "col_name_new = df_svm_ad.columns.tolist()\n",
    "col_name2=col_name_new[0:1]+col_name_new[-4:]+col_name_new[1:2099]\n",
    "X=df_svm_ad.reindex(columns=col_name2)\n",
    "X.to_csv('svm_new_features.csv',index=False)"
   ]
  },
  {
   "cell_type": "code",
   "execution_count": 96,
   "metadata": {},
   "outputs": [
    {
     "data": {
      "text/html": [
       "<div>\n",
       "<style scoped>\n",
       "    .dataframe tbody tr th:only-of-type {\n",
       "        vertical-align: middle;\n",
       "    }\n",
       "\n",
       "    .dataframe tbody tr th {\n",
       "        vertical-align: top;\n",
       "    }\n",
       "\n",
       "    .dataframe thead th {\n",
       "        text-align: right;\n",
       "    }\n",
       "</style>\n",
       "<table border=\"1\" class=\"dataframe\">\n",
       "  <thead>\n",
       "    <tr style=\"text-align: right;\">\n",
       "      <th></th>\n",
       "      <th>sum_of_words</th>\n",
       "      <th>repeat_times</th>\n",
       "      <th>lenword</th>\n",
       "      <th>prof_percen</th>\n",
       "      <th>like</th>\n",
       "      <th>know</th>\n",
       "      <th>get</th>\n",
       "      <th>love</th>\n",
       "      <th>got</th>\n",
       "      <th>go</th>\n",
       "      <th>...</th>\n",
       "      <th>commit</th>\n",
       "      <th>parad</th>\n",
       "      <th>defeat</th>\n",
       "      <th>ganz</th>\n",
       "      <th>correct</th>\n",
       "      <th>industri</th>\n",
       "      <th>visit</th>\n",
       "      <th>dove</th>\n",
       "      <th>driver</th>\n",
       "      <th>model</th>\n",
       "    </tr>\n",
       "  </thead>\n",
       "  <tbody>\n",
       "    <tr>\n",
       "      <th>0</th>\n",
       "      <td>269</td>\n",
       "      <td>2.279661</td>\n",
       "      <td>4.194915</td>\n",
       "      <td>0.096654</td>\n",
       "      <td>7</td>\n",
       "      <td>4</td>\n",
       "      <td>1</td>\n",
       "      <td>2</td>\n",
       "      <td>1</td>\n",
       "      <td>2</td>\n",
       "      <td>...</td>\n",
       "      <td>0</td>\n",
       "      <td>0</td>\n",
       "      <td>0</td>\n",
       "      <td>0</td>\n",
       "      <td>0</td>\n",
       "      <td>0</td>\n",
       "      <td>0</td>\n",
       "      <td>0</td>\n",
       "      <td>0</td>\n",
       "      <td>0</td>\n",
       "    </tr>\n",
       "    <tr>\n",
       "      <th>1</th>\n",
       "      <td>180</td>\n",
       "      <td>2.686567</td>\n",
       "      <td>4.402985</td>\n",
       "      <td>0.000000</td>\n",
       "      <td>2</td>\n",
       "      <td>8</td>\n",
       "      <td>4</td>\n",
       "      <td>0</td>\n",
       "      <td>1</td>\n",
       "      <td>0</td>\n",
       "      <td>...</td>\n",
       "      <td>0</td>\n",
       "      <td>0</td>\n",
       "      <td>0</td>\n",
       "      <td>0</td>\n",
       "      <td>0</td>\n",
       "      <td>0</td>\n",
       "      <td>0</td>\n",
       "      <td>0</td>\n",
       "      <td>0</td>\n",
       "      <td>0</td>\n",
       "    </tr>\n",
       "    <tr>\n",
       "      <th>2</th>\n",
       "      <td>391</td>\n",
       "      <td>1.622407</td>\n",
       "      <td>4.464730</td>\n",
       "      <td>0.000000</td>\n",
       "      <td>4</td>\n",
       "      <td>4</td>\n",
       "      <td>5</td>\n",
       "      <td>6</td>\n",
       "      <td>0</td>\n",
       "      <td>2</td>\n",
       "      <td>...</td>\n",
       "      <td>1</td>\n",
       "      <td>0</td>\n",
       "      <td>0</td>\n",
       "      <td>0</td>\n",
       "      <td>1</td>\n",
       "      <td>0</td>\n",
       "      <td>0</td>\n",
       "      <td>0</td>\n",
       "      <td>0</td>\n",
       "      <td>1</td>\n",
       "    </tr>\n",
       "    <tr>\n",
       "      <th>3</th>\n",
       "      <td>278</td>\n",
       "      <td>1.470899</td>\n",
       "      <td>4.243386</td>\n",
       "      <td>0.007194</td>\n",
       "      <td>4</td>\n",
       "      <td>3</td>\n",
       "      <td>2</td>\n",
       "      <td>0</td>\n",
       "      <td>4</td>\n",
       "      <td>0</td>\n",
       "      <td>...</td>\n",
       "      <td>0</td>\n",
       "      <td>0</td>\n",
       "      <td>0</td>\n",
       "      <td>0</td>\n",
       "      <td>0</td>\n",
       "      <td>0</td>\n",
       "      <td>0</td>\n",
       "      <td>0</td>\n",
       "      <td>1</td>\n",
       "      <td>0</td>\n",
       "    </tr>\n",
       "    <tr>\n",
       "      <th>4</th>\n",
       "      <td>175</td>\n",
       "      <td>1.576577</td>\n",
       "      <td>4.531532</td>\n",
       "      <td>0.000000</td>\n",
       "      <td>0</td>\n",
       "      <td>1</td>\n",
       "      <td>0</td>\n",
       "      <td>1</td>\n",
       "      <td>1</td>\n",
       "      <td>2</td>\n",
       "      <td>...</td>\n",
       "      <td>0</td>\n",
       "      <td>0</td>\n",
       "      <td>0</td>\n",
       "      <td>0</td>\n",
       "      <td>0</td>\n",
       "      <td>0</td>\n",
       "      <td>0</td>\n",
       "      <td>0</td>\n",
       "      <td>0</td>\n",
       "      <td>0</td>\n",
       "    </tr>\n",
       "  </tbody>\n",
       "</table>\n",
       "<p>5 rows × 2102 columns</p>\n",
       "</div>"
      ],
      "text/plain": [
       "   sum_of_words  repeat_times   lenword  prof_percen  like  know  get  love  \\\n",
       "0           269      2.279661  4.194915     0.096654     7     4    1     2   \n",
       "1           180      2.686567  4.402985     0.000000     2     8    4     0   \n",
       "2           391      1.622407  4.464730     0.000000     4     4    5     6   \n",
       "3           278      1.470899  4.243386     0.007194     4     3    2     0   \n",
       "4           175      1.576577  4.531532     0.000000     0     1    0     1   \n",
       "\n",
       "   got  go  ...    commit  parad  defeat  ganz  correct  industri  visit  \\\n",
       "0    1   2  ...         0      0       0     0        0         0      0   \n",
       "1    1   0  ...         0      0       0     0        0         0      0   \n",
       "2    0   2  ...         1      0       0     0        1         0      0   \n",
       "3    4   0  ...         0      0       0     0        0         0      0   \n",
       "4    1   2  ...         0      0       0     0        0         0      0   \n",
       "\n",
       "   dove  driver  model  \n",
       "0     0       0      0  \n",
       "1     0       0      0  \n",
       "2     0       0      1  \n",
       "3     0       1      0  \n",
       "4     0       0      0  \n",
       "\n",
       "[5 rows x 2102 columns]"
      ]
     },
     "execution_count": 96,
     "metadata": {},
     "output_type": "execute_result"
    }
   ],
   "source": [
    "X=X.iloc[:,1:]\n",
    "X.head()"
   ]
  },
  {
   "cell_type": "code",
   "execution_count": 84,
   "metadata": {},
   "outputs": [],
   "source": [
    "[X_train,X_test,y_train,y_test]=train_test_split(X,y,test_size=.4,random_state=0)"
   ]
  },
  {
   "cell_type": "code",
   "execution_count": 85,
   "metadata": {},
   "outputs": [
    {
     "data": {
      "text/plain": [
       "0.8662733529990168"
      ]
     },
     "execution_count": 85,
     "metadata": {},
     "output_type": "execute_result"
    }
   ],
   "source": [
    "y_pred=OneVsOneClassifier(LinearSVC(random_state = 0)).fit(X_train,y_train).predict(X_test)\n",
    "score=metrics.accuracy_score(y_test, y_pred)\n",
    "score"
   ]
  },
  {
   "cell_type": "markdown",
   "metadata": {},
   "source": [
    "# Modify the parameter of Linear SVC"
   ]
  },
  {
   "cell_type": "markdown",
   "metadata": {},
   "source": [
    "# a. change the kernel:'linear',‘poly’, ‘rbf’, ‘sigmoid’"
   ]
  },
  {
   "cell_type": "code",
   "execution_count": 97,
   "metadata": {},
   "outputs": [],
   "source": [
    "[X_train,X_test,y_train,y_test]=train_test_split(X,y,test_size=.4,random_state=0)"
   ]
  },
  {
   "cell_type": "code",
   "execution_count": 98,
   "metadata": {},
   "outputs": [
    {
     "data": {
      "text/plain": [
       "0.8662733529990168"
      ]
     },
     "execution_count": 98,
     "metadata": {},
     "output_type": "execute_result"
    }
   ],
   "source": [
    "y_pred=OneVsOneClassifier(LinearSVC(random_state = 0)).fit(X_train,y_train).predict(X_test)\n",
    "score=metrics.accuracy_score(y_test, y_pred)\n",
    "score"
   ]
  },
  {
   "cell_type": "code",
   "execution_count": 100,
   "metadata": {},
   "outputs": [
    {
     "data": {
      "text/plain": [
       "[0.9625122910521141,\n",
       " 0.8177236971484759,\n",
       " 0.6617502458210422,\n",
       " 0.2000983284169125]"
      ]
     },
     "execution_count": 100,
     "metadata": {},
     "output_type": "execute_result"
    }
   ],
   "source": [
    "kernel=['linear','poly','rbf','sigmoid']\n",
    "score_kernel=[]\n",
    "for k in kernel:\n",
    "    y_pred=OneVsOneClassifier(SVC(random_state = 0,kernel=k)).fit(X_train,y_train).predict(X_test)\n",
    "    score_kernel.append(metrics.accuracy_score(y_test, y_pred))\n",
    "score_kernel"
   ]
  },
  {
   "cell_type": "markdown",
   "metadata": {},
   "source": [
    "# b. change the penalty C"
   ]
  },
  {
   "cell_type": "code",
   "execution_count": 101,
   "metadata": {},
   "outputs": [
    {
     "name": "stdout",
     "output_type": "stream",
     "text": [
      "0.1\n",
      "0.4\n",
      "0.7\n",
      "1.0\n",
      "1.5\n",
      "2\n",
      "5\n",
      "10\n"
     ]
    },
    {
     "data": {
      "text/plain": [
       "[0.9546460176991151,\n",
       " 0.9584562438544739,\n",
       " 0.9611602753195674,\n",
       " 0.9625122910521141,\n",
       " 0.9636184857423795,\n",
       " 0.9637413962635202,\n",
       " 0.9637413962635202,\n",
       " 0.9637413962635202]"
      ]
     },
     "execution_count": 101,
     "metadata": {},
     "output_type": "execute_result"
    }
   ],
   "source": [
    "penalty=[0.1,0.4,0.7,1.0,1.5,2,5,10] \n",
    "penalty_score=[]\n",
    "for c in penalty:\n",
    "    print(c)\n",
    "    y_pred=OneVsOneClassifier(SVC(random_state = 0,kernel='linear',C=c)).fit(X_train,y_train).predict(X_test)\n",
    "    penalty_score.append(metrics.accuracy_score(y_test, y_pred))\n",
    "penalty_score\n",
    "    "
   ]
  },
  {
   "cell_type": "code",
   "execution_count": 108,
   "metadata": {},
   "outputs": [
    {
     "data": {
      "text/plain": [
       "Text(0.5,1,'Accuracy score changes with the penalty C')"
      ]
     },
     "execution_count": 108,
     "metadata": {},
     "output_type": "execute_result"
    },
    {
     "data": {
      "image/png": "[encoded data removed]",
      "text/plain": [
       "<matplotlib.figure.Figure at 0x1a1e1716d8>"
      ]
     },
     "metadata": {},
     "output_type": "display_data"
    }
   ],
   "source": [
    "plt.plot(penalty,penalty_score)\n",
    "plt.xlabel(\"penalty C\")\n",
    "plt.ylabel(\"accuracy score\")\n",
    "plt.title(\"Accuracy score changes with the penalty C\")"
   ]
  },
  {
   "cell_type": "code",
   "execution_count": 109,
   "metadata": {},
   "outputs": [
    {
     "data": {
      "text/plain": [
       "0.9637413962635202"
      ]
     },
     "execution_count": 109,
     "metadata": {},
     "output_type": "execute_result"
    }
   ],
   "source": [
    "metrics.accuracy_score(y_test, y_pred)"
   ]
  },
  {
   "cell_type": "code",
   "execution_count": 112,
   "metadata": {},
   "outputs": [
    {
     "data": {
      "text/plain": [
       "(-1, 15)"
      ]
     },
     "execution_count": 112,
     "metadata": {},
     "output_type": "execute_result"
    },
    {
     "data": {
      "image/png": "[encoded data removed]",
      "text/plain": [
       "<matplotlib.figure.Figure at 0x1a23b296d8>"
      ]
     },
     "metadata": {},
     "output_type": "display_data"
    }
   ],
   "source": [
    "plt.scatter(y_test,y_pred,alpha=0.5)\n",
    "plt.xlabel('test')\n",
    "plt.ylabel('pred')\n",
    "plt.xlim(-1, 15)"
   ]
  },
  {
   "cell_type": "markdown",
   "metadata": {},
   "source": [
    "'rock':0,'hiphop':1,'pop':2,'metal':3,'indie':4,'rap':5,'punk':6,'country':7,'soul':8, 'folk':9,'electronic':10,'classic rock':11,'jazz':12,'blues':13 \n",
    "\n",
    "ranked by number of words in each genre"
   ]
  },
  {
   "cell_type": "code",
   "execution_count": null,
   "metadata": {},
   "outputs": [],
   "source": []
  }
 ],
 "metadata": {
  "kernelspec": {
   "display_name": "Python 3",
   "language": "python",
   "name": "python3"
  },
  "language_info": {
   "codemirror_mode": {
    "name": "ipython",
    "version": 3
   },
   "file_extension": ".py",
   "mimetype": "text/x-python",
   "name": "python",
   "nbconvert_exporter": "python",
   "pygments_lexer": "ipython3",
   "version": "3.6.4"
  }
 },
 "nbformat": 4,
 "nbformat_minor": 2
}
