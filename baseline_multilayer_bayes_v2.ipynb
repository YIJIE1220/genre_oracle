{
 "cells": [
  {
   "cell_type": "code",
   "execution_count": 1,
   "metadata": {},
   "outputs": [],
   "source": [
    "import pandas as pd\n",
    "import sqlite3 as sql\n",
    "import numpy as np\n",
    "from heapq import nlargest\n",
    "import random\n",
    "from sklearn.model_selection import train_test_split as tts\n",
    "import math   "
   ]
  },
  {
   "cell_type": "code",
   "execution_count": 2,
   "metadata": {},
   "outputs": [
    {
     "data": {
      "text/plain": [
       "<sqlite3.Cursor at 0x1a1a696340>"
      ]
     },
     "execution_count": 2,
     "metadata": {},
     "output_type": "execute_result"
    }
   ],
   "source": [
    "# require data: track_metadata.db, mxm_dataset.db, lastfm_tags.db, songs.csv\n",
    "\n",
    "conn = sql.connect(\"dat/track_metadata.db\")\n",
    "c = conn.cursor()\n",
    "c.execute(\"attach 'dat/mxm_dataset.db' AS lyr;\")\n",
    "c.execute(\"attach 'dat/lastfm_tags.db' AS tag;\") \n"
   ]
  },
  {
   "cell_type": "code",
   "execution_count": 3,
   "metadata": {},
   "outputs": [
    {
     "name": "stdout",
     "output_type": "stream",
     "text": [
      "('songs',)\n",
      "('words',)\n",
      "('lyrics',)\n",
      "('tags',)\n",
      "('tids',)\n",
      "('tid_tag',)\n"
     ]
    }
   ],
   "source": [
    "for row in c.execute(\"SELECT name FROM main.sqlite_master WHERE type='table';\"):\n",
    "    print(row)\n",
    "for row in c.execute(\"SELECT name FROM lyr.sqlite_master WHERE type='table';\"):\n",
    "    print(row)\n",
    "for row in c.execute(\"SELECT name FROM tag.sqlite_master WHERE type='table';\"):\n",
    "    print(row)"
   ]
  },
  {
   "cell_type": "code",
   "execution_count": 4,
   "metadata": {},
   "outputs": [],
   "source": [
    "songs = pd.read_csv(\"dat/songs.csv\")[['CT', 'track_id', 'song_name_cleaned', 'duration', 'artist_familiarity', 'year', 'genre_merged']]\n",
    "songs[\"genre_merged\"] = songs[\"genre_merged\"].str.replace(\"rap\",\"hiphop\")\n",
    "songs = songs.drop_duplicates([\"track_id\",\"genre_merged\"])"
   ]
  },
  {
   "cell_type": "code",
   "execution_count": 5,
   "metadata": {},
   "outputs": [],
   "source": [
    "# songs = songs.merge(songs.groupby(\"track_id\")[\"genre_merged\"].agg([\"count\"]).reset_index(),on=\"track_id\")"
   ]
  },
  {
   "cell_type": "code",
   "execution_count": 6,
   "metadata": {},
   "outputs": [],
   "source": [
    "# combo = set()\n",
    "# for i, id in enumerate(songs[\"track_id\"].drop_duplicates()):\n",
    "#     temp_tag = tuple(sorted(list(songs[songs[\"track_id\"] == id].genre_merged)))\n",
    "#     combo.add(temp_tag)\n",
    "# len(combo) = 676"
   ]
  },
  {
   "cell_type": "code",
   "execution_count": 7,
   "metadata": {},
   "outputs": [
    {
     "data": {
      "text/plain": [
       "21167"
      ]
     },
     "execution_count": 7,
     "metadata": {},
     "output_type": "execute_result"
    }
   ],
   "source": [
    "len(songs.track_id.drop_duplicates())"
   ]
  },
  {
   "cell_type": "code",
   "execution_count": 8,
   "metadata": {},
   "outputs": [],
   "source": [
    "songcount = songs.groupby(\"genre_merged\")[\"track_id\"].agg([\"count\"]).reset_index()"
   ]
  },
  {
   "cell_type": "code",
   "execution_count": 9,
   "metadata": {},
   "outputs": [
    {
     "name": "stdout",
     "output_type": "stream",
     "text": [
      "['blues', 'jazz', 'country', 'classic rock', 'electronic', 'folk', 'soul', 'punk', 'metal', 'indie', 'hiphop', 'pop', 'rock']\n"
     ]
    }
   ],
   "source": [
    "print(list(songcount.sort_values(\"count\")['genre_merged']))"
   ]
  },
  {
   "cell_type": "code",
   "execution_count": 10,
   "metadata": {},
   "outputs": [],
   "source": [
    "# outer tag \n",
    "map1 = {'rock':'rock',\n",
    " 'indie':'indie',\n",
    " 'folk':'folk',\n",
    " 'electronic':'electronic',\n",
    " 'classic rock':'rock',\n",
    " 'country':'rock',\n",
    " 'blues':'blues',\n",
    " 'metal':'rock',\n",
    " 'jazz':'blues',\n",
    " 'pop':'pop',\n",
    " 'punk':'rock',\n",
    " 'hiphop':'hiphop',\n",
    " 'soul':'blues'}"
   ]
  },
  {
   "cell_type": "code",
   "execution_count": 11,
   "metadata": {},
   "outputs": [],
   "source": [
    "songs[\"outer_g\"] = songs[\"genre_merged\"].map(map1)"
   ]
  },
  {
   "cell_type": "code",
   "execution_count": 12,
   "metadata": {},
   "outputs": [
    {
     "data": {
      "text/html": [
       "<div>\n",
       "<style scoped>\n",
       "    .dataframe tbody tr th:only-of-type {\n",
       "        vertical-align: middle;\n",
       "    }\n",
       "\n",
       "    .dataframe tbody tr th {\n",
       "        vertical-align: top;\n",
       "    }\n",
       "\n",
       "    .dataframe thead th {\n",
       "        text-align: right;\n",
       "    }\n",
       "</style>\n",
       "<table border=\"1\" class=\"dataframe\">\n",
       "  <thead>\n",
       "    <tr style=\"text-align: right;\">\n",
       "      <th></th>\n",
       "      <th>CT</th>\n",
       "      <th>track_id</th>\n",
       "      <th>song_name_cleaned</th>\n",
       "      <th>duration</th>\n",
       "      <th>artist_familiarity</th>\n",
       "      <th>year</th>\n",
       "      <th>genre_merged</th>\n",
       "      <th>outer_g</th>\n",
       "    </tr>\n",
       "  </thead>\n",
       "  <tbody>\n",
       "    <tr>\n",
       "      <th>0</th>\n",
       "      <td>174</td>\n",
       "      <td>TRAABIG128F9356C56</td>\n",
       "      <td>walk the walk</td>\n",
       "      <td>290.16771</td>\n",
       "      <td>0.690786</td>\n",
       "      <td>2000</td>\n",
       "      <td>rock</td>\n",
       "      <td>rock</td>\n",
       "    </tr>\n",
       "    <tr>\n",
       "      <th>2</th>\n",
       "      <td>174</td>\n",
       "      <td>TRAABIG128F9356C56</td>\n",
       "      <td>walk the walk</td>\n",
       "      <td>290.16771</td>\n",
       "      <td>0.690786</td>\n",
       "      <td>2000</td>\n",
       "      <td>indie</td>\n",
       "      <td>indie</td>\n",
       "    </tr>\n",
       "    <tr>\n",
       "      <th>3</th>\n",
       "      <td>174</td>\n",
       "      <td>TRAABIG128F9356C56</td>\n",
       "      <td>walk the walk</td>\n",
       "      <td>290.16771</td>\n",
       "      <td>0.690786</td>\n",
       "      <td>2000</td>\n",
       "      <td>folk</td>\n",
       "      <td>folk</td>\n",
       "    </tr>\n",
       "    <tr>\n",
       "      <th>4</th>\n",
       "      <td>174</td>\n",
       "      <td>TRAABIG128F9356C56</td>\n",
       "      <td>walk the walk</td>\n",
       "      <td>290.16771</td>\n",
       "      <td>0.690786</td>\n",
       "      <td>2000</td>\n",
       "      <td>electronic</td>\n",
       "      <td>electronic</td>\n",
       "    </tr>\n",
       "    <tr>\n",
       "      <th>5</th>\n",
       "      <td>102</td>\n",
       "      <td>TRAABLR128F423B7E3</td>\n",
       "      <td>floating</td>\n",
       "      <td>491.12771</td>\n",
       "      <td>0.636424</td>\n",
       "      <td>1987</td>\n",
       "      <td>classic rock</td>\n",
       "      <td>rock</td>\n",
       "    </tr>\n",
       "  </tbody>\n",
       "</table>\n",
       "</div>"
      ],
      "text/plain": [
       "    CT            track_id song_name_cleaned   duration  artist_familiarity  \\\n",
       "0  174  TRAABIG128F9356C56     walk the walk  290.16771            0.690786   \n",
       "2  174  TRAABIG128F9356C56     walk the walk  290.16771            0.690786   \n",
       "3  174  TRAABIG128F9356C56     walk the walk  290.16771            0.690786   \n",
       "4  174  TRAABIG128F9356C56     walk the walk  290.16771            0.690786   \n",
       "5  102  TRAABLR128F423B7E3          floating  491.12771            0.636424   \n",
       "\n",
       "   year  genre_merged     outer_g  \n",
       "0  2000          rock        rock  \n",
       "2  2000         indie       indie  \n",
       "3  2000          folk        folk  \n",
       "4  2000    electronic  electronic  \n",
       "5  1987  classic rock        rock  "
      ]
     },
     "execution_count": 12,
     "metadata": {},
     "output_type": "execute_result"
    }
   ],
   "source": [
    "songs.head()"
   ]
  },
  {
   "cell_type": "code",
   "execution_count": 13,
   "metadata": {},
   "outputs": [],
   "source": [
    "def select_songs(n, col=\"genre_merged\"):\n",
    "    df = pd.DataFrame(columns = ['CT', 'track_id', 'song_name_cleaned', 'duration', 'artist_familiarity', 'year', 'genre_merged', \"outer_g\"])\n",
    "    # tags = ['rock', 'pop', 'hiphop', 'indie', 'metal', 'punk', 'soul', 'folk', 'electronic', 'classic rock', 'country', 'jazz', 'blues']\n",
    "    tags = ['blues', 'jazz', 'country', 'classic rock', 'electronic', 'folk', 'soul', 'punk', 'metal', 'indie', 'hiphop', 'pop', 'rock']\n",
    "    # tags = ['rock', 'pop', 'hiphop', 'indie', 'blues', 'folk', 'electronic']\n",
    "    for tag in tags:  \n",
    "        df2 = songs[songs[\"track_id\"].isin(df.track_id)]\n",
    "        overlap = len(df2[df2[\"genre_merged\"]==tag])\n",
    "        # temp = songs[(songs[col]==tag) & (~songs[\"track_id\"].isin(df.track_id))].sample(300, random_state = 30)\n",
    "        temp = songs[(songs[col]==tag) & (~songs[\"track_id\"].isin(df.track_id))].sample(((300-overlap) if (300-overlap) > 0 else 0), random_state = 30)\n",
    "        df = pd.concat([df, temp])\n",
    "    return df"
   ]
  },
  {
   "cell_type": "code",
   "execution_count": 14,
   "metadata": {},
   "outputs": [],
   "source": [
    "train_songs = (select_songs(300))\n",
    "test_songs = songs[(~songs[\"track_id\"].isin(train_songs[\"track_id\"]))]"
   ]
  },
  {
   "cell_type": "code",
   "execution_count": 15,
   "metadata": {},
   "outputs": [
    {
     "data": {
      "text/html": [
       "<div>\n",
       "<style scoped>\n",
       "    .dataframe tbody tr th:only-of-type {\n",
       "        vertical-align: middle;\n",
       "    }\n",
       "\n",
       "    .dataframe tbody tr th {\n",
       "        vertical-align: top;\n",
       "    }\n",
       "\n",
       "    .dataframe thead th {\n",
       "        text-align: right;\n",
       "    }\n",
       "</style>\n",
       "<table border=\"1\" class=\"dataframe\">\n",
       "  <thead>\n",
       "    <tr style=\"text-align: right;\">\n",
       "      <th></th>\n",
       "      <th>CT</th>\n",
       "      <th>track_id</th>\n",
       "      <th>song_name_cleaned</th>\n",
       "      <th>duration</th>\n",
       "      <th>artist_familiarity</th>\n",
       "      <th>year</th>\n",
       "      <th>genre_merged</th>\n",
       "      <th>outer_g</th>\n",
       "    </tr>\n",
       "  </thead>\n",
       "  <tbody>\n",
       "    <tr>\n",
       "      <th>15203</th>\n",
       "      <td>150</td>\n",
       "      <td>TRHEKVS128F149193A</td>\n",
       "      <td>the wreck of the barbie ferrari</td>\n",
       "      <td>276.97587</td>\n",
       "      <td>0.686222</td>\n",
       "      <td>1993</td>\n",
       "      <td>blues</td>\n",
       "      <td>blues</td>\n",
       "    </tr>\n",
       "    <tr>\n",
       "      <th>47394</th>\n",
       "      <td>119</td>\n",
       "      <td>TRXJWOG128EF35E2C7</td>\n",
       "      <td>lien on your dreams</td>\n",
       "      <td>275.90485</td>\n",
       "      <td>0.830676</td>\n",
       "      <td>2007</td>\n",
       "      <td>blues</td>\n",
       "      <td>blues</td>\n",
       "    </tr>\n",
       "    <tr>\n",
       "      <th>24283</th>\n",
       "      <td>109</td>\n",
       "      <td>TRLSEZR128F4214E02</td>\n",
       "      <td>moon over bourbon street</td>\n",
       "      <td>176.03873</td>\n",
       "      <td>0.783414</td>\n",
       "      <td>1985</td>\n",
       "      <td>blues</td>\n",
       "      <td>blues</td>\n",
       "    </tr>\n",
       "    <tr>\n",
       "      <th>32168</th>\n",
       "      <td>101</td>\n",
       "      <td>TRPSUWH128F424492F</td>\n",
       "      <td>candy licker</td>\n",
       "      <td>414.71955</td>\n",
       "      <td>0.522479</td>\n",
       "      <td>2003</td>\n",
       "      <td>blues</td>\n",
       "      <td>blues</td>\n",
       "    </tr>\n",
       "    <tr>\n",
       "      <th>24787</th>\n",
       "      <td>101</td>\n",
       "      <td>TRLZDOJ128F148B0FA</td>\n",
       "      <td>goodbye letter</td>\n",
       "      <td>239.12444</td>\n",
       "      <td>0.698970</td>\n",
       "      <td>2003</td>\n",
       "      <td>blues</td>\n",
       "      <td>blues</td>\n",
       "    </tr>\n",
       "  </tbody>\n",
       "</table>\n",
       "</div>"
      ],
      "text/plain": [
       "        CT            track_id                song_name_cleaned   duration  \\\n",
       "15203  150  TRHEKVS128F149193A  the wreck of the barbie ferrari  276.97587   \n",
       "47394  119  TRXJWOG128EF35E2C7              lien on your dreams  275.90485   \n",
       "24283  109  TRLSEZR128F4214E02         moon over bourbon street  176.03873   \n",
       "32168  101  TRPSUWH128F424492F                     candy licker  414.71955   \n",
       "24787  101  TRLZDOJ128F148B0FA                   goodbye letter  239.12444   \n",
       "\n",
       "       artist_familiarity  year genre_merged outer_g  \n",
       "15203            0.686222  1993        blues   blues  \n",
       "47394            0.830676  2007        blues   blues  \n",
       "24283            0.783414  1985        blues   blues  \n",
       "32168            0.522479  2003        blues   blues  \n",
       "24787            0.698970  2003        blues   blues  "
      ]
     },
     "execution_count": 15,
     "metadata": {},
     "output_type": "execute_result"
    }
   ],
   "source": [
    "train_songs.head()"
   ]
  },
  {
   "cell_type": "code",
   "execution_count": 16,
   "metadata": {},
   "outputs": [
    {
     "data": {
      "text/html": [
       "<div>\n",
       "<style scoped>\n",
       "    .dataframe tbody tr th:only-of-type {\n",
       "        vertical-align: middle;\n",
       "    }\n",
       "\n",
       "    .dataframe tbody tr th {\n",
       "        vertical-align: top;\n",
       "    }\n",
       "\n",
       "    .dataframe thead th {\n",
       "        text-align: right;\n",
       "    }\n",
       "</style>\n",
       "<table border=\"1\" class=\"dataframe\">\n",
       "  <thead>\n",
       "    <tr style=\"text-align: right;\">\n",
       "      <th></th>\n",
       "      <th>genre_merged</th>\n",
       "      <th>count</th>\n",
       "    </tr>\n",
       "  </thead>\n",
       "  <tbody>\n",
       "    <tr>\n",
       "      <th>0</th>\n",
       "      <td>blues</td>\n",
       "      <td>364</td>\n",
       "    </tr>\n",
       "    <tr>\n",
       "      <th>1</th>\n",
       "      <td>classic rock</td>\n",
       "      <td>363</td>\n",
       "    </tr>\n",
       "    <tr>\n",
       "      <th>2</th>\n",
       "      <td>country</td>\n",
       "      <td>323</td>\n",
       "    </tr>\n",
       "    <tr>\n",
       "      <th>3</th>\n",
       "      <td>electronic</td>\n",
       "      <td>328</td>\n",
       "    </tr>\n",
       "    <tr>\n",
       "      <th>4</th>\n",
       "      <td>folk</td>\n",
       "      <td>317</td>\n",
       "    </tr>\n",
       "    <tr>\n",
       "      <th>5</th>\n",
       "      <td>hiphop</td>\n",
       "      <td>300</td>\n",
       "    </tr>\n",
       "    <tr>\n",
       "      <th>6</th>\n",
       "      <td>indie</td>\n",
       "      <td>410</td>\n",
       "    </tr>\n",
       "    <tr>\n",
       "      <th>7</th>\n",
       "      <td>jazz</td>\n",
       "      <td>330</td>\n",
       "    </tr>\n",
       "    <tr>\n",
       "      <th>8</th>\n",
       "      <td>metal</td>\n",
       "      <td>301</td>\n",
       "    </tr>\n",
       "    <tr>\n",
       "      <th>9</th>\n",
       "      <td>pop</td>\n",
       "      <td>574</td>\n",
       "    </tr>\n",
       "    <tr>\n",
       "      <th>10</th>\n",
       "      <td>punk</td>\n",
       "      <td>323</td>\n",
       "    </tr>\n",
       "    <tr>\n",
       "      <th>11</th>\n",
       "      <td>rock</td>\n",
       "      <td>915</td>\n",
       "    </tr>\n",
       "    <tr>\n",
       "      <th>12</th>\n",
       "      <td>soul</td>\n",
       "      <td>315</td>\n",
       "    </tr>\n",
       "  </tbody>\n",
       "</table>\n",
       "</div>"
      ],
      "text/plain": [
       "    genre_merged  count\n",
       "0          blues    364\n",
       "1   classic rock    363\n",
       "2        country    323\n",
       "3     electronic    328\n",
       "4           folk    317\n",
       "5         hiphop    300\n",
       "6          indie    410\n",
       "7           jazz    330\n",
       "8          metal    301\n",
       "9            pop    574\n",
       "10          punk    323\n",
       "11          rock    915\n",
       "12          soul    315"
      ]
     },
     "execution_count": 16,
     "metadata": {},
     "output_type": "execute_result"
    }
   ],
   "source": [
    "songs[songs[\"track_id\"].isin(train_songs.track_id)].groupby(\"genre_merged\")[\"track_id\"].agg([\"count\"]).reset_index()"
   ]
  },
  {
   "cell_type": "code",
   "execution_count": 17,
   "metadata": {},
   "outputs": [
    {
     "data": {
      "text/plain": [
       "39825"
      ]
     },
     "execution_count": 17,
     "metadata": {},
     "output_type": "execute_result"
    }
   ],
   "source": [
    "len(songs[[\"track_id\", \"genre_merged\"]])"
   ]
  },
  {
   "cell_type": "code",
   "execution_count": 18,
   "metadata": {},
   "outputs": [],
   "source": [
    "sql_train = \"SELECT track_id, word, count FROM lyr.lyrics WHERE track_id IN {}\".format(str(tuple(train_songs.track_id.drop_duplicates())))\n",
    "sql_test= \"SELECT track_id, word, count FROM lyr.lyrics WHERE track_id IN {}\".format(str(tuple(test_songs.track_id.drop_duplicates())))\n"
   ]
  },
  {
   "cell_type": "code",
   "execution_count": 19,
   "metadata": {},
   "outputs": [],
   "source": [
    "train_lyc = pd.read_sql(sql_train, conn)\n",
    "test_lyc = pd.read_sql(sql_test, conn)"
   ]
  },
  {
   "cell_type": "code",
   "execution_count": 20,
   "metadata": {},
   "outputs": [],
   "source": [
    "import nltk"
   ]
  },
  {
   "cell_type": "code",
   "execution_count": 21,
   "metadata": {},
   "outputs": [
    {
     "name": "stdout",
     "output_type": "stream",
     "text": [
      "[nltk_data] Downloading package stopwords to\n",
      "[nltk_data]     /Users/NyanPassu/nltk_data...\n",
      "[nltk_data]   Package stopwords is already up-to-date!\n"
     ]
    }
   ],
   "source": [
    "nltk.download('stopwords')\n",
    "en_stop = set(nltk.corpus.stopwords.words('english'))"
   ]
  },
  {
   "cell_type": "code",
   "execution_count": 22,
   "metadata": {},
   "outputs": [],
   "source": [
    "sql_wc = \"SELECT word, sum(count) as wc FROM lyr.lyrics \\\n",
    "            WHERE word NOT IN {} \\\n",
    "            GROUP BY word \\\n",
    "            ORDER BY wc DESC \\\n",
    "            LIMIT 100\".format(str(tuple(en_stop)))\n",
    "freq_wd = pd.read_sql(sql_wc, conn)"
   ]
  },
  {
   "cell_type": "code",
   "execution_count": 23,
   "metadata": {},
   "outputs": [],
   "source": [
    "enhanced_stop = en_stop.union(set(freq_wd.word[0:30]))"
   ]
  },
  {
   "cell_type": "code",
   "execution_count": 24,
   "metadata": {},
   "outputs": [],
   "source": [
    "train_lyc = train_lyc[~train_lyc[\"word\"].isin(enhanced_stop)]\n",
    "test_lyc = test_lyc[~test_lyc[\"word\"].isin(enhanced_stop)]"
   ]
  },
  {
   "cell_type": "code",
   "execution_count": 25,
   "metadata": {},
   "outputs": [
    {
     "data": {
      "text/html": [
       "<div>\n",
       "<style scoped>\n",
       "    .dataframe tbody tr th:only-of-type {\n",
       "        vertical-align: middle;\n",
       "    }\n",
       "\n",
       "    .dataframe tbody tr th {\n",
       "        vertical-align: top;\n",
       "    }\n",
       "\n",
       "    .dataframe thead th {\n",
       "        text-align: right;\n",
       "    }\n",
       "</style>\n",
       "<table border=\"1\" class=\"dataframe\">\n",
       "  <thead>\n",
       "    <tr style=\"text-align: right;\">\n",
       "      <th></th>\n",
       "      <th>track_id</th>\n",
       "      <th>word</th>\n",
       "      <th>count</th>\n",
       "    </tr>\n",
       "  </thead>\n",
       "  <tbody>\n",
       "    <tr>\n",
       "      <th>35</th>\n",
       "      <td>TRAABLR128F423B7E3</td>\n",
       "      <td>night</td>\n",
       "      <td>2</td>\n",
       "    </tr>\n",
       "    <tr>\n",
       "      <th>36</th>\n",
       "      <td>TRAABLR128F423B7E3</td>\n",
       "      <td>need</td>\n",
       "      <td>2</td>\n",
       "    </tr>\n",
       "    <tr>\n",
       "      <th>37</th>\n",
       "      <td>TRAABLR128F423B7E3</td>\n",
       "      <td>right</td>\n",
       "      <td>1</td>\n",
       "    </tr>\n",
       "    <tr>\n",
       "      <th>38</th>\n",
       "      <td>TRAABLR128F423B7E3</td>\n",
       "      <td>tell</td>\n",
       "      <td>1</td>\n",
       "    </tr>\n",
       "    <tr>\n",
       "      <th>39</th>\n",
       "      <td>TRAABLR128F423B7E3</td>\n",
       "      <td>live</td>\n",
       "      <td>1</td>\n",
       "    </tr>\n",
       "  </tbody>\n",
       "</table>\n",
       "</div>"
      ],
      "text/plain": [
       "              track_id   word  count\n",
       "35  TRAABLR128F423B7E3  night      2\n",
       "36  TRAABLR128F423B7E3   need      2\n",
       "37  TRAABLR128F423B7E3  right      1\n",
       "38  TRAABLR128F423B7E3   tell      1\n",
       "39  TRAABLR128F423B7E3   live      1"
      ]
     },
     "execution_count": 25,
     "metadata": {},
     "output_type": "execute_result"
    }
   ],
   "source": [
    "train_lyc.head()"
   ]
  },
  {
   "cell_type": "code",
   "execution_count": 26,
   "metadata": {},
   "outputs": [],
   "source": [
    "tags = ['blues', 'jazz', 'country', 'classic rock', 'electronic', 'folk', 'soul', 'punk', 'metal', 'indie', 'hiphop', 'pop', 'rock']\n",
    "outertags = ['rock', 'pop', 'hiphop', 'indie', 'blues', 'folk', 'electronic']"
   ]
  },
  {
   "cell_type": "code",
   "execution_count": 27,
   "metadata": {},
   "outputs": [],
   "source": [
    "def train_by(tags, col):   \n",
    "    temp_train = songs[songs[col].isin(tags)].drop_duplicates([\"track_id\", col])\n",
    "    temp_train_lyc = train_lyc[train_lyc[\"track_id\"].isin(temp_train.track_id)]\n",
    "    lyc_C = temp_train_lyc.merge(temp_train, how = \"inner\", on=\"track_id\")\n",
    "    lyc_C_count = lyc_C.groupby([\"word\", col])[\"count\"].agg(\"sum\").reset_index()\n",
    "    tag_wcount = lyc_C_count.groupby([col])[\"count\"].agg(\"sum\").reset_index()\n",
    "    tag_dict = {}\n",
    "    for index, row in tag_wcount.iterrows():\n",
    "        tag = row[col]\n",
    "        prob = math.log(row[\"count\"] / tag_wcount[\"count\"].sum())\n",
    "        tag_dict.update({tag: prob})\n",
    "        \n",
    "    dummy_dict = {}\n",
    "    for index, row in tag_wcount.iterrows():\n",
    "        tag = row[col]\n",
    "        prob = math.log(0.5 / row[\"count\"])\n",
    "        dummy_dict.update({tag: prob})\n",
    "    \n",
    "    word_dict = {} \n",
    "    for tag in tags: \n",
    "        for index, row in (lyc_C_count[lyc_C_count[col] == tag]).iterrows():\n",
    "            word_t = row[\"word\"]\n",
    "            prob = math.log(row[\"count\"] / tag_wcount[tag_wcount[col] == tag][\"count\"])\n",
    "            word_dict.update({(word_t, tag): prob})\n",
    "    return tag_dict, dummy_dict, word_dict"
   ]
  },
  {
   "cell_type": "code",
   "execution_count": 28,
   "metadata": {},
   "outputs": [],
   "source": [
    "o_td, o_dd, o_wd = train_by(outertags, \"outer_g\")"
   ]
  },
  {
   "cell_type": "code",
   "execution_count": 29,
   "metadata": {},
   "outputs": [
    {
     "data": {
      "text/plain": [
       "{'blues': -1.6913559309107609,\n",
       " 'electronic': -2.4236153775540252,\n",
       " 'folk': -2.6847034022798906,\n",
       " 'hiphop': -2.224712181880013,\n",
       " 'indie': -2.3381271906014804,\n",
       " 'pop': -1.945091263978441,\n",
       " 'rock': -1.1669742813041872}"
      ]
     },
     "execution_count": 29,
     "metadata": {},
     "output_type": "execute_result"
    }
   ],
   "source": [
    "# outer tag, log(probability of tag) \n",
    "o_td"
   ]
  },
  {
   "cell_type": "code",
   "execution_count": 42,
   "metadata": {},
   "outputs": [
    {
     "data": {
      "text/plain": [
       "{'blues': -12.209267536426694,\n",
       " 'electronic': -11.477008089783428,\n",
       " 'folk': -11.215920065057563,\n",
       " 'hiphop': -11.67591128545744,\n",
       " 'indie': -11.562496276735974,\n",
       " 'pop': -11.955532203359013,\n",
       " 'rock': -12.733649186033267}"
      ]
     },
     "execution_count": 42,
     "metadata": {},
     "output_type": "execute_result"
    }
   ],
   "source": [
    "# outer tag, log(probability of dummy) \n",
    "o_dd"
   ]
  },
  {
   "cell_type": "code",
   "execution_count": 75,
   "metadata": {},
   "outputs": [
    {
     "data": {
      "text/plain": [
       "-7.987031831343504"
      ]
     },
     "execution_count": 75,
     "metadata": {},
     "output_type": "execute_result"
    }
   ],
   "source": [
    "# outer tag, log(probability of word) \n",
    "o_wd[(\"ghetto\",\"hiphop\")]"
   ]
  },
  {
   "cell_type": "code",
   "execution_count": 30,
   "metadata": {},
   "outputs": [],
   "source": [
    "b_td, b_dd, b_wd = train_by([\"blues\", \"soul\", \"jazz\"], \"genre_merged\")"
   ]
  },
  {
   "cell_type": "code",
   "execution_count": 31,
   "metadata": {},
   "outputs": [
    {
     "data": {
      "text/plain": [
       "{'blues': -1.0965435804323833,\n",
       " 'jazz': -1.084893812046225,\n",
       " 'soul': -1.114623645232074}"
      ]
     },
     "execution_count": 31,
     "metadata": {},
     "output_type": "execute_result"
    }
   ],
   "source": [
    "b_td"
   ]
  },
  {
   "cell_type": "code",
   "execution_count": 32,
   "metadata": {},
   "outputs": [],
   "source": [
    "r_td, r_dd, r_wd = train_by([\"rock\", \"classic rock\", \"country\", \"metal\", \"punk\"], \"genre_merged\")"
   ]
  },
  {
   "cell_type": "code",
   "execution_count": 33,
   "metadata": {},
   "outputs": [],
   "source": [
    "def b_predict(tid):\n",
    "    outertags = ['rock', 'indie', 'folk', 'electronic', 'blues', 'pop', 'hiphop'] \n",
    "    tag_dict = {key: 0 for key in outertags}\n",
    "    lyc = test_lyc[test_lyc[\"track_id\"] == tid]\n",
    "    for tag in outertags:\n",
    "        for index, row in lyc.iterrows():\n",
    "            word = (row[\"word\"], tag)\n",
    "            if word in o_wd:\n",
    "                \n",
    "                tag_dict[tag] += o_wd[word] + math.log(row[\"count\"])\n",
    "            else:\n",
    "                tag_dict[tag] += o_dd[tag]\n",
    "        tag_dict[tag] = tag_dict[tag] + o_td[tag]\n",
    "    outer_r = (nlargest(3, tag_dict, key=tag_dict.get))\n",
    "\n",
    "    if \"rock\" in outer_r:\n",
    "        rtags = [\"rock\", \"classic rock\", \"country\", \"metal\", \"punk\"]\n",
    "        tag_dict = {key: 0 for key in rtags}\n",
    "        for tag in rtags:\n",
    "            for index, row in lyc.iterrows():\n",
    "                word = (row[\"word\"], tag)\n",
    "                if word in r_wd:\n",
    "                    tag_dict[tag] += r_wd[word] + math.log(row[\"count\"])\n",
    "                else:\n",
    "                    tag_dict[tag] += r_dd[tag]\n",
    "            tag_dict[tag] = tag_dict[tag] + r_td[tag]\n",
    "        r_tag = max(tag_dict, key=tag_dict.get)    \n",
    "        outer_r = [w.replace('rock', r_tag) for w in outer_r]\n",
    "\n",
    "    if \"blues\" in outer_r: \n",
    "        btags = [\"blues\", \"soul\", \"jazz\"]\n",
    "        tag_dict = {key: 0 for key in btags}\n",
    "        for tag in btags:\n",
    "            for index, row in lyc.iterrows():\n",
    "                word = (row[\"word\"], tag)\n",
    "                if word in b_wd:\n",
    "                    tag_dict[tag] += b_wd[word] + math.log(row[\"count\"])\n",
    "                else:\n",
    "                    tag_dict[tag] += b_dd[tag]\n",
    "            tag_dict[tag] = tag_dict[tag] + b_td[tag]\n",
    "        b_tag = max(tag_dict, key=tag_dict.get)\n",
    "        outer_r = [w.replace('blues', b_tag) for w in outer_r]\n",
    "\n",
    "    return outer_r\n"
   ]
  },
  {
   "cell_type": "code",
   "execution_count": 34,
   "metadata": {},
   "outputs": [
    {
     "data": {
      "text/html": [
       "<div>\n",
       "<style scoped>\n",
       "    .dataframe tbody tr th:only-of-type {\n",
       "        vertical-align: middle;\n",
       "    }\n",
       "\n",
       "    .dataframe tbody tr th {\n",
       "        vertical-align: top;\n",
       "    }\n",
       "\n",
       "    .dataframe thead th {\n",
       "        text-align: right;\n",
       "    }\n",
       "</style>\n",
       "<table border=\"1\" class=\"dataframe\">\n",
       "  <thead>\n",
       "    <tr style=\"text-align: right;\">\n",
       "      <th></th>\n",
       "      <th>CT</th>\n",
       "      <th>track_id</th>\n",
       "      <th>song_name_cleaned</th>\n",
       "      <th>duration</th>\n",
       "      <th>artist_familiarity</th>\n",
       "      <th>year</th>\n",
       "      <th>genre_merged</th>\n",
       "      <th>outer_g</th>\n",
       "    </tr>\n",
       "  </thead>\n",
       "  <tbody>\n",
       "    <tr>\n",
       "      <th>21</th>\n",
       "      <td>150</td>\n",
       "      <td>TRAACZN128F93236B1</td>\n",
       "      <td>seaweed</td>\n",
       "      <td>218.95791</td>\n",
       "      <td>0.707387</td>\n",
       "      <td>2004</td>\n",
       "      <td>hiphop</td>\n",
       "      <td>hiphop</td>\n",
       "    </tr>\n",
       "    <tr>\n",
       "      <th>48</th>\n",
       "      <td>143</td>\n",
       "      <td>TRAAHEG128E07861C3</td>\n",
       "      <td>wkya (drop)</td>\n",
       "      <td>124.18567</td>\n",
       "      <td>0.743130</td>\n",
       "      <td>2001</td>\n",
       "      <td>hiphop</td>\n",
       "      <td>hiphop</td>\n",
       "    </tr>\n",
       "    <tr>\n",
       "      <th>64</th>\n",
       "      <td>274</td>\n",
       "      <td>TRAANWA128F426ADF0</td>\n",
       "      <td>assassination day</td>\n",
       "      <td>257.22730</td>\n",
       "      <td>0.794504</td>\n",
       "      <td>1996</td>\n",
       "      <td>hiphop</td>\n",
       "      <td>hiphop</td>\n",
       "    </tr>\n",
       "    <tr>\n",
       "      <th>79</th>\n",
       "      <td>188</td>\n",
       "      <td>TRAAQIH128F428BDEA</td>\n",
       "      <td>(bloody paw on the) kill floor</td>\n",
       "      <td>192.18240</td>\n",
       "      <td>0.618003</td>\n",
       "      <td>2007</td>\n",
       "      <td>hiphop</td>\n",
       "      <td>hiphop</td>\n",
       "    </tr>\n",
       "    <tr>\n",
       "      <th>88</th>\n",
       "      <td>218</td>\n",
       "      <td>TRAASGM128EF34DBB0</td>\n",
       "      <td>never forget me</td>\n",
       "      <td>286.30159</td>\n",
       "      <td>0.815923</td>\n",
       "      <td>2007</td>\n",
       "      <td>hiphop</td>\n",
       "      <td>hiphop</td>\n",
       "    </tr>\n",
       "  </tbody>\n",
       "</table>\n",
       "</div>"
      ],
      "text/plain": [
       "     CT            track_id               song_name_cleaned   duration  \\\n",
       "21  150  TRAACZN128F93236B1                         seaweed  218.95791   \n",
       "48  143  TRAAHEG128E07861C3                     wkya (drop)  124.18567   \n",
       "64  274  TRAANWA128F426ADF0               assassination day  257.22730   \n",
       "79  188  TRAAQIH128F428BDEA  (bloody paw on the) kill floor  192.18240   \n",
       "88  218  TRAASGM128EF34DBB0                 never forget me  286.30159   \n",
       "\n",
       "    artist_familiarity  year genre_merged outer_g  \n",
       "21            0.707387  2004       hiphop  hiphop  \n",
       "48            0.743130  2001       hiphop  hiphop  \n",
       "64            0.794504  1996       hiphop  hiphop  \n",
       "79            0.618003  2007       hiphop  hiphop  \n",
       "88            0.815923  2007       hiphop  hiphop  "
      ]
     },
     "execution_count": 34,
     "metadata": {},
     "output_type": "execute_result"
    }
   ],
   "source": [
    "test_songs[test_songs[\"genre_merged\"]==\"hiphop\"].head()"
   ]
  },
  {
   "cell_type": "code",
   "execution_count": 35,
   "metadata": {},
   "outputs": [
    {
     "data": {
      "text/plain": [
       "['folk', 'rock', 'indie']"
      ]
     },
     "execution_count": 35,
     "metadata": {},
     "output_type": "execute_result"
    }
   ],
   "source": [
    "b_predict(\"TRAACZN128F93236B1\")"
   ]
  },
  {
   "cell_type": "code",
   "execution_count": 36,
   "metadata": {},
   "outputs": [
    {
     "data": {
      "text/plain": [
       "['jazz', 'punk', 'hiphop']"
      ]
     },
     "execution_count": 36,
     "metadata": {},
     "output_type": "execute_result"
    }
   ],
   "source": [
    "b_predict(\"TRAANWA128F426ADF0\")"
   ]
  },
  {
   "cell_type": "code",
   "execution_count": 37,
   "metadata": {},
   "outputs": [
    {
     "data": {
      "text/plain": [
       "['jazz', 'hiphop', 'rock']"
      ]
     },
     "execution_count": 37,
     "metadata": {},
     "output_type": "execute_result"
    }
   ],
   "source": [
    "b_predict(\"TRAAHEG128E07861C3\")"
   ]
  },
  {
   "cell_type": "code",
   "execution_count": 38,
   "metadata": {},
   "outputs": [],
   "source": [
    "\"\"\"\n",
    "def test_prediction(tids, tags):\n",
    "    r = []\n",
    "    song_name = [] #\n",
    "    predicted = [] #\n",
    "    actual = [] #\n",
    "    for tid in tids:\n",
    "        pred = b_predict(tid, tags)\n",
    "        predicted.append(pred) #\n",
    "        act = list(songs[songs[\"track_id\"]== tid][\"genre_merged\"])\n",
    "        actual.append(act) #\n",
    "        song_name.append(list(songs[songs[\"track_id\"]== tid][\"song_name\"])[0])\n",
    "        common = len(set(pred)&set(act))\n",
    "        if (common >=2) or (common/len(act)>=0.5):\n",
    "            r.append(1)\n",
    "        else:\n",
    "            r.append(0)\n",
    "        # pd.DataFrame({\"tid\":tids, \"result\":r})\n",
    "    return pd.DataFrame({\"tid\":tids, \"song_name\": song_name, \"pred\":predicted, \"actual\":actual, \"result\":r})\n",
    "\"\"\"\n",
    "\n",
    "def test_prediction(tids):\n",
    "    r = []\n",
    "    for tid in tids:\n",
    "        pred = b_predict(tid)\n",
    "        act = list(songs[songs[\"track_id\"]== tid][\"genre_merged\"])\n",
    "        common = len(set(pred)&set(act))\n",
    "        if (common >=2) or (common/len(act)>=0.5):\n",
    "            r.append(1)\n",
    "        else:\n",
    "            r.append(0)\n",
    "    return pd.DataFrame({\"tid\":tids, \"result\":r})"
   ]
  },
  {
   "cell_type": "code",
   "execution_count": 39,
   "metadata": {},
   "outputs": [],
   "source": [
    "def random_test_id(n):\n",
    "    test_id = list(test_songs.track_id.drop_duplicates())\n",
    "    rad = list(set([random.randint(1,len(test_id)-1) for i in range(0,n)]))\n",
    "    return [test_id[i] for i in rad]"
   ]
  },
  {
   "cell_type": "code",
   "execution_count": 40,
   "metadata": {},
   "outputs": [],
   "source": [
    "pred_1 = test_prediction(random_test_id(1000))"
   ]
  },
  {
   "cell_type": "code",
   "execution_count": 41,
   "metadata": {},
   "outputs": [
    {
     "data": {
      "text/plain": [
       "0.6586888657648283"
      ]
     },
     "execution_count": 41,
     "metadata": {},
     "output_type": "execute_result"
    }
   ],
   "source": [
    "pred_1.result.sum()/len(pred_1)"
   ]
  },
  {
   "cell_type": "code",
   "execution_count": null,
   "metadata": {},
   "outputs": [],
   "source": [
    "conn.close()\n"
   ]
  },
  {
   "cell_type": "code",
   "execution_count": null,
   "metadata": {},
   "outputs": [],
   "source": []
  }
 ],
 "metadata": {
  "kernelspec": {
   "display_name": "Python 3",
   "language": "python",
   "name": "python3"
  },
  "language_info": {
   "codemirror_mode": {
    "name": "ipython",
    "version": 3
   },
   "file_extension": ".py",
   "mimetype": "text/x-python",
   "name": "python",
   "nbconvert_exporter": "python",
   "pygments_lexer": "ipython3",
   "version": "3.6.5"
  }
 },
 "nbformat": 4,
 "nbformat_minor": 2
}
