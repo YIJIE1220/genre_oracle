{
 "cells": [
  {
   "cell_type": "code",
   "execution_count": null,
   "metadata": {},
   "outputs": [],
   "source": [
    "import pandas as pd\n",
    "import sqlite3 as sql\n",
    "import nltk"
   ]
  },
  {
   "cell_type": "code",
   "execution_count": null,
   "metadata": {},
   "outputs": [],
   "source": [
    "conn = sql.connect(\"track_metadata.db\")\n",
    "# conn2 = sql.connect(\"dat/mxm_dataset.db\")\n",
    "c = conn.cursor()\n",
    "for row in c.execute(\"SELECT name FROM main.sqlite_master WHERE type='table';\"):\n",
    "    print(row)\n",
    "c.execute(\"attach 'mxm_dataset.db' AS lyr;\")\n",
    "c.execute(\"attach 'lastfm_tags.db' AS tag;\") \n",
    "for row in c.execute(\"SELECT name FROM lyr.sqlite_master WHERE type='table';\"):\n",
    "    print(row)\n",
    "for row in c.execute(\"SELECT name FROM tag.sqlite_master WHERE type='table';\"):\n",
    "    print(row)\n",
    "q = '''\n",
    "SELECT * FROM songs\n",
    "LIMIT 200;\n",
    "'''\n",
    "q2 = '''\n",
    "SELECT * FROM lyrics\n",
    "LIMIT 200;\n",
    "'''\n",
    "c1 = '''\n",
    "ATTACH DATABASE \"dat/mxm_dataset.db\" AS conn3;\n",
    "'''\n",
    "\n",
    "c2 = '''\n",
    "ATTACH DATABASE \"dat/artist_term.db\" AS conn3;\n",
    "'''\n",
    "\n",
    "songs = pd.read_sql(\"SELECT * FROM main.songs\", conn)\n",
    "lyrics = pd.read_sql(\"SELECT * FROM lyr.lyrics LIMIT 100\", conn)\n",
    "genres = pd.read_sql(\"SELECT * FROM tag.tags LIMIT 100\", conn)\n",
    "gtags = pd.read_sql(\"SELECT * FROM tag.tid_tag LIMIT 100\", conn)"
   ]
  },
  {
   "cell_type": "markdown",
   "metadata": {},
   "source": [
    "# Cleaning Begins!"
   ]
  },
  {
   "cell_type": "code",
   "execution_count": null,
   "metadata": {},
   "outputs": [],
   "source": [
    "#artist name, song title, release, all lowercase\n",
    "songs[\"title\"] = songs[\"title\"].str.lower()\n",
    "songs[\"release\"] = songs[\"release\"].str.lower()\n",
    "songs[\"artist_name\"] = songs[\"artist_name\"].str.lower()\n",
    "\n",
    "#drops artist hotttness metric; drops na vals\n",
    "songs = songs.drop(columns = [\"artist_hotttnesss\", \"track_7digitalid\", \"shs_perf\", \"shs_work\", \"artist_mbid\"])\n",
    "\n",
    "songs = songs.dropna()\n",
    "\n",
    "#trim songs with years before 1975\n",
    "songs = songs[songs.year > 1975]\n",
    "\n",
    "#renaming the title column to \"song_name\" and rename \"release\" to \"album_name\"\n",
    "songs = songs.rename(columns={\"title\":\"song_name\", \"release\":\"album_name\"})"
   ]
  },
  {
   "cell_type": "code",
   "execution_count": 1,
   "metadata": {},
   "outputs": [
    {
     "ename": "NameError",
     "evalue": "name 'songs' is not defined",
     "traceback": [
      "\u001b[0;31m---------------------------------------------------------------------------\u001b[0m",
      "\u001b[0;31mNameError\u001b[0m                                 Traceback (most recent call last)",
      "\u001b[0;32m<ipython-input-1-6598ad3e9579>\u001b[0m in \u001b[0;36m<module>\u001b[0;34m()\u001b[0m\n\u001b[1;32m      1\u001b[0m \u001b[0;31m#dropping based on familiarity being below 20\u001b[0m\u001b[0;34m\u001b[0m\u001b[0;34m\u001b[0m\u001b[0m\n\u001b[0;32m----> 2\u001b[0;31m \u001b[0msongs\u001b[0m \u001b[0;34m=\u001b[0m \u001b[0msongs\u001b[0m\u001b[0;34m[\u001b[0m\u001b[0msongs\u001b[0m\u001b[0;34m.\u001b[0m\u001b[0martist_familiarity\u001b[0m \u001b[0;34m>\u001b[0m \u001b[0;36m.2\u001b[0m\u001b[0;34m]\u001b[0m\u001b[0;34m\u001b[0m\u001b[0m\n\u001b[0m\u001b[1;32m      3\u001b[0m \u001b[0msongs\u001b[0m \u001b[0;34m=\u001b[0m \u001b[0msongs\u001b[0m\u001b[0;34m.\u001b[0m\u001b[0msort_values\u001b[0m\u001b[0;34m(\u001b[0m\u001b[0mby\u001b[0m \u001b[0;34m=\u001b[0m \u001b[0;34m\"artist_familiarity\"\u001b[0m\u001b[0;34m,\u001b[0m \u001b[0mascending\u001b[0m \u001b[0;34m=\u001b[0m \u001b[0;32mFalse\u001b[0m\u001b[0;34m)\u001b[0m\u001b[0;34m\u001b[0m\u001b[0m\n\u001b[1;32m      4\u001b[0m \u001b[0;34m\u001b[0m\u001b[0m\n\u001b[1;32m      5\u001b[0m \u001b[0;31m#removes rows with blank song entries\u001b[0m\u001b[0;34m\u001b[0m\u001b[0;34m\u001b[0m\u001b[0m\n",
      "\u001b[0;31mNameError\u001b[0m: name 'songs' is not defined"
     ],
     "output_type": "error"
    }
   ],
   "source": [
    "#dropping based on familiarity being below 20\n",
    "songs = songs[songs.artist_familiarity > .2]\n",
    "songs = songs.sort_values(by = \"artist_familiarity\", ascending = False)\n",
    "\n",
    "#removes rows with blank song entries\n",
    "songs = songs[songs.song_name.str.len() > 1].sort_values(by=\"song_name\")\n",
    "\n",
    "#removes rows with years before 1975\n",
    "songs = songs[songs.year > 1975]\n",
    "\n",
    "#duplicate removal--removes all duplicate songs by matching artist id\n",
    "songs = songs.sort_values(by = \"artist_name\")\n",
    "songs[\"s/a\"] = songs[\"song_name\"]+songs[\"artist_id\"] #song-artist concatenation column\n",
    "songs = songs.drop_duplicates(\"s/a\", keep = 'first')"
   ]
  },
  {
   "cell_type": "markdown",
   "metadata": {},
   "source": [
    " # TODO: if alternate versions of songs exist, keep the original only"
   ]
  },
  {
   "cell_type": "code",
   "execution_count": null,
   "metadata": {},
   "outputs": [],
   "source": [
    "#IMPLIMENT IRENE!"
   ]
  },
  {
   "cell_type": "markdown",
   "metadata": {},
   "source": [
    "# Begin Merging Genre and Lyrics Section"
   ]
  },
  {
   "cell_type": "code",
   "execution_count": 2,
   "metadata": {},
   "outputs": [
    {
     "ename": "NameError",
     "evalue": "name 'pd' is not defined",
     "traceback": [
      "\u001b[0;31m---------------------------------------------------------------------------\u001b[0m",
      "\u001b[0;31mNameError\u001b[0m                                 Traceback (most recent call last)",
      "\u001b[0;32m<ipython-input-2-6fce86204359>\u001b[0m in \u001b[0;36m<module>\u001b[0;34m()\u001b[0m\n\u001b[1;32m      2\u001b[0m \u001b[0;34m\u001b[0m\u001b[0m\n\u001b[1;32m      3\u001b[0m \u001b[0;34m\"\"\"sg = pd.read_sql(\"SELECT tag.tids.tid, tag.tags.tag FROM tag.tid_tag             INNER JOIN tag.tags ON tag.tags.ROWID==tag.tid_tag.tag             INNER JOIN tag.tids ON tag.tid_tag.tid==tag.tids.ROWID              LIMIT 1000000\", conn)\"\"\"\u001b[0m\u001b[0;34m\u001b[0m\u001b[0m\n\u001b[0;32m----> 4\u001b[0;31m \u001b[0msg\u001b[0m \u001b[0;34m=\u001b[0m \u001b[0mpd\u001b[0m\u001b[0;34m.\u001b[0m\u001b[0mread_sql\u001b[0m\u001b[0;34m(\u001b[0m\u001b[0;34m\"SELECT tag.tids.tid, tag.tags.tag FROM tag.tid_tag             INNER JOIN tag.tags ON tag.tags.ROWID==tag.tid_tag.tag             INNER JOIN tag.tids ON tag.tid_tag.tid==tag.tids.ROWID              \"\u001b[0m\u001b[0;34m,\u001b[0m \u001b[0mconn\u001b[0m\u001b[0;34m)\u001b[0m\u001b[0;34m\u001b[0m\u001b[0m\n\u001b[0m\u001b[1;32m      5\u001b[0m \u001b[0;34m\u001b[0m\u001b[0m\n\u001b[1;32m      6\u001b[0m \u001b[0mdata\u001b[0m \u001b[0;34m=\u001b[0m \u001b[0mpd\u001b[0m\u001b[0;34m.\u001b[0m\u001b[0mDataFrame\u001b[0m\u001b[0;34m(\u001b[0m\u001b[0;34m)\u001b[0m\u001b[0;34m\u001b[0m\u001b[0m\n",
      "\u001b[0;31mNameError\u001b[0m: name 'pd' is not defined"
     ],
     "output_type": "error"
    }
   ],
   "source": [
    "#this section is to determine the most popular genre labels\n",
    "\n",
    "\"\"\"sg = pd.read_sql(\"SELECT tag.tids.tid, tag.tags.tag FROM tag.tid_tag \\\n",
    "            INNER JOIN tag.tags ON tag.tags.ROWID==tag.tid_tag.tag \\\n",
    "            INNER JOIN tag.tids ON tag.tid_tag.tid==tag.tids.ROWID \\\n",
    "             LIMIT 1000000\", conn)\"\"\"\n",
    "sg = pd.read_sql(\"SELECT tag.tids.tid, tag.tags.tag FROM tag.tid_tag \\\n",
    "            INNER JOIN tag.tags ON tag.tags.ROWID==tag.tid_tag.tag \\\n",
    "            INNER JOIN tag.tids ON tag.tid_tag.tid==tag.tids.ROWID \\\n",
    "             \", conn)\n",
    "\n",
    "data = pd.DataFrame()\n",
    "sg['tag'] = sg.tag.str.lower()\n",
    "gdict = sg['tag'].value_counts().to_dict()\n",
    "populargenres = pd.DataFrame.from_dict(gdict, orient='index', columns = ['genre_count'])"
   ]
  },
  {
   "cell_type": "code",
   "execution_count": null,
   "metadata": {},
   "outputs": [],
   "source": []
  }
 ],
 "metadata": {
  "kernelspec": {
   "display_name": "Python 3",
   "language": "python",
   "name": "python3"
  },
  "language_info": {
   "codemirror_mode": {
    "name": "ipython",
    "version": 3
   },
   "file_extension": ".py",
   "mimetype": "text/x-python",
   "name": "python",
   "nbconvert_exporter": "python",
   "pygments_lexer": "ipython3",
   "version": "3.7.0"
  }
 },
 "nbformat": 4,
 "nbformat_minor": 2
}
