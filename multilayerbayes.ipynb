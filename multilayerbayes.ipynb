{
 "cells": [
  {
   "cell_type": "code",
   "execution_count": 47,
   "metadata": {},
   "outputs": [],
   "source": [
    "import pandas as pd\n",
    "import sqlite3 as sql\n",
    "import numpy as np\n",
    "from heapq import nlargest\n",
    "import random\n",
    "from sklearn.model_selection import train_test_split as tts\n",
    "import math   "
   ]
  },
  {
   "cell_type": "code",
   "execution_count": 2,
   "metadata": {},
   "outputs": [
    {
     "data": {
      "text/plain": [
       "<sqlite3.Cursor at 0x1a0f0172d0>"
      ]
     },
     "execution_count": 2,
     "metadata": {},
     "output_type": "execute_result"
    }
   ],
   "source": [
    "conn = sql.connect(\"dat/track_metadata.db\")\n",
    "c = conn.cursor()\n",
    "c.execute(\"attach 'dat/mxm_dataset.db' AS lyr;\")\n",
    "c.execute(\"attach 'dat/lastfm_tags.db' AS tag;\") \n"
   ]
  },
  {
   "cell_type": "code",
   "execution_count": 3,
   "metadata": {},
   "outputs": [
    {
     "name": "stdout",
     "output_type": "stream",
     "text": [
      "('songs',)\n",
      "('words',)\n",
      "('lyrics',)\n",
      "('tags',)\n",
      "('tids',)\n",
      "('tid_tag',)\n"
     ]
    }
   ],
   "source": [
    "for row in c.execute(\"SELECT name FROM main.sqlite_master WHERE type='table';\"):\n",
    "    print(row)\n",
    "for row in c.execute(\"SELECT name FROM lyr.sqlite_master WHERE type='table';\"):\n",
    "    print(row)\n",
    "for row in c.execute(\"SELECT name FROM tag.sqlite_master WHERE type='table';\"):\n",
    "    print(row)"
   ]
  },
  {
   "cell_type": "code",
   "execution_count": 4,
   "metadata": {},
   "outputs": [],
   "source": [
    "songs = pd.read_csv(\"dat/songs.csv\")[['CT', 'track_id', 'song_name_cleaned', 'duration', 'artist_familiarity', 'year', 'genre_merged']]\n",
    "songs[\"genre_merged\"] = songs[\"genre_merged\"].str.replace(\"rap\",\"hiphop\")\n",
    "songs = songs.drop_duplicates([\"track_id\",\"genre_merged\"])"
   ]
  },
  {
   "cell_type": "code",
   "execution_count": 5,
   "metadata": {},
   "outputs": [],
   "source": [
    "songs = songs.merge(songs.groupby(\"track_id\")[\"genre_merged\"].agg([\"count\"]).reset_index(),on=\"track_id\")"
   ]
  },
  {
   "cell_type": "code",
   "execution_count": 6,
   "metadata": {},
   "outputs": [],
   "source": [
    "# combo = set()\n",
    "# for i, id in enumerate(songs[\"track_id\"].drop_duplicates()):\n",
    "#     temp_tag = tuple(sorted(list(songs[songs[\"track_id\"] == id].genre_merged)))\n",
    "#     combo.add(temp_tag)\n",
    "# len(combo) = 676"
   ]
  },
  {
   "cell_type": "code",
   "execution_count": 7,
   "metadata": {},
   "outputs": [
    {
     "data": {
      "text/plain": [
       "21167"
      ]
     },
     "execution_count": 7,
     "metadata": {},
     "output_type": "execute_result"
    }
   ],
   "source": [
    "len(songs.track_id.drop_duplicates())"
   ]
  },
  {
   "cell_type": "code",
   "execution_count": 8,
   "metadata": {},
   "outputs": [
    {
     "data": {
      "text/html": [
       "<div>\n",
       "<style scoped>\n",
       "    .dataframe tbody tr th:only-of-type {\n",
       "        vertical-align: middle;\n",
       "    }\n",
       "\n",
       "    .dataframe tbody tr th {\n",
       "        vertical-align: top;\n",
       "    }\n",
       "\n",
       "    .dataframe thead th {\n",
       "        text-align: right;\n",
       "    }\n",
       "</style>\n",
       "<table border=\"1\" class=\"dataframe\">\n",
       "  <thead>\n",
       "    <tr style=\"text-align: right;\">\n",
       "      <th></th>\n",
       "      <th>genre_merged</th>\n",
       "      <th>count</th>\n",
       "    </tr>\n",
       "  </thead>\n",
       "  <tbody>\n",
       "    <tr>\n",
       "      <th>0</th>\n",
       "      <td>blues</td>\n",
       "      <td>762</td>\n",
       "    </tr>\n",
       "    <tr>\n",
       "      <th>1</th>\n",
       "      <td>classic rock</td>\n",
       "      <td>1615</td>\n",
       "    </tr>\n",
       "    <tr>\n",
       "      <th>2</th>\n",
       "      <td>country</td>\n",
       "      <td>1455</td>\n",
       "    </tr>\n",
       "    <tr>\n",
       "      <th>3</th>\n",
       "      <td>electronic</td>\n",
       "      <td>1812</td>\n",
       "    </tr>\n",
       "    <tr>\n",
       "      <th>4</th>\n",
       "      <td>folk</td>\n",
       "      <td>1967</td>\n",
       "    </tr>\n",
       "    <tr>\n",
       "      <th>5</th>\n",
       "      <td>hiphop</td>\n",
       "      <td>5279</td>\n",
       "    </tr>\n",
       "    <tr>\n",
       "      <th>6</th>\n",
       "      <td>indie</td>\n",
       "      <td>4362</td>\n",
       "    </tr>\n",
       "    <tr>\n",
       "      <th>7</th>\n",
       "      <td>jazz</td>\n",
       "      <td>837</td>\n",
       "    </tr>\n",
       "    <tr>\n",
       "      <th>8</th>\n",
       "      <td>metal</td>\n",
       "      <td>3135</td>\n",
       "    </tr>\n",
       "    <tr>\n",
       "      <th>9</th>\n",
       "      <td>pop</td>\n",
       "      <td>5485</td>\n",
       "    </tr>\n",
       "    <tr>\n",
       "      <th>10</th>\n",
       "      <td>punk</td>\n",
       "      <td>2234</td>\n",
       "    </tr>\n",
       "    <tr>\n",
       "      <th>11</th>\n",
       "      <td>rock</td>\n",
       "      <td>8869</td>\n",
       "    </tr>\n",
       "    <tr>\n",
       "      <th>12</th>\n",
       "      <td>soul</td>\n",
       "      <td>2013</td>\n",
       "    </tr>\n",
       "  </tbody>\n",
       "</table>\n",
       "</div>"
      ],
      "text/plain": [
       "    genre_merged  count\n",
       "0          blues    762\n",
       "1   classic rock   1615\n",
       "2        country   1455\n",
       "3     electronic   1812\n",
       "4           folk   1967\n",
       "5         hiphop   5279\n",
       "6          indie   4362\n",
       "7           jazz    837\n",
       "8          metal   3135\n",
       "9            pop   5485\n",
       "10          punk   2234\n",
       "11          rock   8869\n",
       "12          soul   2013"
      ]
     },
     "execution_count": 8,
     "metadata": {},
     "output_type": "execute_result"
    }
   ],
   "source": [
    "songs.groupby(\"genre_merged\")[\"track_id\"].agg([\"count\"]).reset_index()"
   ]
  },
  {
   "cell_type": "code",
   "execution_count": 9,
   "metadata": {},
   "outputs": [],
   "source": [
    "# outer tag \n",
    "map1 = {'rock':'rock',\n",
    " 'indie':'indie',\n",
    " 'folk':'folk',\n",
    " 'electronic':'electronic',\n",
    " 'classic rock':'rock',\n",
    " 'country':'rock',\n",
    " 'blues':'blues',\n",
    " 'metal':'rock',\n",
    " 'jazz':'blues',\n",
    " 'pop':'pop',\n",
    " 'punk':'rock',\n",
    " 'hiphop':'hiphop',\n",
    " 'soul':'blues'}"
   ]
  },
  {
   "cell_type": "code",
   "execution_count": 10,
   "metadata": {},
   "outputs": [],
   "source": [
    "songs[\"outer_g\"] = songs[\"genre_merged\"].map(map1)"
   ]
  },
  {
   "cell_type": "code",
   "execution_count": 11,
   "metadata": {},
   "outputs": [],
   "source": [
    "def select_songs(n):\n",
    "    df = pd.DataFrame(columns = ['CT', 'track_id', 'song_name_cleaned', 'duration', 'artist_familiarity', 'year', 'genre_merged', 'count', \"outer_g\"])\n",
    "    tags = ['rock', 'indie', 'folk', 'electronic', 'classic rock', 'country', 'blues', 'metal', 'jazz', 'pop', 'punk', 'hiphop', 'soul']\n",
    "    \n",
    "    for tag in tags: \n",
    "        temp = songs[(songs[\"genre_merged\"]==tag) & (~songs[\"track_id\"].isin(df.track_id))].sort_values(\"count\")[0:n]\n",
    "        df = pd.concat([df, temp])\n",
    "    return df"
   ]
  },
  {
   "cell_type": "code",
   "execution_count": 12,
   "metadata": {},
   "outputs": [],
   "source": [
    "train_songs = (select_songs(300)).drop(\"count\", axis = 1)\n",
    "test_songs = songs[(~songs[\"track_id\"].isin(train_songs[\"track_id\"]))].drop(\"count\", axis = 1)\n",
    "songs = songs.drop(\"count\", axis = 1)"
   ]
  },
  {
   "cell_type": "code",
   "execution_count": 13,
   "metadata": {},
   "outputs": [
    {
     "data": {
      "text/html": [
       "<div>\n",
       "<style scoped>\n",
       "    .dataframe tbody tr th:only-of-type {\n",
       "        vertical-align: middle;\n",
       "    }\n",
       "\n",
       "    .dataframe tbody tr th {\n",
       "        vertical-align: top;\n",
       "    }\n",
       "\n",
       "    .dataframe thead th {\n",
       "        text-align: right;\n",
       "    }\n",
       "</style>\n",
       "<table border=\"1\" class=\"dataframe\">\n",
       "  <thead>\n",
       "    <tr style=\"text-align: right;\">\n",
       "      <th></th>\n",
       "      <th>CT</th>\n",
       "      <th>track_id</th>\n",
       "      <th>song_name_cleaned</th>\n",
       "      <th>duration</th>\n",
       "      <th>artist_familiarity</th>\n",
       "      <th>year</th>\n",
       "      <th>genre_merged</th>\n",
       "      <th>outer_g</th>\n",
       "    </tr>\n",
       "  </thead>\n",
       "  <tbody>\n",
       "    <tr>\n",
       "      <th>6245</th>\n",
       "      <td>116</td>\n",
       "      <td>TRDWQIB128E0782EAC</td>\n",
       "      <td>money (2001 digital remaster)</td>\n",
       "      <td>405.94240</td>\n",
       "      <td>0.818042</td>\n",
       "      <td>1981</td>\n",
       "      <td>rock</td>\n",
       "      <td>rock</td>\n",
       "    </tr>\n",
       "    <tr>\n",
       "      <th>22012</th>\n",
       "      <td>110</td>\n",
       "      <td>TROHBUD128F9320C4C</td>\n",
       "      <td>fixed to ruin</td>\n",
       "      <td>226.58567</td>\n",
       "      <td>0.666536</td>\n",
       "      <td>2008</td>\n",
       "      <td>rock</td>\n",
       "      <td>rock</td>\n",
       "    </tr>\n",
       "    <tr>\n",
       "      <th>23522</th>\n",
       "      <td>127</td>\n",
       "      <td>TRPGBOL128F931462C</td>\n",
       "      <td>stander on the mountain</td>\n",
       "      <td>368.69179</td>\n",
       "      <td>0.582204</td>\n",
       "      <td>1990</td>\n",
       "      <td>rock</td>\n",
       "      <td>rock</td>\n",
       "    </tr>\n",
       "    <tr>\n",
       "      <th>7120</th>\n",
       "      <td>108</td>\n",
       "      <td>TRELEKE128F426A8D3</td>\n",
       "      <td>pirate radio</td>\n",
       "      <td>267.78077</td>\n",
       "      <td>0.686224</td>\n",
       "      <td>1997</td>\n",
       "      <td>rock</td>\n",
       "      <td>rock</td>\n",
       "    </tr>\n",
       "    <tr>\n",
       "      <th>16231</th>\n",
       "      <td>120</td>\n",
       "      <td>TRKJISU128F4214FD6</td>\n",
       "      <td>holy roller</td>\n",
       "      <td>267.96363</td>\n",
       "      <td>0.646628</td>\n",
       "      <td>1990</td>\n",
       "      <td>rock</td>\n",
       "      <td>rock</td>\n",
       "    </tr>\n",
       "  </tbody>\n",
       "</table>\n",
       "</div>"
      ],
      "text/plain": [
       "        CT            track_id              song_name_cleaned   duration  \\\n",
       "6245   116  TRDWQIB128E0782EAC  money (2001 digital remaster)  405.94240   \n",
       "22012  110  TROHBUD128F9320C4C                  fixed to ruin  226.58567   \n",
       "23522  127  TRPGBOL128F931462C        stander on the mountain  368.69179   \n",
       "7120   108  TRELEKE128F426A8D3                   pirate radio  267.78077   \n",
       "16231  120  TRKJISU128F4214FD6                    holy roller  267.96363   \n",
       "\n",
       "       artist_familiarity  year genre_merged outer_g  \n",
       "6245             0.818042  1981         rock    rock  \n",
       "22012            0.666536  2008         rock    rock  \n",
       "23522            0.582204  1990         rock    rock  \n",
       "7120             0.686224  1997         rock    rock  \n",
       "16231            0.646628  1990         rock    rock  "
      ]
     },
     "execution_count": 13,
     "metadata": {},
     "output_type": "execute_result"
    }
   ],
   "source": [
    "train_songs.head()"
   ]
  },
  {
   "cell_type": "code",
   "execution_count": null,
   "metadata": {},
   "outputs": [],
   "source": [
    "# songs[\"ccount\"] = songs.groupby(['genre_merged']).cumcount()"
   ]
  },
  {
   "cell_type": "code",
   "execution_count": null,
   "metadata": {},
   "outputs": [],
   "source": [
    "# train_songs = songs[songs[\"ccount\"].between(50,350)]\n",
    "# test_songs = songs[(~songs[\"track_id\"].isin(train_songs[\"track_id\"])) & (songs[\"ccount\"].between(100,700))]"
   ]
  },
  {
   "cell_type": "code",
   "execution_count": 14,
   "metadata": {},
   "outputs": [
    {
     "data": {
      "text/html": [
       "<div>\n",
       "<style scoped>\n",
       "    .dataframe tbody tr th:only-of-type {\n",
       "        vertical-align: middle;\n",
       "    }\n",
       "\n",
       "    .dataframe tbody tr th {\n",
       "        vertical-align: top;\n",
       "    }\n",
       "\n",
       "    .dataframe thead th {\n",
       "        text-align: right;\n",
       "    }\n",
       "</style>\n",
       "<table border=\"1\" class=\"dataframe\">\n",
       "  <thead>\n",
       "    <tr style=\"text-align: right;\">\n",
       "      <th></th>\n",
       "      <th>genre_merged</th>\n",
       "      <th>count</th>\n",
       "    </tr>\n",
       "  </thead>\n",
       "  <tbody>\n",
       "    <tr>\n",
       "      <th>0</th>\n",
       "      <td>blues</td>\n",
       "      <td>307</td>\n",
       "    </tr>\n",
       "    <tr>\n",
       "      <th>1</th>\n",
       "      <td>classic rock</td>\n",
       "      <td>329</td>\n",
       "    </tr>\n",
       "    <tr>\n",
       "      <th>2</th>\n",
       "      <td>country</td>\n",
       "      <td>325</td>\n",
       "    </tr>\n",
       "    <tr>\n",
       "      <th>3</th>\n",
       "      <td>electronic</td>\n",
       "      <td>308</td>\n",
       "    </tr>\n",
       "    <tr>\n",
       "      <th>4</th>\n",
       "      <td>folk</td>\n",
       "      <td>321</td>\n",
       "    </tr>\n",
       "    <tr>\n",
       "      <th>5</th>\n",
       "      <td>hiphop</td>\n",
       "      <td>368</td>\n",
       "    </tr>\n",
       "    <tr>\n",
       "      <th>6</th>\n",
       "      <td>indie</td>\n",
       "      <td>317</td>\n",
       "    </tr>\n",
       "    <tr>\n",
       "      <th>7</th>\n",
       "      <td>jazz</td>\n",
       "      <td>318</td>\n",
       "    </tr>\n",
       "    <tr>\n",
       "      <th>8</th>\n",
       "      <td>metal</td>\n",
       "      <td>334</td>\n",
       "    </tr>\n",
       "    <tr>\n",
       "      <th>9</th>\n",
       "      <td>pop</td>\n",
       "      <td>374</td>\n",
       "    </tr>\n",
       "    <tr>\n",
       "      <th>10</th>\n",
       "      <td>punk</td>\n",
       "      <td>306</td>\n",
       "    </tr>\n",
       "    <tr>\n",
       "      <th>11</th>\n",
       "      <td>rock</td>\n",
       "      <td>580</td>\n",
       "    </tr>\n",
       "    <tr>\n",
       "      <th>12</th>\n",
       "      <td>soul</td>\n",
       "      <td>375</td>\n",
       "    </tr>\n",
       "  </tbody>\n",
       "</table>\n",
       "</div>"
      ],
      "text/plain": [
       "    genre_merged  count\n",
       "0          blues    307\n",
       "1   classic rock    329\n",
       "2        country    325\n",
       "3     electronic    308\n",
       "4           folk    321\n",
       "5         hiphop    368\n",
       "6          indie    317\n",
       "7           jazz    318\n",
       "8          metal    334\n",
       "9            pop    374\n",
       "10          punk    306\n",
       "11          rock    580\n",
       "12          soul    375"
      ]
     },
     "execution_count": 14,
     "metadata": {},
     "output_type": "execute_result"
    }
   ],
   "source": [
    "songs[songs[\"track_id\"].isin(train_songs.track_id)].groupby(\"genre_merged\")[\"track_id\"].agg([\"count\"]).reset_index()"
   ]
  },
  {
   "cell_type": "code",
   "execution_count": 15,
   "metadata": {},
   "outputs": [
    {
     "data": {
      "text/plain": [
       "39825"
      ]
     },
     "execution_count": 15,
     "metadata": {},
     "output_type": "execute_result"
    }
   ],
   "source": [
    "len(songs[[\"track_id\", \"genre_merged\"]])"
   ]
  },
  {
   "cell_type": "code",
   "execution_count": 16,
   "metadata": {},
   "outputs": [],
   "source": [
    "sql_train = \"SELECT track_id, word, count FROM lyr.lyrics WHERE track_id IN {}\".format(str(tuple(train_songs.track_id.drop_duplicates())))\n",
    "sql_test= \"SELECT track_id, word, count FROM lyr.lyrics WHERE track_id IN {}\".format(str(tuple(test_songs.track_id.drop_duplicates())))\n"
   ]
  },
  {
   "cell_type": "code",
   "execution_count": 17,
   "metadata": {},
   "outputs": [],
   "source": [
    "train_lyc = pd.read_sql(sql_train, conn)\n",
    "test_lyc = pd.read_sql(sql_test, conn)"
   ]
  },
  {
   "cell_type": "code",
   "execution_count": 18,
   "metadata": {},
   "outputs": [],
   "source": [
    "aggdict = {\"duration\":[\"mean\"], \"sum\":[\"mean\"]}\n",
    "genre_dc = train_lyc.groupby(\"track_id\")[\"count\"].agg([\"sum\"]).reset_index()\\\n",
    "        .merge(train_songs[[\"track_id\", \"duration\", \"genre_merged\"]], how = \"inner\", on=\"track_id\")\\\n",
    "        .groupby(\"genre_merged\")[\"sum\",\"duration\"].agg(aggdict).reset_index()\n",
    "genre_dc.columns = [\"genre_merged\",\"avg_duration\", \"avg_wc\"]"
   ]
  },
  {
   "cell_type": "code",
   "execution_count": null,
   "metadata": {},
   "outputs": [],
   "source": [
    "# genre_dc.to_csv(\"genre_dc_t.csv\", index=False)"
   ]
  },
  {
   "cell_type": "code",
   "execution_count": 19,
   "metadata": {},
   "outputs": [
    {
     "data": {
      "text/html": [
       "<div>\n",
       "<style scoped>\n",
       "    .dataframe tbody tr th:only-of-type {\n",
       "        vertical-align: middle;\n",
       "    }\n",
       "\n",
       "    .dataframe tbody tr th {\n",
       "        vertical-align: top;\n",
       "    }\n",
       "\n",
       "    .dataframe thead th {\n",
       "        text-align: right;\n",
       "    }\n",
       "</style>\n",
       "<table border=\"1\" class=\"dataframe\">\n",
       "  <thead>\n",
       "    <tr style=\"text-align: right;\">\n",
       "      <th></th>\n",
       "      <th>genre_merged</th>\n",
       "      <th>avg_duration</th>\n",
       "      <th>avg_wc</th>\n",
       "    </tr>\n",
       "  </thead>\n",
       "  <tbody>\n",
       "    <tr>\n",
       "      <th>0</th>\n",
       "      <td>blues</td>\n",
       "      <td>267.641974</td>\n",
       "      <td>315.523333</td>\n",
       "    </tr>\n",
       "    <tr>\n",
       "      <th>1</th>\n",
       "      <td>classic rock</td>\n",
       "      <td>289.347378</td>\n",
       "      <td>316.540000</td>\n",
       "    </tr>\n",
       "    <tr>\n",
       "      <th>2</th>\n",
       "      <td>country</td>\n",
       "      <td>231.184004</td>\n",
       "      <td>300.173333</td>\n",
       "    </tr>\n",
       "    <tr>\n",
       "      <th>3</th>\n",
       "      <td>electronic</td>\n",
       "      <td>303.067759</td>\n",
       "      <td>318.723333</td>\n",
       "    </tr>\n",
       "    <tr>\n",
       "      <th>4</th>\n",
       "      <td>folk</td>\n",
       "      <td>268.670763</td>\n",
       "      <td>297.713333</td>\n",
       "    </tr>\n",
       "    <tr>\n",
       "      <th>5</th>\n",
       "      <td>hiphop</td>\n",
       "      <td>239.428162</td>\n",
       "      <td>534.326667</td>\n",
       "    </tr>\n",
       "    <tr>\n",
       "      <th>6</th>\n",
       "      <td>indie</td>\n",
       "      <td>258.479786</td>\n",
       "      <td>282.173333</td>\n",
       "    </tr>\n",
       "    <tr>\n",
       "      <th>7</th>\n",
       "      <td>jazz</td>\n",
       "      <td>268.505146</td>\n",
       "      <td>333.396667</td>\n",
       "    </tr>\n",
       "    <tr>\n",
       "      <th>8</th>\n",
       "      <td>metal</td>\n",
       "      <td>332.104080</td>\n",
       "      <td>272.643333</td>\n",
       "    </tr>\n",
       "    <tr>\n",
       "      <th>9</th>\n",
       "      <td>pop</td>\n",
       "      <td>248.055361</td>\n",
       "      <td>390.456667</td>\n",
       "    </tr>\n",
       "    <tr>\n",
       "      <th>10</th>\n",
       "      <td>punk</td>\n",
       "      <td>188.909870</td>\n",
       "      <td>291.013333</td>\n",
       "    </tr>\n",
       "    <tr>\n",
       "      <th>11</th>\n",
       "      <td>rock</td>\n",
       "      <td>272.375362</td>\n",
       "      <td>319.513333</td>\n",
       "    </tr>\n",
       "    <tr>\n",
       "      <th>12</th>\n",
       "      <td>soul</td>\n",
       "      <td>268.883922</td>\n",
       "      <td>418.210000</td>\n",
       "    </tr>\n",
       "  </tbody>\n",
       "</table>\n",
       "</div>"
      ],
      "text/plain": [
       "    genre_merged  avg_duration      avg_wc\n",
       "0          blues    267.641974  315.523333\n",
       "1   classic rock    289.347378  316.540000\n",
       "2        country    231.184004  300.173333\n",
       "3     electronic    303.067759  318.723333\n",
       "4           folk    268.670763  297.713333\n",
       "5         hiphop    239.428162  534.326667\n",
       "6          indie    258.479786  282.173333\n",
       "7           jazz    268.505146  333.396667\n",
       "8          metal    332.104080  272.643333\n",
       "9            pop    248.055361  390.456667\n",
       "10          punk    188.909870  291.013333\n",
       "11          rock    272.375362  319.513333\n",
       "12          soul    268.883922  418.210000"
      ]
     },
     "execution_count": 19,
     "metadata": {},
     "output_type": "execute_result"
    }
   ],
   "source": [
    "genre_dc"
   ]
  },
  {
   "cell_type": "code",
   "execution_count": 20,
   "metadata": {},
   "outputs": [],
   "source": [
    "import nltk"
   ]
  },
  {
   "cell_type": "code",
   "execution_count": 21,
   "metadata": {},
   "outputs": [
    {
     "name": "stdout",
     "output_type": "stream",
     "text": [
      "[nltk_data] Downloading package stopwords to\n",
      "[nltk_data]     /Users/NyanPassu/nltk_data...\n",
      "[nltk_data]   Package stopwords is already up-to-date!\n"
     ]
    }
   ],
   "source": [
    "nltk.download('stopwords')\n",
    "en_stop = set(nltk.corpus.stopwords.words('english'))"
   ]
  },
  {
   "cell_type": "code",
   "execution_count": 22,
   "metadata": {},
   "outputs": [],
   "source": [
    "train_lyc = train_lyc[~train_lyc[\"word\"].isin(en_stop)]\n",
    "test_lyc = test_lyc[~test_lyc[\"word\"].isin(en_stop)]"
   ]
  },
  {
   "cell_type": "code",
   "execution_count": 23,
   "metadata": {},
   "outputs": [
    {
     "data": {
      "text/html": [
       "<div>\n",
       "<style scoped>\n",
       "    .dataframe tbody tr th:only-of-type {\n",
       "        vertical-align: middle;\n",
       "    }\n",
       "\n",
       "    .dataframe tbody tr th {\n",
       "        vertical-align: top;\n",
       "    }\n",
       "\n",
       "    .dataframe thead th {\n",
       "        text-align: right;\n",
       "    }\n",
       "</style>\n",
       "<table border=\"1\" class=\"dataframe\">\n",
       "  <thead>\n",
       "    <tr style=\"text-align: right;\">\n",
       "      <th></th>\n",
       "      <th>track_id</th>\n",
       "      <th>word</th>\n",
       "      <th>count</th>\n",
       "    </tr>\n",
       "  </thead>\n",
       "  <tbody>\n",
       "    <tr>\n",
       "      <th>21</th>\n",
       "      <td>TRAAWOR128F92DF3C8</td>\n",
       "      <td>love</td>\n",
       "      <td>5</td>\n",
       "    </tr>\n",
       "    <tr>\n",
       "      <th>23</th>\n",
       "      <td>TRAAWOR128F92DF3C8</td>\n",
       "      <td>know</td>\n",
       "      <td>10</td>\n",
       "    </tr>\n",
       "    <tr>\n",
       "      <th>29</th>\n",
       "      <td>TRAAWOR128F92DF3C8</td>\n",
       "      <td>like</td>\n",
       "      <td>1</td>\n",
       "    </tr>\n",
       "    <tr>\n",
       "      <th>30</th>\n",
       "      <td>TRAAWOR128F92DF3C8</td>\n",
       "      <td>time</td>\n",
       "      <td>2</td>\n",
       "    </tr>\n",
       "    <tr>\n",
       "      <th>32</th>\n",
       "      <td>TRAAWOR128F92DF3C8</td>\n",
       "      <td>go</td>\n",
       "      <td>3</td>\n",
       "    </tr>\n",
       "  </tbody>\n",
       "</table>\n",
       "</div>"
      ],
      "text/plain": [
       "              track_id  word  count\n",
       "21  TRAAWOR128F92DF3C8  love      5\n",
       "23  TRAAWOR128F92DF3C8  know     10\n",
       "29  TRAAWOR128F92DF3C8  like      1\n",
       "30  TRAAWOR128F92DF3C8  time      2\n",
       "32  TRAAWOR128F92DF3C8    go      3"
      ]
     },
     "execution_count": 23,
     "metadata": {},
     "output_type": "execute_result"
    }
   ],
   "source": [
    "train_lyc.head()"
   ]
  },
  {
   "cell_type": "code",
   "execution_count": 24,
   "metadata": {},
   "outputs": [
    {
     "data": {
      "text/plain": [
       "['rock',\n",
       " 'indie',\n",
       " 'folk',\n",
       " 'electronic',\n",
       " 'classic rock',\n",
       " 'country',\n",
       " 'blues',\n",
       " 'metal',\n",
       " 'jazz',\n",
       " 'pop',\n",
       " 'punk',\n",
       " 'hiphop',\n",
       " 'soul']"
      ]
     },
     "execution_count": 24,
     "metadata": {},
     "output_type": "execute_result"
    }
   ],
   "source": [
    "tags = list(train_songs['genre_merged'].drop_duplicates())\n",
    "tags"
   ]
  },
  {
   "cell_type": "code",
   "execution_count": 25,
   "metadata": {},
   "outputs": [
    {
     "data": {
      "text/plain": [
       "['rock', 'indie', 'folk', 'electronic', 'blues', 'pop', 'hiphop']"
      ]
     },
     "execution_count": 25,
     "metadata": {},
     "output_type": "execute_result"
    }
   ],
   "source": [
    "outertags = list(train_songs['outer_g'].drop_duplicates())\n",
    "outertags"
   ]
  },
  {
   "cell_type": "code",
   "execution_count": 28,
   "metadata": {},
   "outputs": [],
   "source": [
    "def train_by(tags, col):   \n",
    "    temp_train = songs[songs[col].isin(tags)].drop_duplicates([\"track_id\", col])\n",
    "    temp_train_lyc = train_lyc[train_lyc[\"track_id\"].isin(temp_train.track_id)]\n",
    "    lyc_C = temp_train_lyc.merge(temp_train, how = \"inner\", on=\"track_id\")\n",
    "    lyc_C_count = lyc_C.groupby([\"word\", col])[\"count\"].agg(\"sum\").reset_index()\n",
    "    tag_wcount = lyc_C_count.groupby([col])[\"count\"].agg(\"sum\").reset_index()\n",
    "    tag_dict = {}\n",
    "    for index, row in tag_wcount.iterrows():\n",
    "        tag = row[col]\n",
    "        prob = math.log(row[\"count\"] / tag_wcount[\"count\"].sum())\n",
    "        tag_dict.update({tag: prob})\n",
    "        \n",
    "    dummy_dict = {}\n",
    "    for index, row in tag_wcount.iterrows():\n",
    "        tag = row[col]\n",
    "        prob = math.log(0.5 / row[\"count\"])\n",
    "        dummy_dict.update({tag: prob})\n",
    "    \n",
    "    word_dict = {} \n",
    "    for tag in tags: \n",
    "        for index, row in (lyc_C_count[lyc_C_count[col] == tag]).iterrows():\n",
    "            word_t = row[\"word\"]\n",
    "            prob = math.log(row[\"count\"] / tag_wcount[tag_wcount[col] == tag][\"count\"])\n",
    "            word_dict.update({(word_t, tag): prob})\n",
    "    return tag_dict, dummy_dict, word_dict"
   ]
  },
  {
   "cell_type": "code",
   "execution_count": 29,
   "metadata": {},
   "outputs": [],
   "source": [
    "o_td, o_dd, o_wd = train_by(outertags, \"outer_g\")"
   ]
  },
  {
   "cell_type": "code",
   "execution_count": 30,
   "metadata": {},
   "outputs": [
    {
     "data": {
      "text/plain": [
       "{'blues': -1.501846922335147,\n",
       " 'electronic': -2.6792052838514078,\n",
       " 'folk': -2.744481414599998,\n",
       " 'hiphop': -1.9262946354745338,\n",
       " 'indie': -2.819370361754169,\n",
       " 'pop': -2.3390844209695922,\n",
       " 'rock': -1.0710869416843403}"
      ]
     },
     "execution_count": 30,
     "metadata": {},
     "output_type": "execute_result"
    }
   ],
   "source": [
    "o_td"
   ]
  },
  {
   "cell_type": "code",
   "execution_count": 32,
   "metadata": {},
   "outputs": [],
   "source": [
    "b_td, b_dd, b_wd = train_by([\"blues\", \"soul\", \"jazz\"], \"genre_merged\")"
   ]
  },
  {
   "cell_type": "code",
   "execution_count": 33,
   "metadata": {},
   "outputs": [
    {
     "data": {
      "text/plain": [
       "{'blues': -1.2871505553487335,\n",
       " 'jazz': -1.1637213466291716,\n",
       " 'soul': -0.8876498960158438}"
      ]
     },
     "execution_count": 33,
     "metadata": {},
     "output_type": "execute_result"
    }
   ],
   "source": [
    "b_td"
   ]
  },
  {
   "cell_type": "code",
   "execution_count": 34,
   "metadata": {},
   "outputs": [],
   "source": [
    "r_td, r_dd, r_wd = train_by([\"rock\", \"classic rock\", \"country\", \"metal\", \"punk\"], \"genre_merged\")"
   ]
  },
  {
   "cell_type": "code",
   "execution_count": 35,
   "metadata": {},
   "outputs": [],
   "source": [
    "def b_predict(tid):\n",
    "    outertags = ['rock', 'indie', 'folk', 'electronic', 'blues', 'pop', 'hiphop'] \n",
    "    tag_dict = {key: 0 for key in outertags}\n",
    "    lyc = test_lyc[test_lyc[\"track_id\"] == tid]\n",
    "    for tag in outertags:\n",
    "        for index, row in lyc.iterrows():\n",
    "            word = (row[\"word\"], tag)\n",
    "            if word in o_wd:\n",
    "                \n",
    "                tag_dict[tag] += o_wd[word] + math.log(row[\"count\"])\n",
    "            else:\n",
    "                tag_dict[tag] += o_dd[tag]\n",
    "    outer_r = (nlargest(3, tag_dict, key=tag_dict.get))\n",
    "\n",
    "    if \"rock\" in outer_r:\n",
    "        rtags = [\"rock\", \"classic rock\", \"country\", \"metal\", \"punk\"]\n",
    "        tag_dict = {key: 0 for key in rtags}\n",
    "        for tag in rtags:\n",
    "            for index, row in lyc.iterrows():\n",
    "                word = (row[\"word\"], tag)\n",
    "                if word in r_wd:\n",
    "                    tag_dict[tag] += r_wd[word] + math.log(row[\"count\"])\n",
    "                else:\n",
    "                    tag_dict[tag] += r_dd[tag]\n",
    "            r_tag = max(tag_dict, key=tag_dict.get)\n",
    "        outer_r = [w.replace('rock', r_tag) for w in outer_r]\n",
    "\n",
    "    if \"blues\" in outer_r: \n",
    "        btags = [\"blues\", \"soul\", \"jazz\"]\n",
    "        tag_dict = {key: 0 for key in btags}\n",
    "        for tag in btags:\n",
    "            for index, row in lyc.iterrows():\n",
    "                word = (row[\"word\"], tag)\n",
    "                if word in b_wd:\n",
    "                    tag_dict[tag] += b_wd[word] + math.log(row[\"count\"])\n",
    "                else:\n",
    "                    tag_dict[tag] += b_dd[tag]\n",
    "            b_tag = max(tag_dict, key=tag_dict.get)\n",
    "    \n",
    "        outer_r = [w.replace('blues', b_tag) for w in outer_r]\n",
    "\n",
    "    return outer_r\n"
   ]
  },
  {
   "cell_type": "code",
   "execution_count": null,
   "metadata": {},
   "outputs": [],
   "source": [
    "outertags"
   ]
  },
  {
   "cell_type": "code",
   "execution_count": 36,
   "metadata": {},
   "outputs": [
    {
     "data": {
      "text/html": [
       "<div>\n",
       "<style scoped>\n",
       "    .dataframe tbody tr th:only-of-type {\n",
       "        vertical-align: middle;\n",
       "    }\n",
       "\n",
       "    .dataframe tbody tr th {\n",
       "        vertical-align: top;\n",
       "    }\n",
       "\n",
       "    .dataframe thead th {\n",
       "        text-align: right;\n",
       "    }\n",
       "</style>\n",
       "<table border=\"1\" class=\"dataframe\">\n",
       "  <thead>\n",
       "    <tr style=\"text-align: right;\">\n",
       "      <th></th>\n",
       "      <th>CT</th>\n",
       "      <th>track_id</th>\n",
       "      <th>song_name_cleaned</th>\n",
       "      <th>duration</th>\n",
       "      <th>artist_familiarity</th>\n",
       "      <th>year</th>\n",
       "      <th>genre_merged</th>\n",
       "      <th>outer_g</th>\n",
       "    </tr>\n",
       "  </thead>\n",
       "  <tbody>\n",
       "    <tr>\n",
       "      <th>18</th>\n",
       "      <td>150</td>\n",
       "      <td>TRAACZN128F93236B1</td>\n",
       "      <td>seaweed</td>\n",
       "      <td>218.95791</td>\n",
       "      <td>0.707387</td>\n",
       "      <td>2004</td>\n",
       "      <td>hiphop</td>\n",
       "      <td>hiphop</td>\n",
       "    </tr>\n",
       "    <tr>\n",
       "      <th>40</th>\n",
       "      <td>143</td>\n",
       "      <td>TRAAHEG128E07861C3</td>\n",
       "      <td>wkya (drop)</td>\n",
       "      <td>124.18567</td>\n",
       "      <td>0.743130</td>\n",
       "      <td>2001</td>\n",
       "      <td>hiphop</td>\n",
       "      <td>hiphop</td>\n",
       "    </tr>\n",
       "    <tr>\n",
       "      <th>53</th>\n",
       "      <td>274</td>\n",
       "      <td>TRAANWA128F426ADF0</td>\n",
       "      <td>assassination day</td>\n",
       "      <td>257.22730</td>\n",
       "      <td>0.794504</td>\n",
       "      <td>1996</td>\n",
       "      <td>hiphop</td>\n",
       "      <td>hiphop</td>\n",
       "    </tr>\n",
       "    <tr>\n",
       "      <th>65</th>\n",
       "      <td>188</td>\n",
       "      <td>TRAAQIH128F428BDEA</td>\n",
       "      <td>(bloody paw on the) kill floor</td>\n",
       "      <td>192.18240</td>\n",
       "      <td>0.618003</td>\n",
       "      <td>2007</td>\n",
       "      <td>hiphop</td>\n",
       "      <td>hiphop</td>\n",
       "    </tr>\n",
       "    <tr>\n",
       "      <th>71</th>\n",
       "      <td>218</td>\n",
       "      <td>TRAASGM128EF34DBB0</td>\n",
       "      <td>never forget me</td>\n",
       "      <td>286.30159</td>\n",
       "      <td>0.815923</td>\n",
       "      <td>2007</td>\n",
       "      <td>hiphop</td>\n",
       "      <td>hiphop</td>\n",
       "    </tr>\n",
       "  </tbody>\n",
       "</table>\n",
       "</div>"
      ],
      "text/plain": [
       "     CT            track_id               song_name_cleaned   duration  \\\n",
       "18  150  TRAACZN128F93236B1                         seaweed  218.95791   \n",
       "40  143  TRAAHEG128E07861C3                     wkya (drop)  124.18567   \n",
       "53  274  TRAANWA128F426ADF0               assassination day  257.22730   \n",
       "65  188  TRAAQIH128F428BDEA  (bloody paw on the) kill floor  192.18240   \n",
       "71  218  TRAASGM128EF34DBB0                 never forget me  286.30159   \n",
       "\n",
       "    artist_familiarity  year genre_merged outer_g  \n",
       "18            0.707387  2004       hiphop  hiphop  \n",
       "40            0.743130  2001       hiphop  hiphop  \n",
       "53            0.794504  1996       hiphop  hiphop  \n",
       "65            0.618003  2007       hiphop  hiphop  \n",
       "71            0.815923  2007       hiphop  hiphop  "
      ]
     },
     "execution_count": 36,
     "metadata": {},
     "output_type": "execute_result"
    }
   ],
   "source": [
    "test_songs[test_songs[\"genre_merged\"]==\"hiphop\"].head()"
   ]
  },
  {
   "cell_type": "code",
   "execution_count": 37,
   "metadata": {},
   "outputs": [
    {
     "data": {
      "text/plain": [
       "['rock', 'indie', 'folk']"
      ]
     },
     "execution_count": 37,
     "metadata": {},
     "output_type": "execute_result"
    }
   ],
   "source": [
    "b_predict(\"TRAACZN128F93236B\")"
   ]
  },
  {
   "cell_type": "code",
   "execution_count": 38,
   "metadata": {},
   "outputs": [
    {
     "data": {
      "text/plain": [
       "['hiphop', 'punk', 'jazz']"
      ]
     },
     "execution_count": 38,
     "metadata": {},
     "output_type": "execute_result"
    }
   ],
   "source": [
    "b_predict(\"TRAAHEG128E07861C3\")"
   ]
  },
  {
   "cell_type": "code",
   "execution_count": 39,
   "metadata": {},
   "outputs": [
    {
     "data": {
      "text/plain": [
       "['electronic', 'punk', 'indie']"
      ]
     },
     "execution_count": 39,
     "metadata": {},
     "output_type": "execute_result"
    }
   ],
   "source": [
    "b_predict(\"TRAAQIH128F428BDEA\")"
   ]
  },
  {
   "cell_type": "code",
   "execution_count": null,
   "metadata": {},
   "outputs": [],
   "source": [
    "list(songs[songs[\"track_id\"]==\"TRYUOBY128F14B0F10\"][\"genre_merged\"])"
   ]
  },
  {
   "cell_type": "code",
   "execution_count": null,
   "metadata": {},
   "outputs": [],
   "source": [
    "list(songs[songs[\"track_id\"]==\"TRAVVMB128F148D1C1\"][\"genre_merged\"])"
   ]
  },
  {
   "cell_type": "code",
   "execution_count": null,
   "metadata": {},
   "outputs": [],
   "source": [
    "songs.groupby(\"track_id\")[\"genre_merged\"].agg([\"count\"]).reset_index().sort_values(\"count\", ascending=False).head()"
   ]
  },
  {
   "cell_type": "code",
   "execution_count": null,
   "metadata": {},
   "outputs": [],
   "source": [
    "len(set(al)&set(bl))/len(bl)"
   ]
  },
  {
   "cell_type": "code",
   "execution_count": null,
   "metadata": {},
   "outputs": [],
   "source": [
    "list(songs[songs[\"track_id\"]== \"TRYUOBY128F14B0F10\"][\"song_name\"])[0]"
   ]
  },
  {
   "cell_type": "code",
   "execution_count": 40,
   "metadata": {},
   "outputs": [],
   "source": [
    "\"\"\"\n",
    "def test_prediction(tids, tags):\n",
    "    r = []\n",
    "    song_name = [] #\n",
    "    predicted = [] #\n",
    "    actual = [] #\n",
    "    for tid in tids:\n",
    "        pred = b_predict(tid, tags)\n",
    "        predicted.append(pred) #\n",
    "        act = list(songs[songs[\"track_id\"]== tid][\"genre_merged\"])\n",
    "        actual.append(act) #\n",
    "        song_name.append(list(songs[songs[\"track_id\"]== tid][\"song_name\"])[0])\n",
    "        common = len(set(pred)&set(act))\n",
    "        if (common >=2) or (common/len(act)>=0.5):\n",
    "            r.append(1)\n",
    "        else:\n",
    "            r.append(0)\n",
    "        # pd.DataFrame({\"tid\":tids, \"result\":r})\n",
    "    return pd.DataFrame({\"tid\":tids, \"song_name\": song_name, \"pred\":predicted, \"actual\":actual, \"result\":r})\n",
    "\"\"\"\n",
    "\n",
    "def test_prediction(tids):\n",
    "    r = []\n",
    "    for tid in tids:\n",
    "        pred = b_predict(tid)\n",
    "        act = list(songs[songs[\"track_id\"]== tid][\"genre_merged\"])\n",
    "        common = len(set(pred)&set(act))\n",
    "        if (common >=2) or (common/len(act)>=0.5):\n",
    "            r.append(1)\n",
    "        else:\n",
    "            r.append(0)\n",
    "    return pd.DataFrame({\"tid\":tids, \"result\":r})"
   ]
  },
  {
   "cell_type": "code",
   "execution_count": 73,
   "metadata": {},
   "outputs": [],
   "source": [
    "def random_test_id(n):\n",
    "    test_id = list(test_songs.track_id.drop_duplicates())\n",
    "    rad = list(set([random.randint(1,len(test_id)-1) for i in range(0,n)]))\n",
    "    return [test_id[i] for i in rad]"
   ]
  },
  {
   "cell_type": "code",
   "execution_count": 82,
   "metadata": {},
   "outputs": [],
   "source": [
    "pred_1 = test_prediction(random_test_id(1000))"
   ]
  },
  {
   "cell_type": "code",
   "execution_count": 83,
   "metadata": {},
   "outputs": [
    {
     "data": {
      "text/plain": [
       "0.6308169596690796"
      ]
     },
     "execution_count": 83,
     "metadata": {},
     "output_type": "execute_result"
    }
   ],
   "source": [
    "pred_1.result.sum()/len(pred_1)"
   ]
  },
  {
   "cell_type": "code",
   "execution_count": null,
   "metadata": {},
   "outputs": [],
   "source": [
    "from nltk.stem.snowball import SnowballStemmer\n",
    "from sklearn.feature_extraction.text import CountVectorizer\n",
    "import lyricwikia"
   ]
  },
  {
   "cell_type": "code",
   "execution_count": null,
   "metadata": {},
   "outputs": [],
   "source": [
    "def l_predict(artist, songname):\n",
    "    outertags = ['rock', 'indie', 'folk', 'electronic', 'blues', 'pop', 'hiphop'] \n",
    "    tag_dict = {key: 0 for key in outertags}\n",
    "    testsong = lyricwikia.get_lyrics(artist, songname)\n",
    "    edit_string_as_list = testsong.split()\n",
    "    final_list = [word for word in edit_string_as_list if word not in en_stop]\n",
    "    final_string = [' '.join(final_list)]\n",
    "    vectorizer = CountVectorizer() \n",
    "    cv_fit = vectorizer.fit_transform(final_string).todense() \n",
    "    count_w = np.asarray(cv_fit.sum(axis=0))[0]\n",
    "    l_word = vectorizer.vocabulary_\n",
    "    for tag in outertags:\n",
    "        for key in l_word:\n",
    "            word = (key, tag)\n",
    "            if word in o_wd:\n",
    "                tag_dict[tag] += o_wd[word] + math.log(count_w[l_word[key]])\n",
    "            else:\n",
    "                tag_dict[tag] += o_dd[tag]\n",
    "    outer_r = (nlargest(3, tag_dict, key=tag_dict.get))\n",
    "\n",
    "    if \"rock\" in outer_r:\n",
    "        rtags = [\"rock\", \"classic rock\", \"country\", \"metal\", \"punk\"]\n",
    "        tag_dict = {key: 0 for key in rtags}\n",
    "        for tag in rtags:\n",
    "            for key in l_word:\n",
    "                word = (key, tag)\n",
    "                if word in r_wd:\n",
    "                    tag_dict[tag] += r_wd[word] + math.log(count_w[l_word[key]])\n",
    "                else:\n",
    "                    tag_dict[tag] += r_dd[tag]\n",
    "            r_tag = max(tag_dict, key=tag_dict.get)\n",
    "        outer_r = [w.replace('rock', r_tag) for w in outer_r]\n",
    "\n",
    "    if \"blues\" in outer_r: \n",
    "        btags = [\"blues\", \"soul\", \"jazz\"]\n",
    "        tag_dict = {key: 0 for key in btags}\n",
    "        for tag in btags:\n",
    "            for key in l_word:\n",
    "                word = (key, tag)\n",
    "                if word in b_wd:\n",
    "                    tag_dict[tag] += b_wd[word] + math.log(count_w[l_word[key]])\n",
    "                else:\n",
    "                    tag_dict[tag] += b_dd[tag]\n",
    "            b_tag = max(tag_dict, key=tag_dict.get)\n",
    "    \n",
    "        outer_r = [w.replace('blues', b_tag) for w in outer_r]\n",
    "        # max(tag_dict, key=tag_dict.get)  \n",
    "    return outer_r\n"
   ]
  },
  {
   "cell_type": "code",
   "execution_count": null,
   "metadata": {},
   "outputs": [],
   "source": [
    "print(l_predict(\"Muddy Waters\", \"Hoochie Coochie Man\"))\n",
    "print(l_predict(\"John Lee Hooker\", \"Boogie Chillun\"))\n",
    "print(l_predict(\"Mamie Smith\", \"Crazy Blues\"))\n",
    "print(l_predict(\"pink floyd\", \"money\"))\n",
    "print(l_predict(\"red hot chili peppers\", \"snow\"))\n",
    "print(l_predict(\"Bob Seger\", \"old time rock n roll\"))\n",
    "print(l_predict(\"linkin park\", \"numb\"))\n",
    "print(l_predict(\"lil wayne\", \"i'm me\"))\n",
    "print(l_predict(\"akon\", \"i wanna love you\"))\n"
   ]
  },
  {
   "cell_type": "code",
   "execution_count": null,
   "metadata": {},
   "outputs": [],
   "source": []
  },
  {
   "cell_type": "code",
   "execution_count": null,
   "metadata": {},
   "outputs": [],
   "source": [
    "conn.close()\n"
   ]
  },
  {
   "cell_type": "code",
   "execution_count": null,
   "metadata": {},
   "outputs": [],
   "source": []
  }
 ],
 "metadata": {
  "kernelspec": {
   "display_name": "Python 3",
   "language": "python",
   "name": "python3"
  },
  "language_info": {
   "codemirror_mode": {
    "name": "ipython",
    "version": 3
   },
   "file_extension": ".py",
   "mimetype": "text/x-python",
   "name": "python",
   "nbconvert_exporter": "python",
   "pygments_lexer": "ipython3",
   "version": "3.6.5"
  }
 },
 "nbformat": 4,
 "nbformat_minor": 2
}
