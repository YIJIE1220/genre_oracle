{
 "cells": [
  {
   "cell_type": "markdown",
   "metadata": {},
   "source": [
    "# Exploratory Statistics"
   ]
  },
  {
   "cell_type": "code",
   "execution_count": 1,
   "metadata": {},
   "outputs": [],
   "source": [
    "import pandas as pd\n",
    "import sqlite3 as sql\n",
    "import nltk\n",
    "from pandas import DataFrame,Series"
   ]
  },
  {
   "cell_type": "markdown",
   "metadata": {},
   "source": [
    "# read and shape"
   ]
  },
  {
   "cell_type": "code",
   "execution_count": 2,
   "metadata": {},
   "outputs": [
    {
     "data": {
      "text/html": [
       "<div>\n",
       "<style scoped>\n",
       "    .dataframe tbody tr th:only-of-type {\n",
       "        vertical-align: middle;\n",
       "    }\n",
       "\n",
       "    .dataframe tbody tr th {\n",
       "        vertical-align: top;\n",
       "    }\n",
       "\n",
       "    .dataframe thead th {\n",
       "        text-align: right;\n",
       "    }\n",
       "</style>\n",
       "<table border=\"1\" class=\"dataframe\">\n",
       "  <thead>\n",
       "    <tr style=\"text-align: right;\">\n",
       "      <th></th>\n",
       "      <th>track_id</th>\n",
       "      <th>word</th>\n",
       "      <th>count</th>\n",
       "    </tr>\n",
       "  </thead>\n",
       "  <tbody>\n",
       "    <tr>\n",
       "      <th>0</th>\n",
       "      <td>TRAAAAV128F421A322</td>\n",
       "      <td>like</td>\n",
       "      <td>2</td>\n",
       "    </tr>\n",
       "    <tr>\n",
       "      <th>1</th>\n",
       "      <td>TRAAAAV128F421A322</td>\n",
       "      <td>poor</td>\n",
       "      <td>2</td>\n",
       "    </tr>\n",
       "    <tr>\n",
       "      <th>2</th>\n",
       "      <td>TRAAAAV128F421A322</td>\n",
       "      <td>order</td>\n",
       "      <td>2</td>\n",
       "    </tr>\n",
       "    <tr>\n",
       "      <th>3</th>\n",
       "      <td>TRAAAAV128F421A322</td>\n",
       "      <td>captur</td>\n",
       "      <td>2</td>\n",
       "    </tr>\n",
       "    <tr>\n",
       "      <th>4</th>\n",
       "      <td>TRAAAAV128F421A322</td>\n",
       "      <td>social</td>\n",
       "      <td>2</td>\n",
       "    </tr>\n",
       "  </tbody>\n",
       "</table>\n",
       "</div>"
      ],
      "text/plain": [
       "             track_id    word  count\n",
       "0  TRAAAAV128F421A322    like      2\n",
       "1  TRAAAAV128F421A322    poor      2\n",
       "2  TRAAAAV128F421A322   order      2\n",
       "3  TRAAAAV128F421A322  captur      2\n",
       "4  TRAAAAV128F421A322  social      2"
      ]
     },
     "execution_count": 2,
     "metadata": {},
     "output_type": "execute_result"
    }
   ],
   "source": [
    "df_lyrics=pd.read_csv(\"lyrics_cleaned_desc_by_count.csv\")\n",
    "df_lyrics=df_lyrics[['track_id','word','count']]\n",
    "df_lyrics.head()"
   ]
  },
  {
   "cell_type": "code",
   "execution_count": 3,
   "metadata": {},
   "outputs": [
    {
     "data": {
      "text/plain": [
       "(12833341, 3)"
      ]
     },
     "execution_count": 3,
     "metadata": {},
     "output_type": "execute_result"
    }
   ],
   "source": [
    "# total rows of df_lyrics\n",
    "df_lyrics.shape"
   ]
  },
  {
   "cell_type": "code",
   "execution_count": 4,
   "metadata": {},
   "outputs": [
    {
     "data": {
      "text/plain": [
       "(237648, 3)"
      ]
     },
     "execution_count": 4,
     "metadata": {},
     "output_type": "execute_result"
    }
   ],
   "source": [
    "# number of songs in df_lyrics\n",
    "df_lyrics_simple=df_lyrics.drop_duplicates(subset='track_id')\n",
    "df_lyrics_simple.shape"
   ]
  },
  {
   "cell_type": "code",
   "execution_count": 5,
   "metadata": {},
   "outputs": [
    {
     "data": {
      "text/html": [
       "<div>\n",
       "<style scoped>\n",
       "    .dataframe tbody tr th:only-of-type {\n",
       "        vertical-align: middle;\n",
       "    }\n",
       "\n",
       "    .dataframe tbody tr th {\n",
       "        vertical-align: top;\n",
       "    }\n",
       "\n",
       "    .dataframe thead th {\n",
       "        text-align: right;\n",
       "    }\n",
       "</style>\n",
       "<table border=\"1\" class=\"dataframe\">\n",
       "  <thead>\n",
       "    <tr style=\"text-align: right;\">\n",
       "      <th></th>\n",
       "      <th>track_id</th>\n",
       "      <th>genre_merged</th>\n",
       "      <th>song_name_cleaned</th>\n",
       "      <th>album_name</th>\n",
       "      <th>artist_id</th>\n",
       "      <th>artist_name</th>\n",
       "      <th>duration</th>\n",
       "      <th>artist_familiarity</th>\n",
       "      <th>year</th>\n",
       "    </tr>\n",
       "  </thead>\n",
       "  <tbody>\n",
       "    <tr>\n",
       "      <th>0</th>\n",
       "      <td>TRXPGWF128F428F1F7</td>\n",
       "      <td>hiphop</td>\n",
       "      <td>#!*@ you tonight [featuring r. kelly]</td>\n",
       "      <td>greatest hits</td>\n",
       "      <td>ARSZ6MA1187FB43D29</td>\n",
       "      <td>the notorious b.i.g.</td>\n",
       "      <td>344.34567</td>\n",
       "      <td>0.668509</td>\n",
       "      <td>2007</td>\n",
       "    </tr>\n",
       "    <tr>\n",
       "      <th>1</th>\n",
       "      <td>TRGGQAW128F427F470</td>\n",
       "      <td>hiphop</td>\n",
       "      <td>#1 fan</td>\n",
       "      <td>the one</td>\n",
       "      <td>AR4FVK41187FB4BC83</td>\n",
       "      <td>frankie j</td>\n",
       "      <td>230.94812</td>\n",
       "      <td>0.761357</td>\n",
       "      <td>2005</td>\n",
       "    </tr>\n",
       "    <tr>\n",
       "      <th>2</th>\n",
       "      <td>TRYASIL128F147089D</td>\n",
       "      <td>rap</td>\n",
       "      <td>#1 fan</td>\n",
       "      <td>todd smith</td>\n",
       "      <td>ARNHMFD1187FB3B3F6</td>\n",
       "      <td>ll cool j</td>\n",
       "      <td>197.58975</td>\n",
       "      <td>0.749218</td>\n",
       "      <td>2006</td>\n",
       "    </tr>\n",
       "    <tr>\n",
       "      <th>3</th>\n",
       "      <td>TRAKYTI128C7196464</td>\n",
       "      <td>hiphop</td>\n",
       "      <td>#1</td>\n",
       "      <td>nellyville</td>\n",
       "      <td>ARCBD0U1187FB466EF</td>\n",
       "      <td>nelly</td>\n",
       "      <td>198.81751</td>\n",
       "      <td>0.912369</td>\n",
       "      <td>2001</td>\n",
       "    </tr>\n",
       "    <tr>\n",
       "      <th>4</th>\n",
       "      <td>TRZNWRQ128F9307622</td>\n",
       "      <td>rock</td>\n",
       "      <td>#36</td>\n",
       "      <td>live at red rocks 8.15.95</td>\n",
       "      <td>ARQXC7V1187FB4DA9E</td>\n",
       "      <td>dave matthews band</td>\n",
       "      <td>775.36608</td>\n",
       "      <td>0.811890</td>\n",
       "      <td>1997</td>\n",
       "    </tr>\n",
       "  </tbody>\n",
       "</table>\n",
       "</div>"
      ],
      "text/plain": [
       "             track_id genre_merged                      song_name_cleaned  \\\n",
       "0  TRXPGWF128F428F1F7       hiphop  #!*@ you tonight [featuring r. kelly]   \n",
       "1  TRGGQAW128F427F470       hiphop                                 #1 fan   \n",
       "2  TRYASIL128F147089D          rap                                 #1 fan   \n",
       "3  TRAKYTI128C7196464       hiphop                                     #1   \n",
       "4  TRZNWRQ128F9307622         rock                                    #36   \n",
       "\n",
       "                  album_name           artist_id           artist_name  \\\n",
       "0              greatest hits  ARSZ6MA1187FB43D29  the notorious b.i.g.   \n",
       "1                    the one  AR4FVK41187FB4BC83             frankie j   \n",
       "2                 todd smith  ARNHMFD1187FB3B3F6             ll cool j   \n",
       "3                 nellyville  ARCBD0U1187FB466EF                 nelly   \n",
       "4  live at red rocks 8.15.95  ARQXC7V1187FB4DA9E    dave matthews band   \n",
       "\n",
       "    duration  artist_familiarity  year  \n",
       "0  344.34567            0.668509  2007  \n",
       "1  230.94812            0.761357  2005  \n",
       "2  197.58975            0.749218  2006  \n",
       "3  198.81751            0.912369  2001  \n",
       "4  775.36608            0.811890  1997  "
      ]
     },
     "execution_count": 5,
     "metadata": {},
     "output_type": "execute_result"
    }
   ],
   "source": [
    "# read the tag\n",
    "df_tag=pd.read_csv(\"merged_dropdup.csv\")\n",
    "df_tag=df_tag[df_tag['duration']>=150]\n",
    "df_tag=df_tag[['track_id','genre_merged','song_name_cleaned','album_name','artist_id','artist_name','duration','artist_familiarity','year']]\n",
    "df_tag.head()"
   ]
  },
  {
   "cell_type": "code",
   "execution_count": 6,
   "metadata": {},
   "outputs": [
    {
     "data": {
      "text/plain": [
       "(20340, 9)"
      ]
     },
     "execution_count": 6,
     "metadata": {},
     "output_type": "execute_result"
    }
   ],
   "source": [
    "df_tag.shape"
   ]
  },
  {
   "cell_type": "markdown",
   "metadata": {},
   "source": [
    "# How genre distributed in 20340 songs?"
   ]
  },
  {
   "cell_type": "code",
   "execution_count": 7,
   "metadata": {},
   "outputs": [
    {
     "data": {
      "text/plain": [
       "<matplotlib.axes._subplots.AxesSubplot at 0x1a0ed48898>"
      ]
     },
     "execution_count": 7,
     "metadata": {},
     "output_type": "execute_result"
    }
   ],
   "source": [
    "df_tag2=df_tag.groupby(['genre_merged'])['track_id'].count()\n",
    "df_tag2= df_tag2.to_frame()\n",
    "df_tag2.columns=['genre_count']\n",
    "df_tag2=df_tag2.sort_values(by=['genre_count'],ascending=False)\n",
    "z = df_tag2.index.get_values()\n",
    "df_tag2[\"tag\"] = z\n",
    "df_tag2.plot('tag','genre_count',kind='bar')"
   ]
  },
  {
   "cell_type": "code",
   "execution_count": 8,
   "metadata": {},
   "outputs": [
    {
     "data": {
      "text/html": [
       "<div>\n",
       "<style scoped>\n",
       "    .dataframe tbody tr th:only-of-type {\n",
       "        vertical-align: middle;\n",
       "    }\n",
       "\n",
       "    .dataframe tbody tr th {\n",
       "        vertical-align: top;\n",
       "    }\n",
       "\n",
       "    .dataframe thead th {\n",
       "        text-align: right;\n",
       "    }\n",
       "</style>\n",
       "<table border=\"1\" class=\"dataframe\">\n",
       "  <thead>\n",
       "    <tr style=\"text-align: right;\">\n",
       "      <th></th>\n",
       "      <th>genre_count</th>\n",
       "      <th>tag</th>\n",
       "    </tr>\n",
       "  </thead>\n",
       "  <tbody>\n",
       "    <tr>\n",
       "      <th>0</th>\n",
       "      <td>4179</td>\n",
       "      <td>rock</td>\n",
       "    </tr>\n",
       "    <tr>\n",
       "      <th>1</th>\n",
       "      <td>2938</td>\n",
       "      <td>hiphop</td>\n",
       "    </tr>\n",
       "    <tr>\n",
       "      <th>2</th>\n",
       "      <td>2388</td>\n",
       "      <td>pop</td>\n",
       "    </tr>\n",
       "    <tr>\n",
       "      <th>3</th>\n",
       "      <td>2190</td>\n",
       "      <td>metal</td>\n",
       "    </tr>\n",
       "    <tr>\n",
       "      <th>4</th>\n",
       "      <td>1918</td>\n",
       "      <td>indie</td>\n",
       "    </tr>\n",
       "    <tr>\n",
       "      <th>5</th>\n",
       "      <td>1182</td>\n",
       "      <td>rap</td>\n",
       "    </tr>\n",
       "    <tr>\n",
       "      <th>6</th>\n",
       "      <td>988</td>\n",
       "      <td>country</td>\n",
       "    </tr>\n",
       "    <tr>\n",
       "      <th>7</th>\n",
       "      <td>942</td>\n",
       "      <td>soul</td>\n",
       "    </tr>\n",
       "    <tr>\n",
       "      <th>8</th>\n",
       "      <td>845</td>\n",
       "      <td>folk</td>\n",
       "    </tr>\n",
       "    <tr>\n",
       "      <th>9</th>\n",
       "      <td>837</td>\n",
       "      <td>punk</td>\n",
       "    </tr>\n",
       "    <tr>\n",
       "      <th>10</th>\n",
       "      <td>801</td>\n",
       "      <td>electronic</td>\n",
       "    </tr>\n",
       "    <tr>\n",
       "      <th>11</th>\n",
       "      <td>513</td>\n",
       "      <td>classic rock</td>\n",
       "    </tr>\n",
       "    <tr>\n",
       "      <th>12</th>\n",
       "      <td>342</td>\n",
       "      <td>jazz</td>\n",
       "    </tr>\n",
       "    <tr>\n",
       "      <th>13</th>\n",
       "      <td>277</td>\n",
       "      <td>blues</td>\n",
       "    </tr>\n",
       "  </tbody>\n",
       "</table>\n",
       "</div>"
      ],
      "text/plain": [
       "    genre_count           tag\n",
       "0          4179          rock\n",
       "1          2938        hiphop\n",
       "2          2388           pop\n",
       "3          2190         metal\n",
       "4          1918         indie\n",
       "5          1182           rap\n",
       "6           988       country\n",
       "7           942          soul\n",
       "8           845          folk\n",
       "9           837          punk\n",
       "10          801    electronic\n",
       "11          513  classic rock\n",
       "12          342          jazz\n",
       "13          277         blues"
      ]
     },
     "execution_count": 8,
     "metadata": {},
     "output_type": "execute_result"
    }
   ],
   "source": [
    "df_tag2.index = range(len(df_tag2))\n",
    "df_tag2"
   ]
  },
  {
   "cell_type": "markdown",
   "metadata": {},
   "source": [
    "# How popular genre changes with the year?"
   ]
  },
  {
   "cell_type": "code",
   "execution_count": 9,
   "metadata": {},
   "outputs": [],
   "source": [
    "#df_tag_year=df_tag.groupby(['tag','year'])['track_id'].count()\n",
    "#df_tag_year= df_tag_year.to_frame()\n",
    "#df_tag_year.columns=['genre_count']\n",
    "#df_tag_year.head()\n",
    "#df_tag_year.to_csv('df_tag_year.csv')"
   ]
  },
  {
   "cell_type": "markdown",
   "metadata": {},
   "source": [
    "#  lyrics with tag"
   ]
  },
  {
   "cell_type": "code",
   "execution_count": 10,
   "metadata": {},
   "outputs": [],
   "source": [
    "df_tag_test=df_tag\n",
    "df_lyrics_test=df_lyrics"
   ]
  },
  {
   "cell_type": "code",
   "execution_count": 11,
   "metadata": {},
   "outputs": [
    {
     "name": "stdout",
     "output_type": "stream",
     "text": [
      "old shape of df_lyrics: (12833341, 3)\n",
      "new shape of df_lyrics after deleting the rows without tag: (1976242, 4)\n"
     ]
    }
   ],
   "source": [
    "print(\"old shape of df_lyrics:\",df_lyrics_test.shape)\n",
    "df_tag_test2=df_tag_test[['track_id','genre_merged']]\n",
    "df_lyrics_test=df_lyrics_test.merge(df_tag_test2,left_on='track_id',right_on='track_id',how='left')\n",
    "sum(df_lyrics_test['genre_merged'].isna())\n",
    "df_lyrics_test=df_lyrics_test[~df_lyrics_test['genre_merged'].isna()]\n",
    "print(\"new shape of df_lyrics after deleting the rows without tag:\",df_lyrics_test.shape)"
   ]
  },
  {
   "cell_type": "code",
   "execution_count": 12,
   "metadata": {},
   "outputs": [
    {
     "data": {
      "text/html": [
       "<div>\n",
       "<style scoped>\n",
       "    .dataframe tbody tr th:only-of-type {\n",
       "        vertical-align: middle;\n",
       "    }\n",
       "\n",
       "    .dataframe tbody tr th {\n",
       "        vertical-align: top;\n",
       "    }\n",
       "\n",
       "    .dataframe thead th {\n",
       "        text-align: right;\n",
       "    }\n",
       "</style>\n",
       "<table border=\"1\" class=\"dataframe\">\n",
       "  <thead>\n",
       "    <tr style=\"text-align: right;\">\n",
       "      <th></th>\n",
       "      <th>track_id</th>\n",
       "      <th>word</th>\n",
       "      <th>count</th>\n",
       "      <th>genre_merged</th>\n",
       "    </tr>\n",
       "  </thead>\n",
       "  <tbody>\n",
       "    <tr>\n",
       "      <th>940</th>\n",
       "      <td>TRAABIG128F9356C56</td>\n",
       "      <td>walk</td>\n",
       "      <td>64</td>\n",
       "      <td>electronic</td>\n",
       "    </tr>\n",
       "    <tr>\n",
       "      <th>941</th>\n",
       "      <td>TRAABIG128F9356C56</td>\n",
       "      <td>drum</td>\n",
       "      <td>28</td>\n",
       "      <td>electronic</td>\n",
       "    </tr>\n",
       "    <tr>\n",
       "      <th>942</th>\n",
       "      <td>TRAABIG128F9356C56</td>\n",
       "      <td>beat</td>\n",
       "      <td>27</td>\n",
       "      <td>electronic</td>\n",
       "    </tr>\n",
       "    <tr>\n",
       "      <th>943</th>\n",
       "      <td>TRAABIG128F9356C56</td>\n",
       "      <td>wanna</td>\n",
       "      <td>24</td>\n",
       "      <td>electronic</td>\n",
       "    </tr>\n",
       "    <tr>\n",
       "      <th>944</th>\n",
       "      <td>TRAABIG128F9356C56</td>\n",
       "      <td>hey</td>\n",
       "      <td>23</td>\n",
       "      <td>electronic</td>\n",
       "    </tr>\n",
       "  </tbody>\n",
       "</table>\n",
       "</div>"
      ],
      "text/plain": [
       "               track_id   word  count genre_merged\n",
       "940  TRAABIG128F9356C56   walk     64   electronic\n",
       "941  TRAABIG128F9356C56   drum     28   electronic\n",
       "942  TRAABIG128F9356C56   beat     27   electronic\n",
       "943  TRAABIG128F9356C56  wanna     24   electronic\n",
       "944  TRAABIG128F9356C56    hey     23   electronic"
      ]
     },
     "execution_count": 12,
     "metadata": {},
     "output_type": "execute_result"
    }
   ],
   "source": [
    "df_lyrics_test.head()"
   ]
  },
  {
   "cell_type": "markdown",
   "metadata": {},
   "source": [
    "# The high frequency words for each tag"
   ]
  },
  {
   "cell_type": "code",
   "execution_count": 13,
   "metadata": {},
   "outputs": [
    {
     "data": {
      "text/html": [
       "<div>\n",
       "<style scoped>\n",
       "    .dataframe tbody tr th:only-of-type {\n",
       "        vertical-align: middle;\n",
       "    }\n",
       "\n",
       "    .dataframe tbody tr th {\n",
       "        vertical-align: top;\n",
       "    }\n",
       "\n",
       "    .dataframe thead th {\n",
       "        text-align: right;\n",
       "    }\n",
       "</style>\n",
       "<table border=\"1\" class=\"dataframe\">\n",
       "  <thead>\n",
       "    <tr style=\"text-align: right;\">\n",
       "      <th></th>\n",
       "      <th></th>\n",
       "      <th>count</th>\n",
       "    </tr>\n",
       "    <tr>\n",
       "      <th>genre_merged</th>\n",
       "      <th>word</th>\n",
       "      <th></th>\n",
       "    </tr>\n",
       "  </thead>\n",
       "  <tbody>\n",
       "    <tr>\n",
       "      <th rowspan=\"5\" valign=\"top\">blues</th>\n",
       "      <th>&amp;</th>\n",
       "      <td>15</td>\n",
       "    </tr>\n",
       "    <tr>\n",
       "      <th>000</th>\n",
       "      <td>2</td>\n",
       "    </tr>\n",
       "    <tr>\n",
       "      <th>1</th>\n",
       "      <td>7</td>\n",
       "    </tr>\n",
       "    <tr>\n",
       "      <th>10</th>\n",
       "      <td>6</td>\n",
       "    </tr>\n",
       "    <tr>\n",
       "      <th>100</th>\n",
       "      <td>1</td>\n",
       "    </tr>\n",
       "  </tbody>\n",
       "</table>\n",
       "</div>"
      ],
      "text/plain": [
       "                   count\n",
       "genre_merged word       \n",
       "blues        &        15\n",
       "             000       2\n",
       "             1         7\n",
       "             10        6\n",
       "             100       1"
      ]
     },
     "execution_count": 13,
     "metadata": {},
     "output_type": "execute_result"
    }
   ],
   "source": [
    "df_ly3=df_lyrics_test.groupby(['genre_merged','word'])['count'].sum()\n",
    "df_ly3= df_ly3.to_frame()\n",
    "df_ly3.sort_values(by=['count'],ascending=False)\n",
    "df_ly3.head()"
   ]
  },
  {
   "cell_type": "markdown",
   "metadata": {},
   "source": [
    "# Proof-1: The average number of words in each genre"
   ]
  },
  {
   "cell_type": "code",
   "execution_count": 14,
   "metadata": {},
   "outputs": [
    {
     "data": {
      "text/html": [
       "<div>\n",
       "<style scoped>\n",
       "    .dataframe tbody tr th:only-of-type {\n",
       "        vertical-align: middle;\n",
       "    }\n",
       "\n",
       "    .dataframe tbody tr th {\n",
       "        vertical-align: top;\n",
       "    }\n",
       "\n",
       "    .dataframe thead th {\n",
       "        text-align: right;\n",
       "    }\n",
       "</style>\n",
       "<table border=\"1\" class=\"dataframe\">\n",
       "  <thead>\n",
       "    <tr style=\"text-align: right;\">\n",
       "      <th></th>\n",
       "      <th>count</th>\n",
       "      <th>genre_merged</th>\n",
       "      <th>genre_count</th>\n",
       "      <th>tag</th>\n",
       "      <th>ave_num_words</th>\n",
       "    </tr>\n",
       "  </thead>\n",
       "  <tbody>\n",
       "    <tr>\n",
       "      <th>0</th>\n",
       "      <td>43417</td>\n",
       "      <td>blues</td>\n",
       "      <td>277</td>\n",
       "      <td>blues</td>\n",
       "      <td>156.740072</td>\n",
       "    </tr>\n",
       "    <tr>\n",
       "      <th>1</th>\n",
       "      <td>75197</td>\n",
       "      <td>classic rock</td>\n",
       "      <td>513</td>\n",
       "      <td>classic rock</td>\n",
       "      <td>146.582846</td>\n",
       "    </tr>\n",
       "    <tr>\n",
       "      <th>2</th>\n",
       "      <td>139472</td>\n",
       "      <td>country</td>\n",
       "      <td>988</td>\n",
       "      <td>country</td>\n",
       "      <td>141.165992</td>\n",
       "    </tr>\n",
       "    <tr>\n",
       "      <th>3</th>\n",
       "      <td>134444</td>\n",
       "      <td>electronic</td>\n",
       "      <td>801</td>\n",
       "      <td>electronic</td>\n",
       "      <td>167.845194</td>\n",
       "    </tr>\n",
       "    <tr>\n",
       "      <th>4</th>\n",
       "      <td>118361</td>\n",
       "      <td>folk</td>\n",
       "      <td>845</td>\n",
       "      <td>folk</td>\n",
       "      <td>140.072189</td>\n",
       "    </tr>\n",
       "    <tr>\n",
       "      <th>5</th>\n",
       "      <td>797692</td>\n",
       "      <td>hiphop</td>\n",
       "      <td>2938</td>\n",
       "      <td>hiphop</td>\n",
       "      <td>271.508509</td>\n",
       "    </tr>\n",
       "    <tr>\n",
       "      <th>6</th>\n",
       "      <td>275621</td>\n",
       "      <td>indie</td>\n",
       "      <td>1918</td>\n",
       "      <td>indie</td>\n",
       "      <td>143.702294</td>\n",
       "    </tr>\n",
       "    <tr>\n",
       "      <th>7</th>\n",
       "      <td>57000</td>\n",
       "      <td>jazz</td>\n",
       "      <td>342</td>\n",
       "      <td>jazz</td>\n",
       "      <td>166.666667</td>\n",
       "    </tr>\n",
       "    <tr>\n",
       "      <th>8</th>\n",
       "      <td>305765</td>\n",
       "      <td>metal</td>\n",
       "      <td>2190</td>\n",
       "      <td>metal</td>\n",
       "      <td>139.618721</td>\n",
       "    </tr>\n",
       "    <tr>\n",
       "      <th>9</th>\n",
       "      <td>409799</td>\n",
       "      <td>pop</td>\n",
       "      <td>2388</td>\n",
       "      <td>pop</td>\n",
       "      <td>171.607621</td>\n",
       "    </tr>\n",
       "    <tr>\n",
       "      <th>10</th>\n",
       "      <td>120087</td>\n",
       "      <td>punk</td>\n",
       "      <td>837</td>\n",
       "      <td>punk</td>\n",
       "      <td>143.473118</td>\n",
       "    </tr>\n",
       "    <tr>\n",
       "      <th>11</th>\n",
       "      <td>333296</td>\n",
       "      <td>rap</td>\n",
       "      <td>1182</td>\n",
       "      <td>rap</td>\n",
       "      <td>281.976311</td>\n",
       "    </tr>\n",
       "    <tr>\n",
       "      <th>12</th>\n",
       "      <td>633308</td>\n",
       "      <td>rock</td>\n",
       "      <td>4179</td>\n",
       "      <td>rock</td>\n",
       "      <td>151.545346</td>\n",
       "    </tr>\n",
       "    <tr>\n",
       "      <th>13</th>\n",
       "      <td>182185</td>\n",
       "      <td>soul</td>\n",
       "      <td>942</td>\n",
       "      <td>soul</td>\n",
       "      <td>193.402335</td>\n",
       "    </tr>\n",
       "  </tbody>\n",
       "</table>\n",
       "</div>"
      ],
      "text/plain": [
       "     count  genre_merged  genre_count           tag  ave_num_words\n",
       "0    43417         blues          277         blues     156.740072\n",
       "1    75197  classic rock          513  classic rock     146.582846\n",
       "2   139472       country          988       country     141.165992\n",
       "3   134444    electronic          801    electronic     167.845194\n",
       "4   118361          folk          845          folk     140.072189\n",
       "5   797692        hiphop         2938        hiphop     271.508509\n",
       "6   275621         indie         1918         indie     143.702294\n",
       "7    57000          jazz          342          jazz     166.666667\n",
       "8   305765         metal         2190         metal     139.618721\n",
       "9   409799           pop         2388           pop     171.607621\n",
       "10  120087          punk          837          punk     143.473118\n",
       "11  333296           rap         1182           rap     281.976311\n",
       "12  633308          rock         4179          rock     151.545346\n",
       "13  182185          soul          942          soul     193.402335"
      ]
     },
     "execution_count": 14,
     "metadata": {},
     "output_type": "execute_result"
    }
   ],
   "source": [
    "df_ly1=df_lyrics_test.groupby(['genre_merged'])['count'].sum().to_frame()\n",
    "df_ly1[\"genre_merged\"] = df_ly1.index.get_values()\n",
    "df_ly1=df_ly1.merge(df_tag2,left_on='genre_merged',right_on='tag',how='left')\n",
    "df_ly1['ave_num_words']=df_ly1['count']/df_ly1['genre_count']\n",
    "df_ly1"
   ]
  },
  {
   "cell_type": "code",
   "execution_count": 69,
   "metadata": {},
   "outputs": [
    {
     "data": {
      "text/plain": [
       "<matplotlib.axes._subplots.AxesSubplot at 0x1a0e4747b8>"
      ]
     },
     "execution_count": 69,
     "metadata": {},
     "output_type": "execute_result"
    },
    {
     "data": {
      "image/png": "[encoded data removed]",
      "text/plain": [
       "<matplotlib.figure.Figure at 0x1a0e44b7b8>"
      ]
     },
     "metadata": {},
     "output_type": "display_data"
    }
   ],
   "source": [
    "df_ly1.plot('tag','ave_num_words',kind='bar',ylim=[130,290])"
   ]
  },
  {
   "cell_type": "markdown",
   "metadata": {},
   "source": [
    "Seems that it's easy to distinguish the hiphop and rap from the other genres.\n",
    "While, for the other genres, this features will not increase the accuracy."
   ]
  },
  {
   "cell_type": "markdown",
   "metadata": {},
   "source": [
    "# Advanced feature-1: num of words in each song"
   ]
  },
  {
   "cell_type": "code",
   "execution_count": 23,
   "metadata": {},
   "outputs": [
    {
     "data": {
      "text/html": [
       "<div>\n",
       "<style scoped>\n",
       "    .dataframe tbody tr th:only-of-type {\n",
       "        vertical-align: middle;\n",
       "    }\n",
       "\n",
       "    .dataframe tbody tr th {\n",
       "        vertical-align: top;\n",
       "    }\n",
       "\n",
       "    .dataframe thead th {\n",
       "        text-align: right;\n",
       "    }\n",
       "</style>\n",
       "<table border=\"1\" class=\"dataframe\">\n",
       "  <thead>\n",
       "    <tr style=\"text-align: right;\">\n",
       "      <th></th>\n",
       "      <th>count</th>\n",
       "      <th>track_id</th>\n",
       "    </tr>\n",
       "    <tr>\n",
       "      <th>track_id</th>\n",
       "      <th></th>\n",
       "      <th></th>\n",
       "    </tr>\n",
       "  </thead>\n",
       "  <tbody>\n",
       "    <tr>\n",
       "      <th>TRAABIG128F9356C56</th>\n",
       "      <td>392</td>\n",
       "      <td>TRAABIG128F9356C56</td>\n",
       "    </tr>\n",
       "    <tr>\n",
       "      <th>TRAABLR128F423B7E3</th>\n",
       "      <td>90</td>\n",
       "      <td>TRAABLR128F423B7E3</td>\n",
       "    </tr>\n",
       "    <tr>\n",
       "      <th>TRAABVM128F92CA9DC</th>\n",
       "      <td>153</td>\n",
       "      <td>TRAABVM128F92CA9DC</td>\n",
       "    </tr>\n",
       "    <tr>\n",
       "      <th>TRAACER128F4290F96</th>\n",
       "      <td>130</td>\n",
       "      <td>TRAACER128F4290F96</td>\n",
       "    </tr>\n",
       "    <tr>\n",
       "      <th>TRAACIE128F428495B</th>\n",
       "      <td>96</td>\n",
       "      <td>TRAACIE128F428495B</td>\n",
       "    </tr>\n",
       "  </tbody>\n",
       "</table>\n",
       "</div>"
      ],
      "text/plain": [
       "                    count            track_id\n",
       "track_id                                     \n",
       "TRAABIG128F9356C56    392  TRAABIG128F9356C56\n",
       "TRAABLR128F423B7E3     90  TRAABLR128F423B7E3\n",
       "TRAABVM128F92CA9DC    153  TRAABVM128F92CA9DC\n",
       "TRAACER128F4290F96    130  TRAACER128F4290F96\n",
       "TRAACIE128F428495B     96  TRAACIE128F428495B"
      ]
     },
     "execution_count": 23,
     "metadata": {},
     "output_type": "execute_result"
    }
   ],
   "source": [
    "df_sum=df_lyrics_test[['track_id','count']]\n",
    "df_sum2=df_sum.groupby(['track_id'])['count'].sum().to_frame()\n",
    "df_sum2[\"track_id\"] = df_sum2.index.get_values()\n",
    "# df_sum2.columns=[['sum_of_words','track_id']]\n",
    "df_sum2.head()"
   ]
  },
  {
   "cell_type": "code",
   "execution_count": 17,
   "metadata": {},
   "outputs": [],
   "source": [
    "# df_tag_clean=df_tag[['track_id','genre_merged']]\n",
    "# df_sum2=df_sum2.merge(df_tag_clean,left_on='track_id',right_on='track_id',how='left')\n",
    "# df_sum2.columns=[['sum_of_words','track_id','tag']]"
   ]
  },
  {
   "cell_type": "markdown",
   "metadata": {},
   "source": [
    "# count of words"
   ]
  },
  {
   "cell_type": "code",
   "execution_count": 24,
   "metadata": {},
   "outputs": [
    {
     "data": {
      "text/html": [
       "<div>\n",
       "<style scoped>\n",
       "    .dataframe tbody tr th:only-of-type {\n",
       "        vertical-align: middle;\n",
       "    }\n",
       "\n",
       "    .dataframe tbody tr th {\n",
       "        vertical-align: top;\n",
       "    }\n",
       "\n",
       "    .dataframe thead th {\n",
       "        text-align: right;\n",
       "    }\n",
       "</style>\n",
       "<table border=\"1\" class=\"dataframe\">\n",
       "  <thead>\n",
       "    <tr style=\"text-align: right;\">\n",
       "      <th></th>\n",
       "      <th>count</th>\n",
       "      <th>track_id</th>\n",
       "    </tr>\n",
       "    <tr>\n",
       "      <th>track_id</th>\n",
       "      <th></th>\n",
       "      <th></th>\n",
       "    </tr>\n",
       "  </thead>\n",
       "  <tbody>\n",
       "    <tr>\n",
       "      <th>TRAABIG128F9356C56</th>\n",
       "      <td>124</td>\n",
       "      <td>TRAABIG128F9356C56</td>\n",
       "    </tr>\n",
       "    <tr>\n",
       "      <th>TRAABLR128F423B7E3</th>\n",
       "      <td>67</td>\n",
       "      <td>TRAABLR128F423B7E3</td>\n",
       "    </tr>\n",
       "    <tr>\n",
       "      <th>TRAABVM128F92CA9DC</th>\n",
       "      <td>77</td>\n",
       "      <td>TRAABVM128F92CA9DC</td>\n",
       "    </tr>\n",
       "    <tr>\n",
       "      <th>TRAACER128F4290F96</th>\n",
       "      <td>85</td>\n",
       "      <td>TRAACER128F4290F96</td>\n",
       "    </tr>\n",
       "    <tr>\n",
       "      <th>TRAACIE128F428495B</th>\n",
       "      <td>75</td>\n",
       "      <td>TRAACIE128F428495B</td>\n",
       "    </tr>\n",
       "  </tbody>\n",
       "</table>\n",
       "</div>"
      ],
      "text/plain": [
       "                    count            track_id\n",
       "track_id                                     \n",
       "TRAABIG128F9356C56    124  TRAABIG128F9356C56\n",
       "TRAABLR128F423B7E3     67  TRAABLR128F423B7E3\n",
       "TRAABVM128F92CA9DC     77  TRAABVM128F92CA9DC\n",
       "TRAACER128F4290F96     85  TRAACER128F4290F96\n",
       "TRAACIE128F428495B     75  TRAACIE128F428495B"
      ]
     },
     "execution_count": 24,
     "metadata": {},
     "output_type": "execute_result"
    }
   ],
   "source": [
    "df_count=df_lyrics_test[['track_id','count']]\n",
    "df_count2=df_count.groupby(['track_id'])['count'].count().to_frame()\n",
    "df_count2[\"track_id\"] = df_count2.index.get_values()\n",
    "# df_count2.columns=[['count_of_words','track_id']]\n",
    "df_count2.head()"
   ]
  },
  {
   "cell_type": "markdown",
   "metadata": {},
   "source": [
    "# Advanced feature-2: repeat times"
   ]
  },
  {
   "cell_type": "code",
   "execution_count": 43,
   "metadata": {},
   "outputs": [
    {
     "data": {
      "text/html": [
       "<div>\n",
       "<style scoped>\n",
       "    .dataframe tbody tr th:only-of-type {\n",
       "        vertical-align: middle;\n",
       "    }\n",
       "\n",
       "    .dataframe tbody tr th {\n",
       "        vertical-align: top;\n",
       "    }\n",
       "\n",
       "    .dataframe thead th {\n",
       "        text-align: right;\n",
       "    }\n",
       "</style>\n",
       "<table border=\"1\" class=\"dataframe\">\n",
       "  <thead>\n",
       "    <tr style=\"text-align: right;\">\n",
       "      <th></th>\n",
       "      <th>count_x</th>\n",
       "      <th>track_id</th>\n",
       "      <th>count_y</th>\n",
       "      <th>repeat_times</th>\n",
       "    </tr>\n",
       "  </thead>\n",
       "  <tbody>\n",
       "    <tr>\n",
       "      <th>0</th>\n",
       "      <td>392</td>\n",
       "      <td>TRAABIG128F9356C56</td>\n",
       "      <td>124</td>\n",
       "      <td>3.161290</td>\n",
       "    </tr>\n",
       "    <tr>\n",
       "      <th>1</th>\n",
       "      <td>90</td>\n",
       "      <td>TRAABLR128F423B7E3</td>\n",
       "      <td>67</td>\n",
       "      <td>1.343284</td>\n",
       "    </tr>\n",
       "    <tr>\n",
       "      <th>2</th>\n",
       "      <td>153</td>\n",
       "      <td>TRAABVM128F92CA9DC</td>\n",
       "      <td>77</td>\n",
       "      <td>1.987013</td>\n",
       "    </tr>\n",
       "    <tr>\n",
       "      <th>3</th>\n",
       "      <td>130</td>\n",
       "      <td>TRAACER128F4290F96</td>\n",
       "      <td>85</td>\n",
       "      <td>1.529412</td>\n",
       "    </tr>\n",
       "    <tr>\n",
       "      <th>4</th>\n",
       "      <td>96</td>\n",
       "      <td>TRAACIE128F428495B</td>\n",
       "      <td>75</td>\n",
       "      <td>1.280000</td>\n",
       "    </tr>\n",
       "  </tbody>\n",
       "</table>\n",
       "</div>"
      ],
      "text/plain": [
       "   count_x            track_id  count_y  repeat_times\n",
       "0      392  TRAABIG128F9356C56      124      3.161290\n",
       "1       90  TRAABLR128F423B7E3       67      1.343284\n",
       "2      153  TRAABVM128F92CA9DC       77      1.987013\n",
       "3      130  TRAACER128F4290F96       85      1.529412\n",
       "4       96  TRAACIE128F428495B       75      1.280000"
      ]
     },
     "execution_count": 43,
     "metadata": {},
     "output_type": "execute_result"
    }
   ],
   "source": [
    "df_repeat=df_sum2.merge(df_count2,left_on='track_id',right_on='track_id',how='left')\n",
    "# df_repeat.columns=[['sum_of_words','track_id','count_of_words']]\n",
    "df_repeat['repeat_times']=df_repeat.iloc[:,0]/df_repeat.iloc[:,2]\n",
    "df_repeat.head()"
   ]
  },
  {
   "cell_type": "markdown",
   "metadata": {},
   "source": [
    "# Proof-2: the repeat times in each genre"
   ]
  },
  {
   "cell_type": "code",
   "execution_count": 45,
   "metadata": {},
   "outputs": [
    {
     "data": {
      "text/html": [
       "<div>\n",
       "<style scoped>\n",
       "    .dataframe tbody tr th:only-of-type {\n",
       "        vertical-align: middle;\n",
       "    }\n",
       "\n",
       "    .dataframe tbody tr th {\n",
       "        vertical-align: top;\n",
       "    }\n",
       "\n",
       "    .dataframe thead th {\n",
       "        text-align: right;\n",
       "    }\n",
       "</style>\n",
       "<table border=\"1\" class=\"dataframe\">\n",
       "  <thead>\n",
       "    <tr style=\"text-align: right;\">\n",
       "      <th></th>\n",
       "      <th>repeat_times</th>\n",
       "    </tr>\n",
       "    <tr>\n",
       "      <th>genre_merged</th>\n",
       "      <th></th>\n",
       "    </tr>\n",
       "  </thead>\n",
       "  <tbody>\n",
       "    <tr>\n",
       "      <th>blues</th>\n",
       "      <td>1.842425</td>\n",
       "    </tr>\n",
       "    <tr>\n",
       "      <th>classic rock</th>\n",
       "      <td>1.784374</td>\n",
       "    </tr>\n",
       "    <tr>\n",
       "      <th>country</th>\n",
       "      <td>1.718968</td>\n",
       "    </tr>\n",
       "    <tr>\n",
       "      <th>electronic</th>\n",
       "      <td>1.861923</td>\n",
       "    </tr>\n",
       "    <tr>\n",
       "      <th>folk</th>\n",
       "      <td>1.603560</td>\n",
       "    </tr>\n",
       "    <tr>\n",
       "      <th>hiphop</th>\n",
       "      <td>1.987471</td>\n",
       "    </tr>\n",
       "    <tr>\n",
       "      <th>indie</th>\n",
       "      <td>1.701415</td>\n",
       "    </tr>\n",
       "    <tr>\n",
       "      <th>jazz</th>\n",
       "      <td>1.822020</td>\n",
       "    </tr>\n",
       "    <tr>\n",
       "      <th>metal</th>\n",
       "      <td>1.605023</td>\n",
       "    </tr>\n",
       "    <tr>\n",
       "      <th>pop</th>\n",
       "      <td>2.101458</td>\n",
       "    </tr>\n",
       "    <tr>\n",
       "      <th>punk</th>\n",
       "      <td>1.728526</td>\n",
       "    </tr>\n",
       "    <tr>\n",
       "      <th>rap</th>\n",
       "      <td>1.937760</td>\n",
       "    </tr>\n",
       "    <tr>\n",
       "      <th>rock</th>\n",
       "      <td>1.820409</td>\n",
       "    </tr>\n",
       "    <tr>\n",
       "      <th>soul</th>\n",
       "      <td>2.271339</td>\n",
       "    </tr>\n",
       "  </tbody>\n",
       "</table>\n",
       "</div>"
      ],
      "text/plain": [
       "              repeat_times\n",
       "genre_merged              \n",
       "blues             1.842425\n",
       "classic rock      1.784374\n",
       "country           1.718968\n",
       "electronic        1.861923\n",
       "folk              1.603560\n",
       "hiphop            1.987471\n",
       "indie             1.701415\n",
       "jazz              1.822020\n",
       "metal             1.605023\n",
       "pop               2.101458\n",
       "punk              1.728526\n",
       "rap               1.937760\n",
       "rock              1.820409\n",
       "soul              2.271339"
      ]
     },
     "execution_count": 45,
     "metadata": {},
     "output_type": "execute_result"
    }
   ],
   "source": [
    "df_repeat2=df_repeat.merge(df_tag_test2,left_on='track_id',right_on='track_id',how='left')\n",
    "df_repeat2=df_repeat2.groupby(['genre_merged'])['repeat_times'].mean().to_frame()\n",
    "df_repeat2"
   ]
  },
  {
   "cell_type": "code",
   "execution_count": 68,
   "metadata": {},
   "outputs": [
    {
     "data": {
      "text/plain": [
       "<matplotlib.axes._subplots.AxesSubplot at 0x1a0d7d7550>"
      ]
     },
     "execution_count": 68,
     "metadata": {},
     "output_type": "execute_result"
    },
    {
     "data": {
      "image/png": "[encoded data removed]",
      "text/plain": [
       "<matplotlib.figure.Figure at 0x1a0d7a4048>"
      ]
     },
     "metadata": {},
     "output_type": "display_data"
    }
   ],
   "source": [
    "df_repeat2[\"tag\"] = df_repeat2.index.get_values()\n",
    "df_repeat2.plot('tag','repeat_times',kind='bar',ylim=[1.5,2.3])"
   ]
  },
  {
   "cell_type": "markdown",
   "metadata": {},
   "source": [
    "# Adcanced feature-3: average length of words in one song"
   ]
  },
  {
   "cell_type": "code",
   "execution_count": 36,
   "metadata": {},
   "outputs": [
    {
     "data": {
      "text/plain": [
       "(4873, 4)"
      ]
     },
     "execution_count": 36,
     "metadata": {},
     "output_type": "execute_result"
    }
   ],
   "source": [
    "df_length=df_lyrics_test\n",
    "df_length=df_length.drop_duplicates(subset='word')\n",
    "df_length.shape"
   ]
  },
  {
   "cell_type": "code",
   "execution_count": 37,
   "metadata": {},
   "outputs": [
    {
     "data": {
      "text/html": [
       "<div>\n",
       "<style scoped>\n",
       "    .dataframe tbody tr th:only-of-type {\n",
       "        vertical-align: middle;\n",
       "    }\n",
       "\n",
       "    .dataframe tbody tr th {\n",
       "        vertical-align: top;\n",
       "    }\n",
       "\n",
       "    .dataframe thead th {\n",
       "        text-align: right;\n",
       "    }\n",
       "</style>\n",
       "<table border=\"1\" class=\"dataframe\">\n",
       "  <thead>\n",
       "    <tr style=\"text-align: right;\">\n",
       "      <th></th>\n",
       "      <th>track_id</th>\n",
       "      <th>word</th>\n",
       "      <th>count</th>\n",
       "      <th>genre_merged</th>\n",
       "    </tr>\n",
       "  </thead>\n",
       "  <tbody>\n",
       "    <tr>\n",
       "      <th>940</th>\n",
       "      <td>TRAABIG128F9356C56</td>\n",
       "      <td>walk</td>\n",
       "      <td>64</td>\n",
       "      <td>electronic</td>\n",
       "    </tr>\n",
       "    <tr>\n",
       "      <th>941</th>\n",
       "      <td>TRAABIG128F9356C56</td>\n",
       "      <td>drum</td>\n",
       "      <td>28</td>\n",
       "      <td>electronic</td>\n",
       "    </tr>\n",
       "    <tr>\n",
       "      <th>942</th>\n",
       "      <td>TRAABIG128F9356C56</td>\n",
       "      <td>beat</td>\n",
       "      <td>27</td>\n",
       "      <td>electronic</td>\n",
       "    </tr>\n",
       "    <tr>\n",
       "      <th>943</th>\n",
       "      <td>TRAABIG128F9356C56</td>\n",
       "      <td>wanna</td>\n",
       "      <td>24</td>\n",
       "      <td>electronic</td>\n",
       "    </tr>\n",
       "    <tr>\n",
       "      <th>944</th>\n",
       "      <td>TRAABIG128F9356C56</td>\n",
       "      <td>hey</td>\n",
       "      <td>23</td>\n",
       "      <td>electronic</td>\n",
       "    </tr>\n",
       "  </tbody>\n",
       "</table>\n",
       "</div>"
      ],
      "text/plain": [
       "               track_id   word  count genre_merged\n",
       "940  TRAABIG128F9356C56   walk     64   electronic\n",
       "941  TRAABIG128F9356C56   drum     28   electronic\n",
       "942  TRAABIG128F9356C56   beat     27   electronic\n",
       "943  TRAABIG128F9356C56  wanna     24   electronic\n",
       "944  TRAABIG128F9356C56    hey     23   electronic"
      ]
     },
     "execution_count": 37,
     "metadata": {},
     "output_type": "execute_result"
    }
   ],
   "source": [
    "df_length.head()"
   ]
  },
  {
   "cell_type": "code",
   "execution_count": 38,
   "metadata": {},
   "outputs": [
    {
     "name": "stderr",
     "output_type": "stream",
     "text": [
      "/Users/YIJIE/anaconda3/lib/python3.6/site-packages/ipykernel_launcher.py:1: SettingWithCopyWarning: \n",
      "A value is trying to be set on a copy of a slice from a DataFrame.\n",
      "Try using .loc[row_indexer,col_indexer] = value instead\n",
      "\n",
      "See the caveats in the documentation: http://pandas.pydata.org/pandas-docs/stable/indexing.html#indexing-view-versus-copy\n",
      "  \"\"\"Entry point for launching an IPython kernel.\n",
      "/Users/YIJIE/anaconda3/lib/python3.6/site-packages/pandas/core/indexing.py:537: SettingWithCopyWarning: \n",
      "A value is trying to be set on a copy of a slice from a DataFrame.\n",
      "Try using .loc[row_indexer,col_indexer] = value instead\n",
      "\n",
      "See the caveats in the documentation: http://pandas.pydata.org/pandas-docs/stable/indexing.html#indexing-view-versus-copy\n",
      "  self.obj[item] = s\n"
     ]
    },
    {
     "name": "stdout",
     "output_type": "stream",
     "text": [
      "0\n",
      "100\n",
      "200\n",
      "300\n",
      "400\n",
      "500\n",
      "600\n",
      "700\n",
      "800\n",
      "900\n",
      "1000\n",
      "1100\n",
      "1200\n",
      "1300\n",
      "1400\n",
      "1500\n",
      "1600\n",
      "1700\n",
      "1800\n",
      "1900\n",
      "2000\n",
      "2100\n",
      "2200\n",
      "2300\n",
      "2400\n",
      "2500\n",
      "2600\n",
      "2700\n",
      "2800\n",
      "2900\n",
      "3000\n",
      "3100\n",
      "3200\n",
      "3300\n",
      "3400\n",
      "3500\n",
      "3600\n",
      "3700\n",
      "3800\n",
      "3900\n",
      "4000\n",
      "4100\n",
      "4200\n",
      "4300\n",
      "4400\n",
      "4500\n",
      "4600\n",
      "4700\n",
      "4800\n"
     ]
    },
    {
     "data": {
      "text/html": [
       "<div>\n",
       "<style scoped>\n",
       "    .dataframe tbody tr th:only-of-type {\n",
       "        vertical-align: middle;\n",
       "    }\n",
       "\n",
       "    .dataframe tbody tr th {\n",
       "        vertical-align: top;\n",
       "    }\n",
       "\n",
       "    .dataframe thead th {\n",
       "        text-align: right;\n",
       "    }\n",
       "</style>\n",
       "<table border=\"1\" class=\"dataframe\">\n",
       "  <thead>\n",
       "    <tr style=\"text-align: right;\">\n",
       "      <th></th>\n",
       "      <th>track_id</th>\n",
       "      <th>word</th>\n",
       "      <th>count</th>\n",
       "      <th>genre_merged</th>\n",
       "      <th>lenword</th>\n",
       "    </tr>\n",
       "  </thead>\n",
       "  <tbody>\n",
       "    <tr>\n",
       "      <th>940</th>\n",
       "      <td>TRAABIG128F9356C56</td>\n",
       "      <td>walk</td>\n",
       "      <td>64</td>\n",
       "      <td>electronic</td>\n",
       "      <td>4</td>\n",
       "    </tr>\n",
       "    <tr>\n",
       "      <th>941</th>\n",
       "      <td>TRAABIG128F9356C56</td>\n",
       "      <td>drum</td>\n",
       "      <td>28</td>\n",
       "      <td>electronic</td>\n",
       "      <td>4</td>\n",
       "    </tr>\n",
       "    <tr>\n",
       "      <th>942</th>\n",
       "      <td>TRAABIG128F9356C56</td>\n",
       "      <td>beat</td>\n",
       "      <td>27</td>\n",
       "      <td>electronic</td>\n",
       "      <td>4</td>\n",
       "    </tr>\n",
       "    <tr>\n",
       "      <th>943</th>\n",
       "      <td>TRAABIG128F9356C56</td>\n",
       "      <td>wanna</td>\n",
       "      <td>24</td>\n",
       "      <td>electronic</td>\n",
       "      <td>5</td>\n",
       "    </tr>\n",
       "    <tr>\n",
       "      <th>944</th>\n",
       "      <td>TRAABIG128F9356C56</td>\n",
       "      <td>hey</td>\n",
       "      <td>23</td>\n",
       "      <td>electronic</td>\n",
       "      <td>3</td>\n",
       "    </tr>\n",
       "  </tbody>\n",
       "</table>\n",
       "</div>"
      ],
      "text/plain": [
       "               track_id   word  count genre_merged  lenword\n",
       "940  TRAABIG128F9356C56   walk     64   electronic        4\n",
       "941  TRAABIG128F9356C56   drum     28   electronic        4\n",
       "942  TRAABIG128F9356C56   beat     27   electronic        4\n",
       "943  TRAABIG128F9356C56  wanna     24   electronic        5\n",
       "944  TRAABIG128F9356C56    hey     23   electronic        3"
      ]
     },
     "execution_count": 38,
     "metadata": {},
     "output_type": "execute_result"
    }
   ],
   "source": [
    "df_length[\"lenword\"]=0\n",
    "for i in range(df_length.shape[0]):\n",
    "    df_length.iloc[i,4]=len(df_length.iloc[i,1])\n",
    "    if i%100==0:\n",
    "        print(i)\n",
    "df_length.head()"
   ]
  },
  {
   "cell_type": "code",
   "execution_count": 52,
   "metadata": {},
   "outputs": [
    {
     "data": {
      "text/plain": [
       "(1976242, 4)"
      ]
     },
     "execution_count": 52,
     "metadata": {},
     "output_type": "execute_result"
    }
   ],
   "source": [
    "df_lyrics_test.shape"
   ]
  },
  {
   "cell_type": "code",
   "execution_count": 54,
   "metadata": {},
   "outputs": [
    {
     "data": {
      "text/html": [
       "<div>\n",
       "<style scoped>\n",
       "    .dataframe tbody tr th:only-of-type {\n",
       "        vertical-align: middle;\n",
       "    }\n",
       "\n",
       "    .dataframe tbody tr th {\n",
       "        vertical-align: top;\n",
       "    }\n",
       "\n",
       "    .dataframe thead th {\n",
       "        text-align: right;\n",
       "    }\n",
       "</style>\n",
       "<table border=\"1\" class=\"dataframe\">\n",
       "  <thead>\n",
       "    <tr style=\"text-align: right;\">\n",
       "      <th></th>\n",
       "      <th>track_id</th>\n",
       "      <th>word</th>\n",
       "      <th>count</th>\n",
       "      <th>genre_merged</th>\n",
       "      <th>lenword</th>\n",
       "    </tr>\n",
       "  </thead>\n",
       "  <tbody>\n",
       "    <tr>\n",
       "      <th>0</th>\n",
       "      <td>TRAABIG128F9356C56</td>\n",
       "      <td>walk</td>\n",
       "      <td>64</td>\n",
       "      <td>electronic</td>\n",
       "      <td>4</td>\n",
       "    </tr>\n",
       "    <tr>\n",
       "      <th>1</th>\n",
       "      <td>TRAABIG128F9356C56</td>\n",
       "      <td>drum</td>\n",
       "      <td>28</td>\n",
       "      <td>electronic</td>\n",
       "      <td>4</td>\n",
       "    </tr>\n",
       "    <tr>\n",
       "      <th>2</th>\n",
       "      <td>TRAABIG128F9356C56</td>\n",
       "      <td>beat</td>\n",
       "      <td>27</td>\n",
       "      <td>electronic</td>\n",
       "      <td>4</td>\n",
       "    </tr>\n",
       "    <tr>\n",
       "      <th>3</th>\n",
       "      <td>TRAABIG128F9356C56</td>\n",
       "      <td>wanna</td>\n",
       "      <td>24</td>\n",
       "      <td>electronic</td>\n",
       "      <td>5</td>\n",
       "    </tr>\n",
       "    <tr>\n",
       "      <th>4</th>\n",
       "      <td>TRAABIG128F9356C56</td>\n",
       "      <td>hey</td>\n",
       "      <td>23</td>\n",
       "      <td>electronic</td>\n",
       "      <td>3</td>\n",
       "    </tr>\n",
       "  </tbody>\n",
       "</table>\n",
       "</div>"
      ],
      "text/plain": [
       "             track_id   word  count genre_merged  lenword\n",
       "0  TRAABIG128F9356C56   walk     64   electronic        4\n",
       "1  TRAABIG128F9356C56   drum     28   electronic        4\n",
       "2  TRAABIG128F9356C56   beat     27   electronic        4\n",
       "3  TRAABIG128F9356C56  wanna     24   electronic        5\n",
       "4  TRAABIG128F9356C56    hey     23   electronic        3"
      ]
     },
     "execution_count": 54,
     "metadata": {},
     "output_type": "execute_result"
    }
   ],
   "source": [
    "df_length=df_length[['word','lenword']]\n",
    "df_lyrics_test=df_lyrics_test.merge(df_length,left_on='word',right_on='word',how='left')\n",
    "df_lyrics_test.head()"
   ]
  },
  {
   "cell_type": "code",
   "execution_count": 57,
   "metadata": {},
   "outputs": [
    {
     "data": {
      "text/html": [
       "<div>\n",
       "<style scoped>\n",
       "    .dataframe tbody tr th:only-of-type {\n",
       "        vertical-align: middle;\n",
       "    }\n",
       "\n",
       "    .dataframe tbody tr th {\n",
       "        vertical-align: top;\n",
       "    }\n",
       "\n",
       "    .dataframe thead th {\n",
       "        text-align: right;\n",
       "    }\n",
       "</style>\n",
       "<table border=\"1\" class=\"dataframe\">\n",
       "  <thead>\n",
       "    <tr style=\"text-align: right;\">\n",
       "      <th></th>\n",
       "      <th>lenword</th>\n",
       "      <th>track_id</th>\n",
       "    </tr>\n",
       "    <tr>\n",
       "      <th>track_id</th>\n",
       "      <th></th>\n",
       "      <th></th>\n",
       "    </tr>\n",
       "  </thead>\n",
       "  <tbody>\n",
       "    <tr>\n",
       "      <th>TRAABIG128F9356C56</th>\n",
       "      <td>4.524194</td>\n",
       "      <td>TRAABIG128F9356C56</td>\n",
       "    </tr>\n",
       "    <tr>\n",
       "      <th>TRAABLR128F423B7E3</th>\n",
       "      <td>4.686567</td>\n",
       "      <td>TRAABLR128F423B7E3</td>\n",
       "    </tr>\n",
       "    <tr>\n",
       "      <th>TRAABVM128F92CA9DC</th>\n",
       "      <td>4.883117</td>\n",
       "      <td>TRAABVM128F92CA9DC</td>\n",
       "    </tr>\n",
       "    <tr>\n",
       "      <th>TRAACER128F4290F96</th>\n",
       "      <td>4.364706</td>\n",
       "      <td>TRAACER128F4290F96</td>\n",
       "    </tr>\n",
       "    <tr>\n",
       "      <th>TRAACIE128F428495B</th>\n",
       "      <td>4.400000</td>\n",
       "      <td>TRAACIE128F428495B</td>\n",
       "    </tr>\n",
       "  </tbody>\n",
       "</table>\n",
       "</div>"
      ],
      "text/plain": [
       "                     lenword            track_id\n",
       "track_id                                        \n",
       "TRAABIG128F9356C56  4.524194  TRAABIG128F9356C56\n",
       "TRAABLR128F423B7E3  4.686567  TRAABLR128F423B7E3\n",
       "TRAABVM128F92CA9DC  4.883117  TRAABVM128F92CA9DC\n",
       "TRAACER128F4290F96  4.364706  TRAACER128F4290F96\n",
       "TRAACIE128F428495B  4.400000  TRAACIE128F428495B"
      ]
     },
     "execution_count": 57,
     "metadata": {},
     "output_type": "execute_result"
    }
   ],
   "source": [
    "df_lyrics_test2=df_lyrics_test.groupby(['track_id'])['lenword'].mean().to_frame()\n",
    "df_lyrics_test2[\"track_id\"] = df_lyrics_test2.index.get_values()\n",
    "df_lyrics_test2.head()"
   ]
  },
  {
   "cell_type": "markdown",
   "metadata": {},
   "source": [
    "# Proof-3: the length of words for each genre"
   ]
  },
  {
   "cell_type": "code",
   "execution_count": 61,
   "metadata": {},
   "outputs": [
    {
     "data": {
      "text/html": [
       "<div>\n",
       "<style scoped>\n",
       "    .dataframe tbody tr th:only-of-type {\n",
       "        vertical-align: middle;\n",
       "    }\n",
       "\n",
       "    .dataframe tbody tr th {\n",
       "        vertical-align: top;\n",
       "    }\n",
       "\n",
       "    .dataframe thead th {\n",
       "        text-align: right;\n",
       "    }\n",
       "</style>\n",
       "<table border=\"1\" class=\"dataframe\">\n",
       "  <thead>\n",
       "    <tr style=\"text-align: right;\">\n",
       "      <th></th>\n",
       "      <th>lenword</th>\n",
       "      <th>tag</th>\n",
       "    </tr>\n",
       "    <tr>\n",
       "      <th>genre_merged</th>\n",
       "      <th></th>\n",
       "      <th></th>\n",
       "    </tr>\n",
       "  </thead>\n",
       "  <tbody>\n",
       "    <tr>\n",
       "      <th>blues</th>\n",
       "      <td>4.437999</td>\n",
       "      <td>blues</td>\n",
       "    </tr>\n",
       "    <tr>\n",
       "      <th>classic rock</th>\n",
       "      <td>4.472697</td>\n",
       "      <td>classic rock</td>\n",
       "    </tr>\n",
       "    <tr>\n",
       "      <th>country</th>\n",
       "      <td>4.447689</td>\n",
       "      <td>country</td>\n",
       "    </tr>\n",
       "    <tr>\n",
       "      <th>electronic</th>\n",
       "      <td>4.481176</td>\n",
       "      <td>electronic</td>\n",
       "    </tr>\n",
       "    <tr>\n",
       "      <th>folk</th>\n",
       "      <td>4.487800</td>\n",
       "      <td>folk</td>\n",
       "    </tr>\n",
       "    <tr>\n",
       "      <th>hiphop</th>\n",
       "      <td>4.380469</td>\n",
       "      <td>hiphop</td>\n",
       "    </tr>\n",
       "    <tr>\n",
       "      <th>indie</th>\n",
       "      <td>4.485273</td>\n",
       "      <td>indie</td>\n",
       "    </tr>\n",
       "    <tr>\n",
       "      <th>jazz</th>\n",
       "      <td>4.429863</td>\n",
       "      <td>jazz</td>\n",
       "    </tr>\n",
       "    <tr>\n",
       "      <th>metal</th>\n",
       "      <td>4.597705</td>\n",
       "      <td>metal</td>\n",
       "    </tr>\n",
       "    <tr>\n",
       "      <th>pop</th>\n",
       "      <td>4.431456</td>\n",
       "      <td>pop</td>\n",
       "    </tr>\n",
       "    <tr>\n",
       "      <th>punk</th>\n",
       "      <td>4.491523</td>\n",
       "      <td>punk</td>\n",
       "    </tr>\n",
       "    <tr>\n",
       "      <th>rap</th>\n",
       "      <td>4.369665</td>\n",
       "      <td>rap</td>\n",
       "    </tr>\n",
       "    <tr>\n",
       "      <th>rock</th>\n",
       "      <td>4.471491</td>\n",
       "      <td>rock</td>\n",
       "    </tr>\n",
       "    <tr>\n",
       "      <th>soul</th>\n",
       "      <td>4.409793</td>\n",
       "      <td>soul</td>\n",
       "    </tr>\n",
       "  </tbody>\n",
       "</table>\n",
       "</div>"
      ],
      "text/plain": [
       "               lenword           tag\n",
       "genre_merged                        \n",
       "blues         4.437999         blues\n",
       "classic rock  4.472697  classic rock\n",
       "country       4.447689       country\n",
       "electronic    4.481176    electronic\n",
       "folk          4.487800          folk\n",
       "hiphop        4.380469        hiphop\n",
       "indie         4.485273         indie\n",
       "jazz          4.429863          jazz\n",
       "metal         4.597705         metal\n",
       "pop           4.431456           pop\n",
       "punk          4.491523          punk\n",
       "rap           4.369665           rap\n",
       "rock          4.471491          rock\n",
       "soul          4.409793          soul"
      ]
     },
     "execution_count": 61,
     "metadata": {},
     "output_type": "execute_result"
    }
   ],
   "source": [
    "df_lyrics_test3=df_lyrics_test.groupby(['genre_merged'])['lenword'].mean().to_frame()\n",
    "df_lyrics_test3['tag'] = df_lyrics_test3.index.get_values()\n",
    "df_lyrics_test3"
   ]
  },
  {
   "cell_type": "code",
   "execution_count": 67,
   "metadata": {},
   "outputs": [
    {
     "data": {
      "text/plain": [
       "<matplotlib.axes._subplots.AxesSubplot at 0x1a0e65e518>"
      ]
     },
     "execution_count": 67,
     "metadata": {},
     "output_type": "execute_result"
    },
    {
     "data": {
      "image/png": "[encoded data removed]",
      "text/plain": [
       "<matplotlib.figure.Figure at 0x1a0f105a20>"
      ]
     },
     "metadata": {},
     "output_type": "display_data"
    }
   ],
   "source": [
    "df_lyrics_test3.plot('tag','lenword',kind='bar',ylim=[4.35,4.65])"
   ]
  },
  {
   "cell_type": "markdown",
   "metadata": {},
   "source": [
    "# prepare the data for advanced model"
   ]
  },
  {
   "cell_type": "code",
   "execution_count": 79,
   "metadata": {},
   "outputs": [
    {
     "data": {
      "text/html": [
       "<div>\n",
       "<style scoped>\n",
       "    .dataframe tbody tr th:only-of-type {\n",
       "        vertical-align: middle;\n",
       "    }\n",
       "\n",
       "    .dataframe tbody tr th {\n",
       "        vertical-align: top;\n",
       "    }\n",
       "\n",
       "    .dataframe thead tr th {\n",
       "        text-align: left;\n",
       "    }\n",
       "</style>\n",
       "<table border=\"1\" class=\"dataframe\">\n",
       "  <thead>\n",
       "    <tr>\n",
       "      <th></th>\n",
       "      <th>sum_of_words</th>\n",
       "      <th>track_id</th>\n",
       "      <th>count_of_words</th>\n",
       "      <th>repeat_times</th>\n",
       "      <th>lenword</th>\n",
       "    </tr>\n",
       "  </thead>\n",
       "  <tbody>\n",
       "    <tr>\n",
       "      <th>0</th>\n",
       "      <td>392</td>\n",
       "      <td>TRAABIG128F9356C56</td>\n",
       "      <td>124</td>\n",
       "      <td>3.161290</td>\n",
       "      <td>4.524194</td>\n",
       "    </tr>\n",
       "    <tr>\n",
       "      <th>1</th>\n",
       "      <td>90</td>\n",
       "      <td>TRAABLR128F423B7E3</td>\n",
       "      <td>67</td>\n",
       "      <td>1.343284</td>\n",
       "      <td>4.686567</td>\n",
       "    </tr>\n",
       "    <tr>\n",
       "      <th>2</th>\n",
       "      <td>153</td>\n",
       "      <td>TRAABVM128F92CA9DC</td>\n",
       "      <td>77</td>\n",
       "      <td>1.987013</td>\n",
       "      <td>4.883117</td>\n",
       "    </tr>\n",
       "    <tr>\n",
       "      <th>3</th>\n",
       "      <td>130</td>\n",
       "      <td>TRAACER128F4290F96</td>\n",
       "      <td>85</td>\n",
       "      <td>1.529412</td>\n",
       "      <td>4.364706</td>\n",
       "    </tr>\n",
       "    <tr>\n",
       "      <th>4</th>\n",
       "      <td>96</td>\n",
       "      <td>TRAACIE128F428495B</td>\n",
       "      <td>75</td>\n",
       "      <td>1.280000</td>\n",
       "      <td>4.400000</td>\n",
       "    </tr>\n",
       "  </tbody>\n",
       "</table>\n",
       "</div>"
      ],
      "text/plain": [
       "  sum_of_words            track_id count_of_words repeat_times   lenword\n",
       "0          392  TRAABIG128F9356C56            124     3.161290  4.524194\n",
       "1           90  TRAABLR128F423B7E3             67     1.343284  4.686567\n",
       "2          153  TRAABVM128F92CA9DC             77     1.987013  4.883117\n",
       "3          130  TRAACER128F4290F96             85     1.529412  4.364706\n",
       "4           96  TRAACIE128F428495B             75     1.280000  4.400000"
      ]
     },
     "execution_count": 79,
     "metadata": {},
     "output_type": "execute_result"
    }
   ],
   "source": [
    "df_newfea=df_repeat.merge(df_lyrics_test2,on='track_id',how='left')\n",
    "df_newfea.columns=[['sum_of_words','track_id','count_of_words','repeat_times','lenword']]\n",
    "df_newfea.head()"
   ]
  },
  {
   "cell_type": "code",
   "execution_count": 80,
   "metadata": {},
   "outputs": [],
   "source": [
    "df_newfea.to_csv('new_features.csv',index=False)"
   ]
  }
 ],
 "metadata": {
  "kernelspec": {
   "display_name": "Python 3",
   "language": "python",
   "name": "python3"
  },
  "language_info": {
   "codemirror_mode": {
    "name": "ipython",
    "version": 3
   },
   "file_extension": ".py",
   "mimetype": "text/x-python",
   "name": "python",
   "nbconvert_exporter": "python",
   "pygments_lexer": "ipython3",
   "version": "3.6.4"
  }
 },
 "nbformat": 4,
 "nbformat_minor": 2
}
